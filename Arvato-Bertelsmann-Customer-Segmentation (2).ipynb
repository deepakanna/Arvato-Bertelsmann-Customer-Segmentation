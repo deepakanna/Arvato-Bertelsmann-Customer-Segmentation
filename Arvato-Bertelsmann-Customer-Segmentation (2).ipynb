{
 "cells": [
  {
   "cell_type": "markdown",
   "id": "86319e4e",
   "metadata": {},
   "source": [
    "## Capstone Project: Create a Customer Segmentation Report for Arvato Financial Services\n",
    "### In this project, you will analyze demographics data for customers of a mail-order sales company in Germany, comparing it against demographics information for the general population. You'll use unsupervised learning techniques to perform customer segmentation, identifying the parts of the population that best describe the core customer base of the company. Then, you'll apply what you've learned on a third dataset with demographics information for targets of a marketing campaign for the company, and use a model to predict which individuals are most likely to convert into becoming customers for the company. The data that you will use has been provided by our partners at Bertelsmann Arvato Analytics, and represents a real-life data science task.\n",
    "\n",
    "### The versions of those two datasets used in this project will include many more features and has not been pre-cleaned. You are also free to choose whatever approach you'd like to analyzing the data rather than follow pre-determined steps. In your work on this project, make sure that you carefully document your steps and decisions, since your main deliverable for this project will be a blog post reporting your findings."
   ]
  },
  {
   "cell_type": "markdown",
   "id": "ef6ad570",
   "metadata": {},
   "source": [
    "## Import the required libraries"
   ]
  },
  {
   "cell_type": "code",
   "execution_count": 2,
   "id": "339b3419",
   "metadata": {},
   "outputs": [],
   "source": [
    "import pandas as pd\n",
    "import numpy as np\n",
    "from sklearn.impute import SimpleImputer\n",
    "import seaborn as sns\n",
    "import matplotlib.pyplot as plt\n",
    "from sklearn.preprocessing import MinMaxScaler\n",
    "from sklearn.decomposition import PCA\n",
    "from sklearn.cluster import KMeans\n",
    "from sklearn.pipeline import Pipeline"
   ]
  },
  {
   "cell_type": "code",
   "execution_count": 3,
   "id": "6baa549b",
   "metadata": {},
   "outputs": [],
   "source": [
    "## Supervised Learning Model\n",
    "\n",
    "from sklearn.linear_model import LogisticRegression\n",
    "from sklearn.linear_model import SGDClassifier\n",
    "from sklearn import linear_model\n",
    "from sklearn.neighbors import KNeighborsClassifier\n",
    "from sklearn.tree import DecisionTreeClassifier\n",
    "from sklearn.ensemble import AdaBoostClassifier\n",
    "from sklearn.ensemble import GradientBoostingClassifier\n",
    "from sklearn.neural_network import MLPClassifier\n",
    "from sklearn.metrics import roc_auc_score\n",
    "from sklearn.model_selection import GridSearchCV\n",
    "from sklearn.model_selection import train_test_split"
   ]
  },
  {
   "cell_type": "markdown",
   "id": "e6f39b95",
   "metadata": {},
   "source": [
    "## Part 0: Get to Know the Data\n",
    "\n",
    "There are four data files associated with this project:\n",
    "\n",
    "- `Udacity_AZDIAS_052018.csv`: Demographics data for the general population of Germany; 891 211 persons (rows) x 366 features (columns).\n",
    "- `Udacity_CUSTOMERS_052018.csv`: Demographics data for customers of a mail-order company; 191 652 persons (rows) x 369 features (columns).\n",
    "- `Udacity_MAILOUT_052018_TRAIN.csv`: Demographics data for individuals who were targets of a marketing campaign; 42 982 persons (rows) x 367 (columns).\n",
    "- `Udacity_MAILOUT_052018_TEST.csv`: Demographics data for individuals who were targets of a marketing campaign; 42 833 persons (rows) x 366 (columns).\n",
    "\n",
    "Each row of the demographics files represents a single person, but also includes information outside of individuals, including information about their household, building, and neighborhood. Use the information from the first two files to figure out how customers (\"CUSTOMERS\") are similar to or differ from the general population at large (\"AZDIAS\"), then use your analysis to make predictions on the other two files (\"MAILOUT\"), predicting which recipients are most likely to become a customer for the mail-order company.\n",
    "\n",
    "The \"CUSTOMERS\" file contains three extra columns ('CUSTOMER_GROUP', 'ONLINE_PURCHASE', and 'PRODUCT_GROUP'), which provide broad information about the customers depicted in the file. The original \"MAILOUT\" file included one additional column, \"RESPONSE\", which indicated whether or not each recipient became a customer of the company. For the \"TRAIN\" subset, this column has been retained, but in the \"TEST\" subset it has been removed; it is against that withheld column that your final predictions will be assessed in the Kaggle competition.\n",
    "\n",
    "Otherwise, all of the remaining columns are the same between the three data files. For more information about the columns depicted in the files, you can refer to two Excel spreadsheets provided in the workspace. [One of them](./DIAS Information Levels - Attributes 2017.xlsx) is a top-level list of attributes and descriptions, organized by informational category. [The other](./DIAS Attributes - Values 2017.xlsx) is a detailed mapping of data values for each feature in alphabetical order.\n",
    "\n",
    "In the below cell, we've provided some initial code to load in the first two datasets. Note for all of the `.csv` data files in this project that they're semicolon (`;`) delimited, so an additional argument in the [`read_csv()`](https://pandas.pydata.org/pandas-docs/stable/generated/pandas.read_csv.html) call has been included to read in the data properly. Also, considering the size of the datasets, it may take some time for them to load completely.\n",
    "\n",
    "You'll notice when the data is loaded in that a warning message will immediately pop up. Before you really start digging into the modeling and analysis, you're going to need to perform some cleaning. Take some time to browse the structure of the data and look over the informational spreadsheets to understand the data values. Make some decisions on which features to keep, which features to drop, and if any revisions need to be made on data formats. It'll be a good idea to create a function with pre-processing steps, since you'll need to clean all of the datasets before you work with them."
   ]
  },
  {
   "cell_type": "markdown",
   "id": "a04dbecb",
   "metadata": {},
   "source": [
    "## Functions to Clean, Transform and Cluster the dataset.\n",
    "### The columns with 80% missing values are removed. \n",
    "### Replace all unknown values by numpy nan. \n",
    "### Use simple Imputer to fill the missing values\n",
    "### Remove the highly correlated features\n",
    "### Convert the categorical attributes into dummy variables"
   ]
  },
  {
   "cell_type": "code",
   "execution_count": 9,
   "id": "be20a865",
   "metadata": {},
   "outputs": [],
   "source": [
    "def clean_data(df):\n",
    "    \n",
    "    '''\n",
    "    INPUT:\n",
    "    \n",
    "    df - (pandas dataframe) df as defined at the top of the notebook \n",
    "    \n",
    "    OUTPUT:\n",
    "    df2 - (pandas dataframe) Cleaned DataFrame \n",
    "    \n",
    "    '''\n",
    "    \n",
    "    \n",
    "    # Drop columns with 80% missing values\n",
    "    \n",
    "    cols=df.columns\n",
    "    min=int(0.2*df.shape[0]+1)\n",
    "    df.shape\n",
    "    df.dropna(axis=1,thresh=min,inplace=True)\n",
    "    cols1=df.columns\n",
    "    print('Columns with 80% missing values are removed')\n",
    "    \n",
    "    # Replace unknown value with np.nan\n",
    "    \n",
    "    attrib=pd.read_excel('DIAS Attributes - Values 2017.xlsx',skiprows=1)\n",
    "    cl=attrib[attrib.Meaning.str.contains('unknown',na=False)].Attribute.to_list()\n",
    "    for c in cl:\n",
    "        if(c in df.columns):\n",
    "            df[c].replace([-1,0,9],np.nan,inplace=True)\n",
    "    df.astype(df.dtypes)\n",
    "    print('Unknown values are replaced by numpy nan values')\n",
    "    \n",
    "    # Use Simple Imputer to fill np.nan with most frequent value\n",
    "    \n",
    "    imp=SimpleImputer(missing_values=np.nan,strategy='most_frequent')\n",
    "    imp.fit(df)\n",
    "    dff=pd.DataFrame(imp.transform(df),columns=cols1).astype(df.dtypes)\n",
    "    print('Simple Imputer with \"most_frequent\" as the strategy is used to fill missing values')\n",
    "    \n",
    "    # Remove highly correlated features\n",
    "    \n",
    "    col_num=dff.select_dtypes(include='number').columns.to_list()\n",
    "    df_num=dff[col_num]\n",
    "    correlations=df_num.corr()\n",
    "    corr_cols=[]\n",
    "    row=correlations.index\n",
    "    col=correlations.columns\n",
    "    for i in row:\n",
    "        for j in col:\n",
    "            if(i!=j and correlations[i][j]>0.9 or correlations[i][j]<-0.9):\n",
    "                corr_cols.append(j)\n",
    "    for i in corr_cols:\n",
    "        dff.drop(i,axis=1,inplace=True,errors='ignore')\n",
    "    print('Highly correlated features are determined using pearsons correlation and removed')\n",
    "    \n",
    "    # Handle Categorical Data\n",
    "    \n",
    "    categorical=dff.select_dtypes(exclude='number').columns.to_list()\n",
    "    #print(categorical)\n",
    "    dff.drop(['CAMEO_DEU_2015','CAMEO_INTL_2015'],axis=1,inplace=True)\n",
    "    dm1=pd.get_dummies(dff['CAMEO_DEUG_2015'],prefix='class',dummy_na=False)\n",
    "    df2=pd.concat([dff,dm1],axis=1)\n",
    "    dm2=pd.get_dummies(dff['D19_LETZTER_KAUF_BRANCHE'])\n",
    "    df2=pd.concat([df2,dm2],axis=1)\n",
    "    dm3=pd.get_dummies(dff['OST_WEST_KZ'],prefix='direction')\n",
    "    df2=pd.concat([df2,dm3],axis=1)\n",
    "    df2['EINGEFUEGT_AM']=pd.to_datetime(df2['EINGEFUEGT_AM'])\n",
    "    df2['year']=df2['EINGEFUEGT_AM'].dt.year\n",
    "    df2.drop(['EINGEFUEGT_AM','OST_WEST_KZ','D19_LETZTER_KAUF_BRANCHE','CAMEO_DEUG_2015'],axis=1,inplace=True)\n",
    "    print('The following categorical attributes are converted to dummy variables ',categorical)\n",
    "    try:\n",
    "        dm4=pd.get_dummies(dff['PRODUCT_GROUP'])\n",
    "        df2=pd.concat([df2,dm4],axis=1)\n",
    "        dm5=pd.get_dummies(dff['CUSTOMER_GROUP'])\n",
    "        df2=pd.concat([df2,dm5],axis=1)\n",
    "        df2.drop(['PRODUCT_GROUP','CUSTOMER_GROUP'],axis=1,inplace=True)\n",
    "        print('The PRODUCT_GROUP and CUSTOMER_GROUP attributes are converted to dummy variables')\n",
    "    except:\n",
    "        pass\n",
    "    \n",
    "    return df2"
   ]
  },
  {
   "cell_type": "markdown",
   "id": "d5f51682",
   "metadata": {},
   "source": [
    "## Transform the dataset using MinMax Normalization and \n",
    "## reduce the dimensionality using PCA\n"
   ]
  },
  {
   "cell_type": "code",
   "execution_count": 4,
   "id": "f2ca8ceb",
   "metadata": {},
   "outputs": [],
   "source": [
    "\n",
    "def transformation(df):\n",
    "    '''\n",
    "    INPUT:\n",
    "    df - (pandas dataframe) cleaned DataFrame  \n",
    "    \n",
    "    OUTPUT:\n",
    "    dff - (pandas dataframe) DataFrame that is dimensionally reduced and normalized \n",
    "    \n",
    "    '''\n",
    "    scaler=MinMaxScaler()\n",
    "    scaled=scaler.fit_transform(df)\n",
    "\n",
    "    df_processed=pd.DataFrame(scaled,columns=df.columns,index=df.index)\n",
    "    print('The data is normalized using Min Max normalization')\n",
    "    # Deciding on the number of components for PCA\n",
    "    pca1=PCA()\n",
    "    pca1.fit_transform(df_processed)\n",
    "    fig,ax=plt.subplots()\n",
    "    col=df.shape[1]\n",
    "    xi=np.arange(1,col+1)\n",
    "    yi=np.cumsum(pca1.explained_variance_ratio_)\n",
    "    plt.plot(xi,yi,label='Individual Variance',marker='o')\n",
    "    plt.xlabel('Principal Components')\n",
    "    plt.ylabel('Variance Ratio')\n",
    "    plt.axhline(y=0.85,color='r',linestyle='-')\n",
    "    ax.grid(axis='x')\n",
    "    plt.show()\n",
    "    for i in np.arange(10, 200, 10):\n",
    "        print('{} components explain {} of variance.'.format(i, pca1.explained_variance_ratio_[:i].sum()))\n",
    "    pca1=PCA(n_components=150)\n",
    "    pc=pca1.fit_transform(df_processed)\n",
    "    #pca_variance=pca.explained_variance_\n",
    "\n",
    "\n",
    "    pca_df=pd.DataFrame(pca1.components_,columns=df_processed.columns)\n",
    "    pca_df=abs(pca_df)\n",
    "\n",
    "    pca_list=list(pca_df.idxmax(axis=1))\n",
    "\n",
    "    #dff=df_processed[pca_list]\n",
    "    col=df.columns.to_list()\n",
    "    inter=list(set(col) & set(pca_list))\n",
    "    dff=df_processed[inter]\n",
    "    fc=dff.pop('LNR')\n",
    "    dff.insert(0,'LNR',fc)\n",
    "    return dff"
   ]
  },
  {
   "cell_type": "markdown",
   "id": "8d7b05a4",
   "metadata": {},
   "source": [
    "### The dataset is divided into clusters using KMeans Clustering\n",
    "### The number of clusters is determined using Elbow method "
   ]
  },
  {
   "cell_type": "code",
   "execution_count": 18,
   "id": "48384212",
   "metadata": {},
   "outputs": [],
   "source": [
    "# Segment the Dataset into Clusters using KMeans Clustering\n",
    "def segmentation(pca_df):\n",
    "    '''\n",
    "    INPUT:\n",
    "   \n",
    "    pca_df - (pandas DataFrame) Dimensionally reduced and normalized dataframe \n",
    "    \n",
    "    OUTPUT:\n",
    "    \n",
    "    pca_df - (pandas DataFrame) Clustered dataframe  \n",
    "    \n",
    "    '''\n",
    "    distortions=[]\n",
    "    k=np.arange(1,20)\n",
    "    for i in k:\n",
    "        km=KMeans(n_clusters=i)\n",
    "        km.fit(pca_df)\n",
    "        distortions.append(km.inertia_)\n",
    "\n",
    "    plt.plot(k,distortions,label='Elbow method')\n",
    "    plt.xlabel('No. of Clusters')\n",
    "    plt.ylabel('Distortion')\n",
    "    plt.show()\n",
    "    nc=int(input(\"Enter the no, of clusters seeing the graph from Elbow method : \"))\n",
    "    print(\"The number of clusters passed as parameter to KMeans Clustering is \",nc)\n",
    "    km=KMeans(n_clusters=nc)\n",
    "    label=km.fit_predict(pca_df)\n",
    "                                                \n",
    "    pca_df['cluster']=label\n",
    "    return pca_df"
   ]
  },
  {
   "cell_type": "markdown",
   "id": "c4bc05ba",
   "metadata": {},
   "source": [
    "## Load Azdias Dataset"
   ]
  },
  {
   "cell_type": "code",
   "execution_count": 15,
   "id": "e20ed08c",
   "metadata": {},
   "outputs": [],
   "source": [
    "df_azdias=pd.read_csv(\"Udacity_AZDIAS_052018.csv\",sep=\";\",low_memory=False)"
   ]
  },
  {
   "cell_type": "code",
   "execution_count": 27,
   "id": "8d3be1c2",
   "metadata": {},
   "outputs": [
    {
     "data": {
      "text/plain": [
       "(891221, 366)"
      ]
     },
     "execution_count": 27,
     "metadata": {},
     "output_type": "execute_result"
    }
   ],
   "source": [
    "df_azdias.shape"
   ]
  },
  {
   "cell_type": "code",
   "execution_count": 6,
   "id": "d22f39d1",
   "metadata": {},
   "outputs": [
    {
     "data": {
      "text/html": [
       "<div>\n",
       "<style scoped>\n",
       "    .dataframe tbody tr th:only-of-type {\n",
       "        vertical-align: middle;\n",
       "    }\n",
       "\n",
       "    .dataframe tbody tr th {\n",
       "        vertical-align: top;\n",
       "    }\n",
       "\n",
       "    .dataframe thead th {\n",
       "        text-align: right;\n",
       "    }\n",
       "</style>\n",
       "<table border=\"1\" class=\"dataframe\">\n",
       "  <thead>\n",
       "    <tr style=\"text-align: right;\">\n",
       "      <th></th>\n",
       "      <th>LNR</th>\n",
       "      <th>AGER_TYP</th>\n",
       "      <th>AKT_DAT_KL</th>\n",
       "      <th>ALTER_HH</th>\n",
       "      <th>ALTER_KIND1</th>\n",
       "      <th>ALTER_KIND2</th>\n",
       "      <th>ALTER_KIND3</th>\n",
       "      <th>ALTER_KIND4</th>\n",
       "      <th>ALTERSKATEGORIE_FEIN</th>\n",
       "      <th>ANZ_HAUSHALTE_AKTIV</th>\n",
       "      <th>...</th>\n",
       "      <th>VHN</th>\n",
       "      <th>VK_DHT4A</th>\n",
       "      <th>VK_DISTANZ</th>\n",
       "      <th>VK_ZG11</th>\n",
       "      <th>W_KEIT_KIND_HH</th>\n",
       "      <th>WOHNDAUER_2008</th>\n",
       "      <th>WOHNLAGE</th>\n",
       "      <th>ZABEOTYP</th>\n",
       "      <th>ANREDE_KZ</th>\n",
       "      <th>ALTERSKATEGORIE_GROB</th>\n",
       "    </tr>\n",
       "  </thead>\n",
       "  <tbody>\n",
       "    <tr>\n",
       "      <th>0</th>\n",
       "      <td>910215</td>\n",
       "      <td>-1</td>\n",
       "      <td>NaN</td>\n",
       "      <td>NaN</td>\n",
       "      <td>NaN</td>\n",
       "      <td>NaN</td>\n",
       "      <td>NaN</td>\n",
       "      <td>NaN</td>\n",
       "      <td>NaN</td>\n",
       "      <td>NaN</td>\n",
       "      <td>...</td>\n",
       "      <td>NaN</td>\n",
       "      <td>NaN</td>\n",
       "      <td>NaN</td>\n",
       "      <td>NaN</td>\n",
       "      <td>NaN</td>\n",
       "      <td>NaN</td>\n",
       "      <td>NaN</td>\n",
       "      <td>3</td>\n",
       "      <td>1</td>\n",
       "      <td>2</td>\n",
       "    </tr>\n",
       "    <tr>\n",
       "      <th>1</th>\n",
       "      <td>910220</td>\n",
       "      <td>-1</td>\n",
       "      <td>9.0</td>\n",
       "      <td>0.0</td>\n",
       "      <td>NaN</td>\n",
       "      <td>NaN</td>\n",
       "      <td>NaN</td>\n",
       "      <td>NaN</td>\n",
       "      <td>21.0</td>\n",
       "      <td>11.0</td>\n",
       "      <td>...</td>\n",
       "      <td>4.0</td>\n",
       "      <td>8.0</td>\n",
       "      <td>11.0</td>\n",
       "      <td>10.0</td>\n",
       "      <td>3.0</td>\n",
       "      <td>9.0</td>\n",
       "      <td>4.0</td>\n",
       "      <td>5</td>\n",
       "      <td>2</td>\n",
       "      <td>1</td>\n",
       "    </tr>\n",
       "    <tr>\n",
       "      <th>2</th>\n",
       "      <td>910225</td>\n",
       "      <td>-1</td>\n",
       "      <td>9.0</td>\n",
       "      <td>17.0</td>\n",
       "      <td>NaN</td>\n",
       "      <td>NaN</td>\n",
       "      <td>NaN</td>\n",
       "      <td>NaN</td>\n",
       "      <td>17.0</td>\n",
       "      <td>10.0</td>\n",
       "      <td>...</td>\n",
       "      <td>2.0</td>\n",
       "      <td>9.0</td>\n",
       "      <td>9.0</td>\n",
       "      <td>6.0</td>\n",
       "      <td>3.0</td>\n",
       "      <td>9.0</td>\n",
       "      <td>2.0</td>\n",
       "      <td>5</td>\n",
       "      <td>2</td>\n",
       "      <td>3</td>\n",
       "    </tr>\n",
       "    <tr>\n",
       "      <th>3</th>\n",
       "      <td>910226</td>\n",
       "      <td>2</td>\n",
       "      <td>1.0</td>\n",
       "      <td>13.0</td>\n",
       "      <td>NaN</td>\n",
       "      <td>NaN</td>\n",
       "      <td>NaN</td>\n",
       "      <td>NaN</td>\n",
       "      <td>13.0</td>\n",
       "      <td>1.0</td>\n",
       "      <td>...</td>\n",
       "      <td>0.0</td>\n",
       "      <td>7.0</td>\n",
       "      <td>10.0</td>\n",
       "      <td>11.0</td>\n",
       "      <td>NaN</td>\n",
       "      <td>9.0</td>\n",
       "      <td>7.0</td>\n",
       "      <td>3</td>\n",
       "      <td>2</td>\n",
       "      <td>4</td>\n",
       "    </tr>\n",
       "    <tr>\n",
       "      <th>4</th>\n",
       "      <td>910241</td>\n",
       "      <td>-1</td>\n",
       "      <td>1.0</td>\n",
       "      <td>20.0</td>\n",
       "      <td>NaN</td>\n",
       "      <td>NaN</td>\n",
       "      <td>NaN</td>\n",
       "      <td>NaN</td>\n",
       "      <td>14.0</td>\n",
       "      <td>3.0</td>\n",
       "      <td>...</td>\n",
       "      <td>2.0</td>\n",
       "      <td>3.0</td>\n",
       "      <td>5.0</td>\n",
       "      <td>4.0</td>\n",
       "      <td>2.0</td>\n",
       "      <td>9.0</td>\n",
       "      <td>3.0</td>\n",
       "      <td>4</td>\n",
       "      <td>1</td>\n",
       "      <td>3</td>\n",
       "    </tr>\n",
       "  </tbody>\n",
       "</table>\n",
       "<p>5 rows × 366 columns</p>\n",
       "</div>"
      ],
      "text/plain": [
       "      LNR  AGER_TYP  AKT_DAT_KL  ALTER_HH  ALTER_KIND1  ALTER_KIND2  \\\n",
       "0  910215        -1         NaN       NaN          NaN          NaN   \n",
       "1  910220        -1         9.0       0.0          NaN          NaN   \n",
       "2  910225        -1         9.0      17.0          NaN          NaN   \n",
       "3  910226         2         1.0      13.0          NaN          NaN   \n",
       "4  910241        -1         1.0      20.0          NaN          NaN   \n",
       "\n",
       "   ALTER_KIND3  ALTER_KIND4  ALTERSKATEGORIE_FEIN  ANZ_HAUSHALTE_AKTIV  ...  \\\n",
       "0          NaN          NaN                   NaN                  NaN  ...   \n",
       "1          NaN          NaN                  21.0                 11.0  ...   \n",
       "2          NaN          NaN                  17.0                 10.0  ...   \n",
       "3          NaN          NaN                  13.0                  1.0  ...   \n",
       "4          NaN          NaN                  14.0                  3.0  ...   \n",
       "\n",
       "   VHN  VK_DHT4A  VK_DISTANZ  VK_ZG11  W_KEIT_KIND_HH  WOHNDAUER_2008  \\\n",
       "0  NaN       NaN         NaN      NaN             NaN             NaN   \n",
       "1  4.0       8.0        11.0     10.0             3.0             9.0   \n",
       "2  2.0       9.0         9.0      6.0             3.0             9.0   \n",
       "3  0.0       7.0        10.0     11.0             NaN             9.0   \n",
       "4  2.0       3.0         5.0      4.0             2.0             9.0   \n",
       "\n",
       "   WOHNLAGE ZABEOTYP ANREDE_KZ ALTERSKATEGORIE_GROB  \n",
       "0       NaN        3         1                    2  \n",
       "1       4.0        5         2                    1  \n",
       "2       2.0        5         2                    3  \n",
       "3       7.0        3         2                    4  \n",
       "4       3.0        4         1                    3  \n",
       "\n",
       "[5 rows x 366 columns]"
      ]
     },
     "execution_count": 6,
     "metadata": {},
     "output_type": "execute_result"
    }
   ],
   "source": [
    "df_azdias.head()"
   ]
  },
  {
   "cell_type": "code",
   "execution_count": 7,
   "id": "116457d5",
   "metadata": {},
   "outputs": [
    {
     "name": "stdout",
     "output_type": "stream",
     "text": [
      "<class 'pandas.core.frame.DataFrame'>\n",
      "RangeIndex: 891221 entries, 0 to 891220\n",
      "Columns: 366 entries, LNR to ALTERSKATEGORIE_GROB\n",
      "dtypes: float64(267), int64(93), object(6)\n",
      "memory usage: 2.4+ GB\n"
     ]
    }
   ],
   "source": [
    "df_azdias.info()"
   ]
  },
  {
   "cell_type": "code",
   "execution_count": 8,
   "id": "36ce6615",
   "metadata": {},
   "outputs": [
    {
     "data": {
      "text/html": [
       "<div>\n",
       "<style scoped>\n",
       "    .dataframe tbody tr th:only-of-type {\n",
       "        vertical-align: middle;\n",
       "    }\n",
       "\n",
       "    .dataframe tbody tr th {\n",
       "        vertical-align: top;\n",
       "    }\n",
       "\n",
       "    .dataframe thead th {\n",
       "        text-align: right;\n",
       "    }\n",
       "</style>\n",
       "<table border=\"1\" class=\"dataframe\">\n",
       "  <thead>\n",
       "    <tr style=\"text-align: right;\">\n",
       "      <th></th>\n",
       "      <th>LNR</th>\n",
       "      <th>AGER_TYP</th>\n",
       "      <th>AKT_DAT_KL</th>\n",
       "      <th>ALTER_HH</th>\n",
       "      <th>ALTER_KIND1</th>\n",
       "      <th>ALTER_KIND2</th>\n",
       "      <th>ALTER_KIND3</th>\n",
       "      <th>ALTER_KIND4</th>\n",
       "      <th>ALTERSKATEGORIE_FEIN</th>\n",
       "      <th>ANZ_HAUSHALTE_AKTIV</th>\n",
       "      <th>...</th>\n",
       "      <th>VHN</th>\n",
       "      <th>VK_DHT4A</th>\n",
       "      <th>VK_DISTANZ</th>\n",
       "      <th>VK_ZG11</th>\n",
       "      <th>W_KEIT_KIND_HH</th>\n",
       "      <th>WOHNDAUER_2008</th>\n",
       "      <th>WOHNLAGE</th>\n",
       "      <th>ZABEOTYP</th>\n",
       "      <th>ANREDE_KZ</th>\n",
       "      <th>ALTERSKATEGORIE_GROB</th>\n",
       "    </tr>\n",
       "  </thead>\n",
       "  <tbody>\n",
       "    <tr>\n",
       "      <th>count</th>\n",
       "      <td>8.912210e+05</td>\n",
       "      <td>891221.000000</td>\n",
       "      <td>817722.000000</td>\n",
       "      <td>817722.000000</td>\n",
       "      <td>81058.000000</td>\n",
       "      <td>29499.000000</td>\n",
       "      <td>6170.000000</td>\n",
       "      <td>1205.000000</td>\n",
       "      <td>628274.000000</td>\n",
       "      <td>798073.000000</td>\n",
       "      <td>...</td>\n",
       "      <td>770025.000000</td>\n",
       "      <td>815304.000000</td>\n",
       "      <td>815304.000000</td>\n",
       "      <td>815304.000000</td>\n",
       "      <td>783619.000000</td>\n",
       "      <td>817722.000000</td>\n",
       "      <td>798073.000000</td>\n",
       "      <td>891221.000000</td>\n",
       "      <td>891221.000000</td>\n",
       "      <td>891221.000000</td>\n",
       "    </tr>\n",
       "    <tr>\n",
       "      <th>mean</th>\n",
       "      <td>6.372630e+05</td>\n",
       "      <td>-0.358435</td>\n",
       "      <td>4.421928</td>\n",
       "      <td>10.864126</td>\n",
       "      <td>11.745392</td>\n",
       "      <td>13.402658</td>\n",
       "      <td>14.476013</td>\n",
       "      <td>15.089627</td>\n",
       "      <td>13.700717</td>\n",
       "      <td>8.287263</td>\n",
       "      <td>...</td>\n",
       "      <td>2.417322</td>\n",
       "      <td>6.001214</td>\n",
       "      <td>7.532130</td>\n",
       "      <td>5.945972</td>\n",
       "      <td>3.933406</td>\n",
       "      <td>7.908791</td>\n",
       "      <td>4.052836</td>\n",
       "      <td>3.362438</td>\n",
       "      <td>1.522098</td>\n",
       "      <td>2.777398</td>\n",
       "    </tr>\n",
       "    <tr>\n",
       "      <th>std</th>\n",
       "      <td>2.572735e+05</td>\n",
       "      <td>1.198724</td>\n",
       "      <td>3.638805</td>\n",
       "      <td>7.639683</td>\n",
       "      <td>4.097660</td>\n",
       "      <td>3.243300</td>\n",
       "      <td>2.712427</td>\n",
       "      <td>2.452932</td>\n",
       "      <td>5.079849</td>\n",
       "      <td>15.628087</td>\n",
       "      <td>...</td>\n",
       "      <td>1.166572</td>\n",
       "      <td>2.856091</td>\n",
       "      <td>3.247789</td>\n",
       "      <td>2.771464</td>\n",
       "      <td>1.964701</td>\n",
       "      <td>1.923137</td>\n",
       "      <td>1.949539</td>\n",
       "      <td>1.352704</td>\n",
       "      <td>0.499512</td>\n",
       "      <td>1.068775</td>\n",
       "    </tr>\n",
       "    <tr>\n",
       "      <th>min</th>\n",
       "      <td>1.916530e+05</td>\n",
       "      <td>-1.000000</td>\n",
       "      <td>1.000000</td>\n",
       "      <td>0.000000</td>\n",
       "      <td>2.000000</td>\n",
       "      <td>2.000000</td>\n",
       "      <td>4.000000</td>\n",
       "      <td>7.000000</td>\n",
       "      <td>0.000000</td>\n",
       "      <td>0.000000</td>\n",
       "      <td>...</td>\n",
       "      <td>0.000000</td>\n",
       "      <td>1.000000</td>\n",
       "      <td>1.000000</td>\n",
       "      <td>1.000000</td>\n",
       "      <td>0.000000</td>\n",
       "      <td>1.000000</td>\n",
       "      <td>0.000000</td>\n",
       "      <td>1.000000</td>\n",
       "      <td>1.000000</td>\n",
       "      <td>1.000000</td>\n",
       "    </tr>\n",
       "    <tr>\n",
       "      <th>25%</th>\n",
       "      <td>4.144580e+05</td>\n",
       "      <td>-1.000000</td>\n",
       "      <td>1.000000</td>\n",
       "      <td>0.000000</td>\n",
       "      <td>8.000000</td>\n",
       "      <td>11.000000</td>\n",
       "      <td>13.000000</td>\n",
       "      <td>14.000000</td>\n",
       "      <td>11.000000</td>\n",
       "      <td>1.000000</td>\n",
       "      <td>...</td>\n",
       "      <td>2.000000</td>\n",
       "      <td>3.000000</td>\n",
       "      <td>5.000000</td>\n",
       "      <td>4.000000</td>\n",
       "      <td>2.000000</td>\n",
       "      <td>8.000000</td>\n",
       "      <td>3.000000</td>\n",
       "      <td>3.000000</td>\n",
       "      <td>1.000000</td>\n",
       "      <td>2.000000</td>\n",
       "    </tr>\n",
       "    <tr>\n",
       "      <th>50%</th>\n",
       "      <td>6.372630e+05</td>\n",
       "      <td>-1.000000</td>\n",
       "      <td>3.000000</td>\n",
       "      <td>13.000000</td>\n",
       "      <td>12.000000</td>\n",
       "      <td>14.000000</td>\n",
       "      <td>15.000000</td>\n",
       "      <td>15.000000</td>\n",
       "      <td>14.000000</td>\n",
       "      <td>4.000000</td>\n",
       "      <td>...</td>\n",
       "      <td>2.000000</td>\n",
       "      <td>6.000000</td>\n",
       "      <td>8.000000</td>\n",
       "      <td>6.000000</td>\n",
       "      <td>4.000000</td>\n",
       "      <td>9.000000</td>\n",
       "      <td>3.000000</td>\n",
       "      <td>3.000000</td>\n",
       "      <td>2.000000</td>\n",
       "      <td>3.000000</td>\n",
       "    </tr>\n",
       "    <tr>\n",
       "      <th>75%</th>\n",
       "      <td>8.600680e+05</td>\n",
       "      <td>-1.000000</td>\n",
       "      <td>9.000000</td>\n",
       "      <td>17.000000</td>\n",
       "      <td>15.000000</td>\n",
       "      <td>16.000000</td>\n",
       "      <td>17.000000</td>\n",
       "      <td>17.000000</td>\n",
       "      <td>17.000000</td>\n",
       "      <td>9.000000</td>\n",
       "      <td>...</td>\n",
       "      <td>3.000000</td>\n",
       "      <td>9.000000</td>\n",
       "      <td>10.000000</td>\n",
       "      <td>8.000000</td>\n",
       "      <td>6.000000</td>\n",
       "      <td>9.000000</td>\n",
       "      <td>5.000000</td>\n",
       "      <td>4.000000</td>\n",
       "      <td>2.000000</td>\n",
       "      <td>4.000000</td>\n",
       "    </tr>\n",
       "    <tr>\n",
       "      <th>max</th>\n",
       "      <td>1.082873e+06</td>\n",
       "      <td>3.000000</td>\n",
       "      <td>9.000000</td>\n",
       "      <td>21.000000</td>\n",
       "      <td>18.000000</td>\n",
       "      <td>18.000000</td>\n",
       "      <td>18.000000</td>\n",
       "      <td>18.000000</td>\n",
       "      <td>25.000000</td>\n",
       "      <td>595.000000</td>\n",
       "      <td>...</td>\n",
       "      <td>4.000000</td>\n",
       "      <td>11.000000</td>\n",
       "      <td>13.000000</td>\n",
       "      <td>11.000000</td>\n",
       "      <td>6.000000</td>\n",
       "      <td>9.000000</td>\n",
       "      <td>8.000000</td>\n",
       "      <td>6.000000</td>\n",
       "      <td>2.000000</td>\n",
       "      <td>9.000000</td>\n",
       "    </tr>\n",
       "  </tbody>\n",
       "</table>\n",
       "<p>8 rows × 360 columns</p>\n",
       "</div>"
      ],
      "text/plain": [
       "                LNR       AGER_TYP     AKT_DAT_KL       ALTER_HH  \\\n",
       "count  8.912210e+05  891221.000000  817722.000000  817722.000000   \n",
       "mean   6.372630e+05      -0.358435       4.421928      10.864126   \n",
       "std    2.572735e+05       1.198724       3.638805       7.639683   \n",
       "min    1.916530e+05      -1.000000       1.000000       0.000000   \n",
       "25%    4.144580e+05      -1.000000       1.000000       0.000000   \n",
       "50%    6.372630e+05      -1.000000       3.000000      13.000000   \n",
       "75%    8.600680e+05      -1.000000       9.000000      17.000000   \n",
       "max    1.082873e+06       3.000000       9.000000      21.000000   \n",
       "\n",
       "        ALTER_KIND1   ALTER_KIND2  ALTER_KIND3  ALTER_KIND4  \\\n",
       "count  81058.000000  29499.000000  6170.000000  1205.000000   \n",
       "mean      11.745392     13.402658    14.476013    15.089627   \n",
       "std        4.097660      3.243300     2.712427     2.452932   \n",
       "min        2.000000      2.000000     4.000000     7.000000   \n",
       "25%        8.000000     11.000000    13.000000    14.000000   \n",
       "50%       12.000000     14.000000    15.000000    15.000000   \n",
       "75%       15.000000     16.000000    17.000000    17.000000   \n",
       "max       18.000000     18.000000    18.000000    18.000000   \n",
       "\n",
       "       ALTERSKATEGORIE_FEIN  ANZ_HAUSHALTE_AKTIV  ...            VHN  \\\n",
       "count         628274.000000        798073.000000  ...  770025.000000   \n",
       "mean              13.700717             8.287263  ...       2.417322   \n",
       "std                5.079849            15.628087  ...       1.166572   \n",
       "min                0.000000             0.000000  ...       0.000000   \n",
       "25%               11.000000             1.000000  ...       2.000000   \n",
       "50%               14.000000             4.000000  ...       2.000000   \n",
       "75%               17.000000             9.000000  ...       3.000000   \n",
       "max               25.000000           595.000000  ...       4.000000   \n",
       "\n",
       "            VK_DHT4A     VK_DISTANZ        VK_ZG11  W_KEIT_KIND_HH  \\\n",
       "count  815304.000000  815304.000000  815304.000000   783619.000000   \n",
       "mean        6.001214       7.532130       5.945972        3.933406   \n",
       "std         2.856091       3.247789       2.771464        1.964701   \n",
       "min         1.000000       1.000000       1.000000        0.000000   \n",
       "25%         3.000000       5.000000       4.000000        2.000000   \n",
       "50%         6.000000       8.000000       6.000000        4.000000   \n",
       "75%         9.000000      10.000000       8.000000        6.000000   \n",
       "max        11.000000      13.000000      11.000000        6.000000   \n",
       "\n",
       "       WOHNDAUER_2008       WOHNLAGE       ZABEOTYP      ANREDE_KZ  \\\n",
       "count   817722.000000  798073.000000  891221.000000  891221.000000   \n",
       "mean         7.908791       4.052836       3.362438       1.522098   \n",
       "std          1.923137       1.949539       1.352704       0.499512   \n",
       "min          1.000000       0.000000       1.000000       1.000000   \n",
       "25%          8.000000       3.000000       3.000000       1.000000   \n",
       "50%          9.000000       3.000000       3.000000       2.000000   \n",
       "75%          9.000000       5.000000       4.000000       2.000000   \n",
       "max          9.000000       8.000000       6.000000       2.000000   \n",
       "\n",
       "       ALTERSKATEGORIE_GROB  \n",
       "count         891221.000000  \n",
       "mean               2.777398  \n",
       "std                1.068775  \n",
       "min                1.000000  \n",
       "25%                2.000000  \n",
       "50%                3.000000  \n",
       "75%                4.000000  \n",
       "max                9.000000  \n",
       "\n",
       "[8 rows x 360 columns]"
      ]
     },
     "execution_count": 8,
     "metadata": {},
     "output_type": "execute_result"
    }
   ],
   "source": [
    "df_azdias.describe()"
   ]
  },
  {
   "cell_type": "markdown",
   "id": "c0853a6e",
   "metadata": {},
   "source": [
    "### The numerical attibutes in the azdias dataset"
   ]
  },
  {
   "cell_type": "code",
   "execution_count": 43,
   "id": "2ab4ce7d",
   "metadata": {},
   "outputs": [
    {
     "data": {
      "text/plain": [
       "Index(['LNR', 'AGER_TYP', 'AKT_DAT_KL', 'ALTER_HH', 'ALTER_KIND1',\n",
       "       'ALTER_KIND2', 'ALTER_KIND3', 'ALTER_KIND4', 'ALTERSKATEGORIE_FEIN',\n",
       "       'ANZ_HAUSHALTE_AKTIV',\n",
       "       ...\n",
       "       'VHN', 'VK_DHT4A', 'VK_DISTANZ', 'VK_ZG11', 'W_KEIT_KIND_HH',\n",
       "       'WOHNDAUER_2008', 'WOHNLAGE', 'ZABEOTYP', 'ANREDE_KZ',\n",
       "       'ALTERSKATEGORIE_GROB'],\n",
       "      dtype='object', length=360)"
      ]
     },
     "execution_count": 43,
     "metadata": {},
     "output_type": "execute_result"
    }
   ],
   "source": [
    "num_cols=df_azdias.select_dtypes(include='number').columns\n",
    "num_cols"
   ]
  },
  {
   "cell_type": "markdown",
   "id": "3f041b1e",
   "metadata": {},
   "source": [
    "### The Categorical attributes in the azdias dataset"
   ]
  },
  {
   "cell_type": "code",
   "execution_count": 9,
   "id": "0e1a4eb8",
   "metadata": {},
   "outputs": [
    {
     "data": {
      "text/plain": [
       "array(['CAMEO_DEU_2015', 'CAMEO_DEUG_2015', 'CAMEO_INTL_2015',\n",
       "       'D19_LETZTER_KAUF_BRANCHE', 'EINGEFUEGT_AM', 'OST_WEST_KZ'],\n",
       "      dtype=object)"
      ]
     },
     "execution_count": 9,
     "metadata": {},
     "output_type": "execute_result"
    }
   ],
   "source": [
    "object_cols=df_azdias.dtypes[df_azdias.dtypes=='object'].index.values\n",
    "object_cols"
   ]
  },
  {
   "cell_type": "markdown",
   "id": "c51bdc80",
   "metadata": {},
   "source": [
    "### Find the number of missing values in each attribute"
   ]
  },
  {
   "cell_type": "code",
   "execution_count": 11,
   "id": "f28f7b08",
   "metadata": {},
   "outputs": [
    {
     "data": {
      "text/plain": [
       "LNR                          0\n",
       "AGER_TYP                     0\n",
       "AKT_DAT_KL               73499\n",
       "ALTER_HH                 73499\n",
       "ALTER_KIND1             810163\n",
       "                         ...  \n",
       "WOHNDAUER_2008           73499\n",
       "WOHNLAGE                 93148\n",
       "ZABEOTYP                     0\n",
       "ANREDE_KZ                    0\n",
       "ALTERSKATEGORIE_GROB         0\n",
       "Length: 366, dtype: int64"
      ]
     },
     "execution_count": 11,
     "metadata": {},
     "output_type": "execute_result"
    }
   ],
   "source": [
    "df_azdias.isnull().sum()"
   ]
  },
  {
   "cell_type": "markdown",
   "id": "a8d62f07",
   "metadata": {},
   "source": [
    "## Clean the Azdias Dataset"
   ]
  },
  {
   "cell_type": "code",
   "execution_count": 45,
   "id": "a4e4c599",
   "metadata": {},
   "outputs": [
    {
     "name": "stdout",
     "output_type": "stream",
     "text": [
      "columns with 80% missing values are removed\n",
      "Unknown values are replaced by numpy nan values\n",
      "Simple Imputer with \"most_frequent\" as the strategy is used to fill missing values\n",
      "Highly correlated features are determined using pearsons correlation and removed\n",
      "The following categorical attributes are converted to dummy variables  ['CAMEO_DEU_2015', 'CAMEO_DEUG_2015', 'CAMEO_INTL_2015', 'D19_LETZTER_KAUF_BRANCHE', 'EINGEFUEGT_AM', 'OST_WEST_KZ']\n"
     ]
    }
   ],
   "source": [
    "df2=clean_data(df_azdias)"
   ]
  },
  {
   "cell_type": "code",
   "execution_count": 12,
   "id": "262ed557",
   "metadata": {},
   "outputs": [],
   "source": [
    "df2.to_csv('df_azdias_processed11.csv',index=False)"
   ]
  },
  {
   "cell_type": "code",
   "execution_count": 13,
   "id": "9ec4f835",
   "metadata": {},
   "outputs": [
    {
     "data": {
      "text/html": [
       "<div>\n",
       "<style scoped>\n",
       "    .dataframe tbody tr th:only-of-type {\n",
       "        vertical-align: middle;\n",
       "    }\n",
       "\n",
       "    .dataframe tbody tr th {\n",
       "        vertical-align: top;\n",
       "    }\n",
       "\n",
       "    .dataframe thead th {\n",
       "        text-align: right;\n",
       "    }\n",
       "</style>\n",
       "<table border=\"1\" class=\"dataframe\">\n",
       "  <thead>\n",
       "    <tr style=\"text-align: right;\">\n",
       "      <th></th>\n",
       "      <th>LNR</th>\n",
       "      <th>AGER_TYP</th>\n",
       "      <th>AKT_DAT_KL</th>\n",
       "      <th>ALTER_HH</th>\n",
       "      <th>ALTERSKATEGORIE_FEIN</th>\n",
       "      <th>ANZ_HH_TITEL</th>\n",
       "      <th>ANZ_KINDER</th>\n",
       "      <th>ANZ_PERSONEN</th>\n",
       "      <th>ANZ_TITEL</th>\n",
       "      <th>ARBEIT</th>\n",
       "      <th>...</th>\n",
       "      <th>D19_TELKO_REST</th>\n",
       "      <th>D19_TIERARTIKEL</th>\n",
       "      <th>D19_UNBEKANNT</th>\n",
       "      <th>D19_VERSAND_REST</th>\n",
       "      <th>D19_VERSICHERUNGEN</th>\n",
       "      <th>D19_VOLLSORTIMENT</th>\n",
       "      <th>D19_WEIN_FEINKOST</th>\n",
       "      <th>direction_O</th>\n",
       "      <th>direction_W</th>\n",
       "      <th>year</th>\n",
       "    </tr>\n",
       "  </thead>\n",
       "  <tbody>\n",
       "    <tr>\n",
       "      <th>0</th>\n",
       "      <td>910215</td>\n",
       "      <td>2.0</td>\n",
       "      <td>1.0</td>\n",
       "      <td>18.0</td>\n",
       "      <td>15.0</td>\n",
       "      <td>0.0</td>\n",
       "      <td>0.0</td>\n",
       "      <td>1.0</td>\n",
       "      <td>0.0</td>\n",
       "      <td>4.0</td>\n",
       "      <td>...</td>\n",
       "      <td>0</td>\n",
       "      <td>0</td>\n",
       "      <td>1</td>\n",
       "      <td>0</td>\n",
       "      <td>0</td>\n",
       "      <td>0</td>\n",
       "      <td>0</td>\n",
       "      <td>0</td>\n",
       "      <td>1</td>\n",
       "      <td>1992</td>\n",
       "    </tr>\n",
       "    <tr>\n",
       "      <th>1</th>\n",
       "      <td>910220</td>\n",
       "      <td>2.0</td>\n",
       "      <td>9.0</td>\n",
       "      <td>18.0</td>\n",
       "      <td>21.0</td>\n",
       "      <td>0.0</td>\n",
       "      <td>0.0</td>\n",
       "      <td>2.0</td>\n",
       "      <td>0.0</td>\n",
       "      <td>3.0</td>\n",
       "      <td>...</td>\n",
       "      <td>0</td>\n",
       "      <td>0</td>\n",
       "      <td>1</td>\n",
       "      <td>0</td>\n",
       "      <td>0</td>\n",
       "      <td>0</td>\n",
       "      <td>0</td>\n",
       "      <td>0</td>\n",
       "      <td>1</td>\n",
       "      <td>1992</td>\n",
       "    </tr>\n",
       "    <tr>\n",
       "      <th>2</th>\n",
       "      <td>910225</td>\n",
       "      <td>2.0</td>\n",
       "      <td>9.0</td>\n",
       "      <td>17.0</td>\n",
       "      <td>17.0</td>\n",
       "      <td>0.0</td>\n",
       "      <td>0.0</td>\n",
       "      <td>1.0</td>\n",
       "      <td>0.0</td>\n",
       "      <td>3.0</td>\n",
       "      <td>...</td>\n",
       "      <td>0</td>\n",
       "      <td>0</td>\n",
       "      <td>1</td>\n",
       "      <td>0</td>\n",
       "      <td>0</td>\n",
       "      <td>0</td>\n",
       "      <td>0</td>\n",
       "      <td>0</td>\n",
       "      <td>1</td>\n",
       "      <td>1992</td>\n",
       "    </tr>\n",
       "    <tr>\n",
       "      <th>3</th>\n",
       "      <td>910226</td>\n",
       "      <td>2.0</td>\n",
       "      <td>1.0</td>\n",
       "      <td>13.0</td>\n",
       "      <td>13.0</td>\n",
       "      <td>0.0</td>\n",
       "      <td>0.0</td>\n",
       "      <td>0.0</td>\n",
       "      <td>0.0</td>\n",
       "      <td>2.0</td>\n",
       "      <td>...</td>\n",
       "      <td>0</td>\n",
       "      <td>0</td>\n",
       "      <td>1</td>\n",
       "      <td>0</td>\n",
       "      <td>0</td>\n",
       "      <td>0</td>\n",
       "      <td>0</td>\n",
       "      <td>0</td>\n",
       "      <td>1</td>\n",
       "      <td>1997</td>\n",
       "    </tr>\n",
       "    <tr>\n",
       "      <th>4</th>\n",
       "      <td>910241</td>\n",
       "      <td>2.0</td>\n",
       "      <td>1.0</td>\n",
       "      <td>20.0</td>\n",
       "      <td>14.0</td>\n",
       "      <td>0.0</td>\n",
       "      <td>0.0</td>\n",
       "      <td>4.0</td>\n",
       "      <td>0.0</td>\n",
       "      <td>4.0</td>\n",
       "      <td>...</td>\n",
       "      <td>0</td>\n",
       "      <td>0</td>\n",
       "      <td>0</td>\n",
       "      <td>0</td>\n",
       "      <td>0</td>\n",
       "      <td>0</td>\n",
       "      <td>0</td>\n",
       "      <td>0</td>\n",
       "      <td>1</td>\n",
       "      <td>1992</td>\n",
       "    </tr>\n",
       "  </tbody>\n",
       "</table>\n",
       "<p>5 rows × 370 columns</p>\n",
       "</div>"
      ],
      "text/plain": [
       "      LNR  AGER_TYP  AKT_DAT_KL  ALTER_HH  ALTERSKATEGORIE_FEIN  ANZ_HH_TITEL  \\\n",
       "0  910215       2.0         1.0      18.0                  15.0           0.0   \n",
       "1  910220       2.0         9.0      18.0                  21.0           0.0   \n",
       "2  910225       2.0         9.0      17.0                  17.0           0.0   \n",
       "3  910226       2.0         1.0      13.0                  13.0           0.0   \n",
       "4  910241       2.0         1.0      20.0                  14.0           0.0   \n",
       "\n",
       "   ANZ_KINDER  ANZ_PERSONEN  ANZ_TITEL  ARBEIT  ...  D19_TELKO_REST  \\\n",
       "0         0.0           1.0        0.0     4.0  ...               0   \n",
       "1         0.0           2.0        0.0     3.0  ...               0   \n",
       "2         0.0           1.0        0.0     3.0  ...               0   \n",
       "3         0.0           0.0        0.0     2.0  ...               0   \n",
       "4         0.0           4.0        0.0     4.0  ...               0   \n",
       "\n",
       "   D19_TIERARTIKEL  D19_UNBEKANNT  D19_VERSAND_REST  D19_VERSICHERUNGEN  \\\n",
       "0                0              1                 0                   0   \n",
       "1                0              1                 0                   0   \n",
       "2                0              1                 0                   0   \n",
       "3                0              1                 0                   0   \n",
       "4                0              0                 0                   0   \n",
       "\n",
       "   D19_VOLLSORTIMENT  D19_WEIN_FEINKOST  direction_O  direction_W  year  \n",
       "0                  0                  0            0            1  1992  \n",
       "1                  0                  0            0            1  1992  \n",
       "2                  0                  0            0            1  1992  \n",
       "3                  0                  0            0            1  1997  \n",
       "4                  0                  0            0            1  1992  \n",
       "\n",
       "[5 rows x 370 columns]"
      ]
     },
     "execution_count": 13,
     "metadata": {},
     "output_type": "execute_result"
    }
   ],
   "source": [
    "df2.head()"
   ]
  },
  {
   "cell_type": "code",
   "execution_count": 15,
   "id": "fa720f13",
   "metadata": {},
   "outputs": [
    {
     "name": "stdout",
     "output_type": "stream",
     "text": [
      "<class 'pandas.core.frame.DataFrame'>\n",
      "RangeIndex: 891221 entries, 0 to 891220\n",
      "Columns: 370 entries, LNR to year\n",
      "dtypes: float64(244), int64(79), uint8(47)\n",
      "memory usage: 2.2 GB\n"
     ]
    }
   ],
   "source": [
    "df2.info()"
   ]
  },
  {
   "cell_type": "markdown",
   "id": "0d39878b",
   "metadata": {},
   "source": [
    "### The azdias dataset is cleaned and there are no null values and categorical attributes"
   ]
  },
  {
   "cell_type": "markdown",
   "id": "a27e4bea",
   "metadata": {},
   "source": [
    "## Load Customer Dataset"
   ]
  },
  {
   "cell_type": "code",
   "execution_count": 6,
   "id": "edfcc653",
   "metadata": {},
   "outputs": [
    {
     "data": {
      "text/html": [
       "<div>\n",
       "<style scoped>\n",
       "    .dataframe tbody tr th:only-of-type {\n",
       "        vertical-align: middle;\n",
       "    }\n",
       "\n",
       "    .dataframe tbody tr th {\n",
       "        vertical-align: top;\n",
       "    }\n",
       "\n",
       "    .dataframe thead th {\n",
       "        text-align: right;\n",
       "    }\n",
       "</style>\n",
       "<table border=\"1\" class=\"dataframe\">\n",
       "  <thead>\n",
       "    <tr style=\"text-align: right;\">\n",
       "      <th></th>\n",
       "      <th>LNR</th>\n",
       "      <th>AGER_TYP</th>\n",
       "      <th>AKT_DAT_KL</th>\n",
       "      <th>ALTER_HH</th>\n",
       "      <th>ALTER_KIND1</th>\n",
       "      <th>ALTER_KIND2</th>\n",
       "      <th>ALTER_KIND3</th>\n",
       "      <th>ALTER_KIND4</th>\n",
       "      <th>ALTERSKATEGORIE_FEIN</th>\n",
       "      <th>ANZ_HAUSHALTE_AKTIV</th>\n",
       "      <th>...</th>\n",
       "      <th>VK_ZG11</th>\n",
       "      <th>W_KEIT_KIND_HH</th>\n",
       "      <th>WOHNDAUER_2008</th>\n",
       "      <th>WOHNLAGE</th>\n",
       "      <th>ZABEOTYP</th>\n",
       "      <th>PRODUCT_GROUP</th>\n",
       "      <th>CUSTOMER_GROUP</th>\n",
       "      <th>ONLINE_PURCHASE</th>\n",
       "      <th>ANREDE_KZ</th>\n",
       "      <th>ALTERSKATEGORIE_GROB</th>\n",
       "    </tr>\n",
       "  </thead>\n",
       "  <tbody>\n",
       "    <tr>\n",
       "      <th>0</th>\n",
       "      <td>9626</td>\n",
       "      <td>2</td>\n",
       "      <td>1.0</td>\n",
       "      <td>10.0</td>\n",
       "      <td>NaN</td>\n",
       "      <td>NaN</td>\n",
       "      <td>NaN</td>\n",
       "      <td>NaN</td>\n",
       "      <td>10.0</td>\n",
       "      <td>1.0</td>\n",
       "      <td>...</td>\n",
       "      <td>2.0</td>\n",
       "      <td>6.0</td>\n",
       "      <td>9.0</td>\n",
       "      <td>7.0</td>\n",
       "      <td>3</td>\n",
       "      <td>COSMETIC_AND_FOOD</td>\n",
       "      <td>MULTI_BUYER</td>\n",
       "      <td>0</td>\n",
       "      <td>1</td>\n",
       "      <td>4</td>\n",
       "    </tr>\n",
       "    <tr>\n",
       "      <th>1</th>\n",
       "      <td>9628</td>\n",
       "      <td>-1</td>\n",
       "      <td>9.0</td>\n",
       "      <td>11.0</td>\n",
       "      <td>NaN</td>\n",
       "      <td>NaN</td>\n",
       "      <td>NaN</td>\n",
       "      <td>NaN</td>\n",
       "      <td>NaN</td>\n",
       "      <td>NaN</td>\n",
       "      <td>...</td>\n",
       "      <td>3.0</td>\n",
       "      <td>0.0</td>\n",
       "      <td>9.0</td>\n",
       "      <td>NaN</td>\n",
       "      <td>3</td>\n",
       "      <td>FOOD</td>\n",
       "      <td>SINGLE_BUYER</td>\n",
       "      <td>0</td>\n",
       "      <td>1</td>\n",
       "      <td>4</td>\n",
       "    </tr>\n",
       "    <tr>\n",
       "      <th>2</th>\n",
       "      <td>143872</td>\n",
       "      <td>-1</td>\n",
       "      <td>1.0</td>\n",
       "      <td>6.0</td>\n",
       "      <td>NaN</td>\n",
       "      <td>NaN</td>\n",
       "      <td>NaN</td>\n",
       "      <td>NaN</td>\n",
       "      <td>0.0</td>\n",
       "      <td>1.0</td>\n",
       "      <td>...</td>\n",
       "      <td>11.0</td>\n",
       "      <td>6.0</td>\n",
       "      <td>9.0</td>\n",
       "      <td>2.0</td>\n",
       "      <td>3</td>\n",
       "      <td>COSMETIC_AND_FOOD</td>\n",
       "      <td>MULTI_BUYER</td>\n",
       "      <td>0</td>\n",
       "      <td>2</td>\n",
       "      <td>4</td>\n",
       "    </tr>\n",
       "    <tr>\n",
       "      <th>3</th>\n",
       "      <td>143873</td>\n",
       "      <td>1</td>\n",
       "      <td>1.0</td>\n",
       "      <td>8.0</td>\n",
       "      <td>NaN</td>\n",
       "      <td>NaN</td>\n",
       "      <td>NaN</td>\n",
       "      <td>NaN</td>\n",
       "      <td>8.0</td>\n",
       "      <td>0.0</td>\n",
       "      <td>...</td>\n",
       "      <td>2.0</td>\n",
       "      <td>NaN</td>\n",
       "      <td>9.0</td>\n",
       "      <td>7.0</td>\n",
       "      <td>1</td>\n",
       "      <td>COSMETIC</td>\n",
       "      <td>MULTI_BUYER</td>\n",
       "      <td>0</td>\n",
       "      <td>1</td>\n",
       "      <td>4</td>\n",
       "    </tr>\n",
       "    <tr>\n",
       "      <th>4</th>\n",
       "      <td>143874</td>\n",
       "      <td>-1</td>\n",
       "      <td>1.0</td>\n",
       "      <td>20.0</td>\n",
       "      <td>NaN</td>\n",
       "      <td>NaN</td>\n",
       "      <td>NaN</td>\n",
       "      <td>NaN</td>\n",
       "      <td>14.0</td>\n",
       "      <td>7.0</td>\n",
       "      <td>...</td>\n",
       "      <td>4.0</td>\n",
       "      <td>2.0</td>\n",
       "      <td>9.0</td>\n",
       "      <td>3.0</td>\n",
       "      <td>1</td>\n",
       "      <td>FOOD</td>\n",
       "      <td>MULTI_BUYER</td>\n",
       "      <td>0</td>\n",
       "      <td>1</td>\n",
       "      <td>3</td>\n",
       "    </tr>\n",
       "  </tbody>\n",
       "</table>\n",
       "<p>5 rows × 369 columns</p>\n",
       "</div>"
      ],
      "text/plain": [
       "      LNR  AGER_TYP  AKT_DAT_KL  ALTER_HH  ALTER_KIND1  ALTER_KIND2  \\\n",
       "0    9626         2         1.0      10.0          NaN          NaN   \n",
       "1    9628        -1         9.0      11.0          NaN          NaN   \n",
       "2  143872        -1         1.0       6.0          NaN          NaN   \n",
       "3  143873         1         1.0       8.0          NaN          NaN   \n",
       "4  143874        -1         1.0      20.0          NaN          NaN   \n",
       "\n",
       "   ALTER_KIND3  ALTER_KIND4  ALTERSKATEGORIE_FEIN  ANZ_HAUSHALTE_AKTIV  ...  \\\n",
       "0          NaN          NaN                  10.0                  1.0  ...   \n",
       "1          NaN          NaN                   NaN                  NaN  ...   \n",
       "2          NaN          NaN                   0.0                  1.0  ...   \n",
       "3          NaN          NaN                   8.0                  0.0  ...   \n",
       "4          NaN          NaN                  14.0                  7.0  ...   \n",
       "\n",
       "   VK_ZG11  W_KEIT_KIND_HH  WOHNDAUER_2008  WOHNLAGE  ZABEOTYP  \\\n",
       "0      2.0             6.0             9.0       7.0         3   \n",
       "1      3.0             0.0             9.0       NaN         3   \n",
       "2     11.0             6.0             9.0       2.0         3   \n",
       "3      2.0             NaN             9.0       7.0         1   \n",
       "4      4.0             2.0             9.0       3.0         1   \n",
       "\n",
       "       PRODUCT_GROUP  CUSTOMER_GROUP ONLINE_PURCHASE ANREDE_KZ  \\\n",
       "0  COSMETIC_AND_FOOD     MULTI_BUYER               0         1   \n",
       "1               FOOD    SINGLE_BUYER               0         1   \n",
       "2  COSMETIC_AND_FOOD     MULTI_BUYER               0         2   \n",
       "3           COSMETIC     MULTI_BUYER               0         1   \n",
       "4               FOOD     MULTI_BUYER               0         1   \n",
       "\n",
       "  ALTERSKATEGORIE_GROB  \n",
       "0                    4  \n",
       "1                    4  \n",
       "2                    4  \n",
       "3                    4  \n",
       "4                    3  \n",
       "\n",
       "[5 rows x 369 columns]"
      ]
     },
     "execution_count": 6,
     "metadata": {},
     "output_type": "execute_result"
    }
   ],
   "source": [
    "df_cust=pd.read_csv(\"Udacity_CUSTOMERS_052018.csv\",sep=\";\",low_memory=False)\n",
    "\n",
    "df_cust.head()"
   ]
  },
  {
   "cell_type": "code",
   "execution_count": 80,
   "id": "e2f993ae",
   "metadata": {},
   "outputs": [
    {
     "name": "stdout",
     "output_type": "stream",
     "text": [
      "<class 'pandas.core.frame.DataFrame'>\n",
      "RangeIndex: 191652 entries, 0 to 191651\n",
      "Columns: 360 entries, LNR to ALTERSKATEGORIE_GROB\n",
      "dtypes: float64(265), int64(87), object(8)\n",
      "memory usage: 526.4+ MB\n"
     ]
    }
   ],
   "source": [
    "df_cust.info()"
   ]
  },
  {
   "cell_type": "code",
   "execution_count": 61,
   "id": "995586b7",
   "metadata": {},
   "outputs": [
    {
     "data": {
      "text/html": [
       "<div>\n",
       "<style scoped>\n",
       "    .dataframe tbody tr th:only-of-type {\n",
       "        vertical-align: middle;\n",
       "    }\n",
       "\n",
       "    .dataframe tbody tr th {\n",
       "        vertical-align: top;\n",
       "    }\n",
       "\n",
       "    .dataframe thead th {\n",
       "        text-align: right;\n",
       "    }\n",
       "</style>\n",
       "<table border=\"1\" class=\"dataframe\">\n",
       "  <thead>\n",
       "    <tr style=\"text-align: right;\">\n",
       "      <th></th>\n",
       "      <th>LNR</th>\n",
       "      <th>AGER_TYP</th>\n",
       "      <th>AKT_DAT_KL</th>\n",
       "      <th>ALTER_HH</th>\n",
       "      <th>ALTER_KIND1</th>\n",
       "      <th>ALTER_KIND2</th>\n",
       "      <th>ALTER_KIND3</th>\n",
       "      <th>ALTER_KIND4</th>\n",
       "      <th>ALTERSKATEGORIE_FEIN</th>\n",
       "      <th>ANZ_HAUSHALTE_AKTIV</th>\n",
       "      <th>...</th>\n",
       "      <th>VK_DHT4A</th>\n",
       "      <th>VK_DISTANZ</th>\n",
       "      <th>VK_ZG11</th>\n",
       "      <th>W_KEIT_KIND_HH</th>\n",
       "      <th>WOHNDAUER_2008</th>\n",
       "      <th>WOHNLAGE</th>\n",
       "      <th>ZABEOTYP</th>\n",
       "      <th>ONLINE_PURCHASE</th>\n",
       "      <th>ANREDE_KZ</th>\n",
       "      <th>ALTERSKATEGORIE_GROB</th>\n",
       "    </tr>\n",
       "  </thead>\n",
       "  <tbody>\n",
       "    <tr>\n",
       "      <th>count</th>\n",
       "      <td>191652.000000</td>\n",
       "      <td>191652.000000</td>\n",
       "      <td>145056.000000</td>\n",
       "      <td>145056.000000</td>\n",
       "      <td>11766.000000</td>\n",
       "      <td>5100.000000</td>\n",
       "      <td>1275.000000</td>\n",
       "      <td>236.000000</td>\n",
       "      <td>139810.000000</td>\n",
       "      <td>141725.000000</td>\n",
       "      <td>...</td>\n",
       "      <td>143781.000000</td>\n",
       "      <td>143781.000000</td>\n",
       "      <td>143781.000000</td>\n",
       "      <td>137910.000000</td>\n",
       "      <td>145056.000000</td>\n",
       "      <td>141725.000000</td>\n",
       "      <td>191652.000000</td>\n",
       "      <td>191652.000000</td>\n",
       "      <td>191652.000000</td>\n",
       "      <td>191652.000000</td>\n",
       "    </tr>\n",
       "    <tr>\n",
       "      <th>mean</th>\n",
       "      <td>95826.500000</td>\n",
       "      <td>0.344359</td>\n",
       "      <td>1.747525</td>\n",
       "      <td>11.352009</td>\n",
       "      <td>12.337243</td>\n",
       "      <td>13.672353</td>\n",
       "      <td>14.647059</td>\n",
       "      <td>15.377119</td>\n",
       "      <td>10.331579</td>\n",
       "      <td>4.965863</td>\n",
       "      <td>...</td>\n",
       "      <td>4.374417</td>\n",
       "      <td>4.564769</td>\n",
       "      <td>3.168868</td>\n",
       "      <td>4.152716</td>\n",
       "      <td>8.646371</td>\n",
       "      <td>3.723133</td>\n",
       "      <td>2.576806</td>\n",
       "      <td>0.090247</td>\n",
       "      <td>1.376432</td>\n",
       "      <td>3.060907</td>\n",
       "    </tr>\n",
       "    <tr>\n",
       "      <th>std</th>\n",
       "      <td>55325.311233</td>\n",
       "      <td>1.391672</td>\n",
       "      <td>1.966334</td>\n",
       "      <td>6.275026</td>\n",
       "      <td>4.006050</td>\n",
       "      <td>3.243335</td>\n",
       "      <td>2.753787</td>\n",
       "      <td>2.307653</td>\n",
       "      <td>4.134828</td>\n",
       "      <td>14.309694</td>\n",
       "      <td>...</td>\n",
       "      <td>2.924355</td>\n",
       "      <td>2.887035</td>\n",
       "      <td>2.233516</td>\n",
       "      <td>1.974375</td>\n",
       "      <td>1.154001</td>\n",
       "      <td>2.095540</td>\n",
       "      <td>1.168486</td>\n",
       "      <td>0.286536</td>\n",
       "      <td>0.484492</td>\n",
       "      <td>1.086254</td>\n",
       "    </tr>\n",
       "    <tr>\n",
       "      <th>min</th>\n",
       "      <td>1.000000</td>\n",
       "      <td>-1.000000</td>\n",
       "      <td>1.000000</td>\n",
       "      <td>0.000000</td>\n",
       "      <td>2.000000</td>\n",
       "      <td>2.000000</td>\n",
       "      <td>5.000000</td>\n",
       "      <td>8.000000</td>\n",
       "      <td>0.000000</td>\n",
       "      <td>0.000000</td>\n",
       "      <td>...</td>\n",
       "      <td>1.000000</td>\n",
       "      <td>1.000000</td>\n",
       "      <td>1.000000</td>\n",
       "      <td>0.000000</td>\n",
       "      <td>1.000000</td>\n",
       "      <td>0.000000</td>\n",
       "      <td>1.000000</td>\n",
       "      <td>0.000000</td>\n",
       "      <td>1.000000</td>\n",
       "      <td>1.000000</td>\n",
       "    </tr>\n",
       "    <tr>\n",
       "      <th>25%</th>\n",
       "      <td>47913.750000</td>\n",
       "      <td>-1.000000</td>\n",
       "      <td>1.000000</td>\n",
       "      <td>8.000000</td>\n",
       "      <td>9.000000</td>\n",
       "      <td>11.000000</td>\n",
       "      <td>13.000000</td>\n",
       "      <td>14.000000</td>\n",
       "      <td>9.000000</td>\n",
       "      <td>1.000000</td>\n",
       "      <td>...</td>\n",
       "      <td>2.000000</td>\n",
       "      <td>2.000000</td>\n",
       "      <td>1.000000</td>\n",
       "      <td>2.000000</td>\n",
       "      <td>9.000000</td>\n",
       "      <td>2.000000</td>\n",
       "      <td>1.000000</td>\n",
       "      <td>0.000000</td>\n",
       "      <td>1.000000</td>\n",
       "      <td>3.000000</td>\n",
       "    </tr>\n",
       "    <tr>\n",
       "      <th>50%</th>\n",
       "      <td>95826.500000</td>\n",
       "      <td>0.000000</td>\n",
       "      <td>1.000000</td>\n",
       "      <td>11.000000</td>\n",
       "      <td>13.000000</td>\n",
       "      <td>14.000000</td>\n",
       "      <td>15.000000</td>\n",
       "      <td>16.000000</td>\n",
       "      <td>10.000000</td>\n",
       "      <td>1.000000</td>\n",
       "      <td>...</td>\n",
       "      <td>4.000000</td>\n",
       "      <td>4.000000</td>\n",
       "      <td>3.000000</td>\n",
       "      <td>5.000000</td>\n",
       "      <td>9.000000</td>\n",
       "      <td>3.000000</td>\n",
       "      <td>3.000000</td>\n",
       "      <td>0.000000</td>\n",
       "      <td>1.000000</td>\n",
       "      <td>3.000000</td>\n",
       "    </tr>\n",
       "    <tr>\n",
       "      <th>75%</th>\n",
       "      <td>143739.250000</td>\n",
       "      <td>2.000000</td>\n",
       "      <td>1.000000</td>\n",
       "      <td>16.000000</td>\n",
       "      <td>16.000000</td>\n",
       "      <td>16.000000</td>\n",
       "      <td>17.000000</td>\n",
       "      <td>17.000000</td>\n",
       "      <td>13.000000</td>\n",
       "      <td>4.000000</td>\n",
       "      <td>...</td>\n",
       "      <td>7.000000</td>\n",
       "      <td>7.000000</td>\n",
       "      <td>4.000000</td>\n",
       "      <td>6.000000</td>\n",
       "      <td>9.000000</td>\n",
       "      <td>5.000000</td>\n",
       "      <td>3.000000</td>\n",
       "      <td>0.000000</td>\n",
       "      <td>2.000000</td>\n",
       "      <td>4.000000</td>\n",
       "    </tr>\n",
       "    <tr>\n",
       "      <th>max</th>\n",
       "      <td>191652.000000</td>\n",
       "      <td>3.000000</td>\n",
       "      <td>9.000000</td>\n",
       "      <td>21.000000</td>\n",
       "      <td>18.000000</td>\n",
       "      <td>18.000000</td>\n",
       "      <td>18.000000</td>\n",
       "      <td>18.000000</td>\n",
       "      <td>25.000000</td>\n",
       "      <td>523.000000</td>\n",
       "      <td>...</td>\n",
       "      <td>11.000000</td>\n",
       "      <td>13.000000</td>\n",
       "      <td>11.000000</td>\n",
       "      <td>6.000000</td>\n",
       "      <td>9.000000</td>\n",
       "      <td>8.000000</td>\n",
       "      <td>6.000000</td>\n",
       "      <td>1.000000</td>\n",
       "      <td>2.000000</td>\n",
       "      <td>9.000000</td>\n",
       "    </tr>\n",
       "  </tbody>\n",
       "</table>\n",
       "<p>8 rows × 361 columns</p>\n",
       "</div>"
      ],
      "text/plain": [
       "                 LNR       AGER_TYP     AKT_DAT_KL       ALTER_HH  \\\n",
       "count  191652.000000  191652.000000  145056.000000  145056.000000   \n",
       "mean    95826.500000       0.344359       1.747525      11.352009   \n",
       "std     55325.311233       1.391672       1.966334       6.275026   \n",
       "min         1.000000      -1.000000       1.000000       0.000000   \n",
       "25%     47913.750000      -1.000000       1.000000       8.000000   \n",
       "50%     95826.500000       0.000000       1.000000      11.000000   \n",
       "75%    143739.250000       2.000000       1.000000      16.000000   \n",
       "max    191652.000000       3.000000       9.000000      21.000000   \n",
       "\n",
       "        ALTER_KIND1  ALTER_KIND2  ALTER_KIND3  ALTER_KIND4  \\\n",
       "count  11766.000000  5100.000000  1275.000000   236.000000   \n",
       "mean      12.337243    13.672353    14.647059    15.377119   \n",
       "std        4.006050     3.243335     2.753787     2.307653   \n",
       "min        2.000000     2.000000     5.000000     8.000000   \n",
       "25%        9.000000    11.000000    13.000000    14.000000   \n",
       "50%       13.000000    14.000000    15.000000    16.000000   \n",
       "75%       16.000000    16.000000    17.000000    17.000000   \n",
       "max       18.000000    18.000000    18.000000    18.000000   \n",
       "\n",
       "       ALTERSKATEGORIE_FEIN  ANZ_HAUSHALTE_AKTIV  ...       VK_DHT4A  \\\n",
       "count         139810.000000        141725.000000  ...  143781.000000   \n",
       "mean              10.331579             4.965863  ...       4.374417   \n",
       "std                4.134828            14.309694  ...       2.924355   \n",
       "min                0.000000             0.000000  ...       1.000000   \n",
       "25%                9.000000             1.000000  ...       2.000000   \n",
       "50%               10.000000             1.000000  ...       4.000000   \n",
       "75%               13.000000             4.000000  ...       7.000000   \n",
       "max               25.000000           523.000000  ...      11.000000   \n",
       "\n",
       "          VK_DISTANZ        VK_ZG11  W_KEIT_KIND_HH  WOHNDAUER_2008  \\\n",
       "count  143781.000000  143781.000000   137910.000000   145056.000000   \n",
       "mean        4.564769       3.168868        4.152716        8.646371   \n",
       "std         2.887035       2.233516        1.974375        1.154001   \n",
       "min         1.000000       1.000000        0.000000        1.000000   \n",
       "25%         2.000000       1.000000        2.000000        9.000000   \n",
       "50%         4.000000       3.000000        5.000000        9.000000   \n",
       "75%         7.000000       4.000000        6.000000        9.000000   \n",
       "max        13.000000      11.000000        6.000000        9.000000   \n",
       "\n",
       "            WOHNLAGE       ZABEOTYP  ONLINE_PURCHASE      ANREDE_KZ  \\\n",
       "count  141725.000000  191652.000000    191652.000000  191652.000000   \n",
       "mean        3.723133       2.576806         0.090247       1.376432   \n",
       "std         2.095540       1.168486         0.286536       0.484492   \n",
       "min         0.000000       1.000000         0.000000       1.000000   \n",
       "25%         2.000000       1.000000         0.000000       1.000000   \n",
       "50%         3.000000       3.000000         0.000000       1.000000   \n",
       "75%         5.000000       3.000000         0.000000       2.000000   \n",
       "max         8.000000       6.000000         1.000000       2.000000   \n",
       "\n",
       "       ALTERSKATEGORIE_GROB  \n",
       "count         191652.000000  \n",
       "mean               3.060907  \n",
       "std                1.086254  \n",
       "min                1.000000  \n",
       "25%                3.000000  \n",
       "50%                3.000000  \n",
       "75%                4.000000  \n",
       "max                9.000000  \n",
       "\n",
       "[8 rows x 361 columns]"
      ]
     },
     "execution_count": 61,
     "metadata": {},
     "output_type": "execute_result"
    }
   ],
   "source": [
    "df_cust.describe()"
   ]
  },
  {
   "cell_type": "markdown",
   "id": "a5ed58c2",
   "metadata": {},
   "source": [
    "### The numerical attributes in the customer dataset"
   ]
  },
  {
   "cell_type": "code",
   "execution_count": 47,
   "id": "a8158988",
   "metadata": {},
   "outputs": [
    {
     "data": {
      "text/plain": [
       "Index(['LNR', 'AGER_TYP', 'AKT_DAT_KL', 'ALTER_HH', 'ALTERSKATEGORIE_FEIN',\n",
       "       'ANZ_HAUSHALTE_AKTIV', 'ANZ_HH_TITEL', 'ANZ_KINDER', 'ANZ_PERSONEN',\n",
       "       'ANZ_STATISTISCHE_HAUSHALTE',\n",
       "       ...\n",
       "       'VK_DHT4A', 'VK_DISTANZ', 'VK_ZG11', 'W_KEIT_KIND_HH', 'WOHNDAUER_2008',\n",
       "       'WOHNLAGE', 'ZABEOTYP', 'ONLINE_PURCHASE', 'ANREDE_KZ',\n",
       "       'ALTERSKATEGORIE_GROB'],\n",
       "      dtype='object', length=357)"
      ]
     },
     "execution_count": 47,
     "metadata": {},
     "output_type": "execute_result"
    }
   ],
   "source": [
    "df_cust.select_dtypes(include='number').columns"
   ]
  },
  {
   "cell_type": "markdown",
   "id": "a052de58",
   "metadata": {},
   "source": [
    "### The categorical attributes in the customer dataset"
   ]
  },
  {
   "cell_type": "code",
   "execution_count": 79,
   "id": "95d0b971",
   "metadata": {},
   "outputs": [
    {
     "data": {
      "text/plain": [
       "['CAMEO_DEU_2015',\n",
       " 'CAMEO_DEUG_2015',\n",
       " 'CAMEO_INTL_2015',\n",
       " 'D19_LETZTER_KAUF_BRANCHE',\n",
       " 'EINGEFUEGT_AM',\n",
       " 'OST_WEST_KZ',\n",
       " 'PRODUCT_GROUP',\n",
       " 'CUSTOMER_GROUP']"
      ]
     },
     "execution_count": 79,
     "metadata": {},
     "output_type": "execute_result"
    }
   ],
   "source": [
    "df_cust.select_dtypes(include='object').columns.to_list()"
   ]
  },
  {
   "cell_type": "markdown",
   "id": "4283fd61",
   "metadata": {},
   "source": [
    "### The number of missing values for each attribute in the customer dataset"
   ]
  },
  {
   "cell_type": "code",
   "execution_count": 63,
   "id": "ef74c465",
   "metadata": {},
   "outputs": [
    {
     "data": {
      "text/plain": [
       "LNR                          0\n",
       "AGER_TYP                     0\n",
       "AKT_DAT_KL               46596\n",
       "ALTER_HH                 46596\n",
       "ALTER_KIND1             179886\n",
       "                         ...  \n",
       "PRODUCT_GROUP                0\n",
       "CUSTOMER_GROUP               0\n",
       "ONLINE_PURCHASE              0\n",
       "ANREDE_KZ                    0\n",
       "ALTERSKATEGORIE_GROB         0\n",
       "Length: 369, dtype: int64"
      ]
     },
     "execution_count": 63,
     "metadata": {},
     "output_type": "execute_result"
    }
   ],
   "source": [
    "df_cust.isnull().sum()"
   ]
  },
  {
   "cell_type": "markdown",
   "id": "bcc25268",
   "metadata": {},
   "source": [
    "### Clean the customer dataset "
   ]
  },
  {
   "cell_type": "code",
   "execution_count": 48,
   "id": "4f679c04",
   "metadata": {},
   "outputs": [
    {
     "name": "stdout",
     "output_type": "stream",
     "text": [
      "columns with 80% missing values are removed\n",
      "Unknown values are replaced by numpy nan values\n",
      "Simple Imputer with \"most_frequent\" as the strategy is used to fill missing values\n",
      "Highly correlated features are determined using pearsons correlation and removed\n",
      "The following categorical attributes are converted to dummy variables  ['CAMEO_DEU_2015', 'CAMEO_DEUG_2015', 'CAMEO_INTL_2015', 'D19_LETZTER_KAUF_BRANCHE', 'EINGEFUEGT_AM', 'OST_WEST_KZ', 'PRODUCT_GROUP', 'CUSTOMER_GROUP']\n",
      "The PRODUCT_GROUP and CUSTOMER_GROUP attributes are converted to dummy variables\n"
     ]
    }
   ],
   "source": [
    "df3=clean_data(df_cust)"
   ]
  },
  {
   "cell_type": "code",
   "execution_count": 7,
   "id": "e8362b03",
   "metadata": {},
   "outputs": [
    {
     "name": "stdout",
     "output_type": "stream",
     "text": [
      "['CAMEO_DEU_2015', 'CAMEO_DEUG_2015', 'CAMEO_INTL_2015', 'D19_LETZTER_KAUF_BRANCHE', 'EINGEFUEGT_AM', 'OST_WEST_KZ', 'PRODUCT_GROUP', 'CUSTOMER_GROUP']\n"
     ]
    }
   ],
   "source": [
    "df3.to_csv('df_customer_processed11.csv',index=False)"
   ]
  },
  {
   "cell_type": "code",
   "execution_count": 89,
   "id": "63b08ec4",
   "metadata": {},
   "outputs": [
    {
     "name": "stdout",
     "output_type": "stream",
     "text": [
      "<class 'pandas.core.frame.DataFrame'>\n",
      "RangeIndex: 191652 entries, 0 to 191651\n",
      "Columns: 369 entries, LNR to SINGLE_BUYER\n",
      "dtypes: float64(239), int64(78), uint8(52)\n",
      "memory usage: 473.0 MB\n"
     ]
    }
   ],
   "source": [
    "df3.info()"
   ]
  },
  {
   "cell_type": "code",
   "execution_count": 90,
   "id": "f1f6640a",
   "metadata": {},
   "outputs": [
    {
     "data": {
      "text/plain": [
       "[]"
      ]
     },
     "execution_count": 90,
     "metadata": {},
     "output_type": "execute_result"
    }
   ],
   "source": [
    "df3.select_dtypes(include='object').columns.to_list()"
   ]
  },
  {
   "cell_type": "markdown",
   "id": "9ec28f9a",
   "metadata": {},
   "source": [
    "### The customer dataset is cleaned and there are no missing values and categorical attributes"
   ]
  },
  {
   "cell_type": "markdown",
   "id": "c07b948d",
   "metadata": {},
   "source": [
    "## Compare Azdias and the Customer Dataset\n",
    "### The azdias and the customer dataset is analysed by comparing some of the important attributes. "
   ]
  },
  {
   "cell_type": "code",
   "execution_count": 3,
   "id": "11d89891",
   "metadata": {},
   "outputs": [],
   "source": [
    "dff=pd.read_csv('df_azdias_processed11.csv')\n",
    "dff1=pd.read_csv('df_customer_processed11.csv')"
   ]
  },
  {
   "cell_type": "code",
   "execution_count": 5,
   "id": "e7eec647",
   "metadata": {},
   "outputs": [],
   "source": [
    "r1=dff.shape[0]\n",
    "r2=dff1.shape[0]"
   ]
  },
  {
   "cell_type": "code",
   "execution_count": 94,
   "id": "71b04024",
   "metadata": {},
   "outputs": [
    {
     "data": {
      "text/html": [
       "<div>\n",
       "<style scoped>\n",
       "    .dataframe tbody tr th:only-of-type {\n",
       "        vertical-align: middle;\n",
       "    }\n",
       "\n",
       "    .dataframe tbody tr th {\n",
       "        vertical-align: top;\n",
       "    }\n",
       "\n",
       "    .dataframe thead th {\n",
       "        text-align: right;\n",
       "    }\n",
       "</style>\n",
       "<table border=\"1\" class=\"dataframe\">\n",
       "  <thead>\n",
       "    <tr style=\"text-align: right;\">\n",
       "      <th></th>\n",
       "      <th>LNR</th>\n",
       "      <th>AGER_TYP</th>\n",
       "      <th>AKT_DAT_KL</th>\n",
       "      <th>ALTER_HH</th>\n",
       "      <th>ALTERSKATEGORIE_FEIN</th>\n",
       "      <th>ANZ_HH_TITEL</th>\n",
       "      <th>ANZ_KINDER</th>\n",
       "      <th>ANZ_PERSONEN</th>\n",
       "      <th>ANZ_TITEL</th>\n",
       "      <th>ARBEIT</th>\n",
       "      <th>...</th>\n",
       "      <th>D19_VOLLSORTIMENT</th>\n",
       "      <th>D19_WEIN_FEINKOST</th>\n",
       "      <th>direction_O</th>\n",
       "      <th>direction_W</th>\n",
       "      <th>year</th>\n",
       "      <th>COSMETIC</th>\n",
       "      <th>COSMETIC_AND_FOOD</th>\n",
       "      <th>FOOD</th>\n",
       "      <th>MULTI_BUYER</th>\n",
       "      <th>SINGLE_BUYER</th>\n",
       "    </tr>\n",
       "  </thead>\n",
       "  <tbody>\n",
       "    <tr>\n",
       "      <th>0</th>\n",
       "      <td>9626</td>\n",
       "      <td>2.0</td>\n",
       "      <td>1.0</td>\n",
       "      <td>10.0</td>\n",
       "      <td>10.0</td>\n",
       "      <td>0.0</td>\n",
       "      <td>0.0</td>\n",
       "      <td>2.0</td>\n",
       "      <td>0.0</td>\n",
       "      <td>1.0</td>\n",
       "      <td>...</td>\n",
       "      <td>0</td>\n",
       "      <td>0</td>\n",
       "      <td>0</td>\n",
       "      <td>1</td>\n",
       "      <td>1992</td>\n",
       "      <td>0</td>\n",
       "      <td>1</td>\n",
       "      <td>0</td>\n",
       "      <td>1</td>\n",
       "      <td>0</td>\n",
       "    </tr>\n",
       "    <tr>\n",
       "      <th>1</th>\n",
       "      <td>9628</td>\n",
       "      <td>2.0</td>\n",
       "      <td>9.0</td>\n",
       "      <td>11.0</td>\n",
       "      <td>10.0</td>\n",
       "      <td>0.0</td>\n",
       "      <td>0.0</td>\n",
       "      <td>3.0</td>\n",
       "      <td>0.0</td>\n",
       "      <td>3.0</td>\n",
       "      <td>...</td>\n",
       "      <td>0</td>\n",
       "      <td>0</td>\n",
       "      <td>0</td>\n",
       "      <td>1</td>\n",
       "      <td>1992</td>\n",
       "      <td>0</td>\n",
       "      <td>0</td>\n",
       "      <td>1</td>\n",
       "      <td>0</td>\n",
       "      <td>1</td>\n",
       "    </tr>\n",
       "    <tr>\n",
       "      <th>2</th>\n",
       "      <td>143872</td>\n",
       "      <td>2.0</td>\n",
       "      <td>1.0</td>\n",
       "      <td>6.0</td>\n",
       "      <td>0.0</td>\n",
       "      <td>0.0</td>\n",
       "      <td>0.0</td>\n",
       "      <td>1.0</td>\n",
       "      <td>0.0</td>\n",
       "      <td>3.0</td>\n",
       "      <td>...</td>\n",
       "      <td>0</td>\n",
       "      <td>0</td>\n",
       "      <td>0</td>\n",
       "      <td>1</td>\n",
       "      <td>1992</td>\n",
       "      <td>0</td>\n",
       "      <td>1</td>\n",
       "      <td>0</td>\n",
       "      <td>1</td>\n",
       "      <td>0</td>\n",
       "    </tr>\n",
       "    <tr>\n",
       "      <th>3</th>\n",
       "      <td>143873</td>\n",
       "      <td>1.0</td>\n",
       "      <td>1.0</td>\n",
       "      <td>8.0</td>\n",
       "      <td>8.0</td>\n",
       "      <td>0.0</td>\n",
       "      <td>0.0</td>\n",
       "      <td>0.0</td>\n",
       "      <td>0.0</td>\n",
       "      <td>1.0</td>\n",
       "      <td>...</td>\n",
       "      <td>0</td>\n",
       "      <td>0</td>\n",
       "      <td>0</td>\n",
       "      <td>1</td>\n",
       "      <td>1992</td>\n",
       "      <td>1</td>\n",
       "      <td>0</td>\n",
       "      <td>0</td>\n",
       "      <td>1</td>\n",
       "      <td>0</td>\n",
       "    </tr>\n",
       "    <tr>\n",
       "      <th>4</th>\n",
       "      <td>143874</td>\n",
       "      <td>2.0</td>\n",
       "      <td>1.0</td>\n",
       "      <td>20.0</td>\n",
       "      <td>14.0</td>\n",
       "      <td>0.0</td>\n",
       "      <td>0.0</td>\n",
       "      <td>4.0</td>\n",
       "      <td>0.0</td>\n",
       "      <td>3.0</td>\n",
       "      <td>...</td>\n",
       "      <td>0</td>\n",
       "      <td>0</td>\n",
       "      <td>0</td>\n",
       "      <td>1</td>\n",
       "      <td>1992</td>\n",
       "      <td>0</td>\n",
       "      <td>0</td>\n",
       "      <td>1</td>\n",
       "      <td>1</td>\n",
       "      <td>0</td>\n",
       "    </tr>\n",
       "  </tbody>\n",
       "</table>\n",
       "<p>5 rows × 369 columns</p>\n",
       "</div>"
      ],
      "text/plain": [
       "      LNR  AGER_TYP  AKT_DAT_KL  ALTER_HH  ALTERSKATEGORIE_FEIN  ANZ_HH_TITEL  \\\n",
       "0    9626       2.0         1.0      10.0                  10.0           0.0   \n",
       "1    9628       2.0         9.0      11.0                  10.0           0.0   \n",
       "2  143872       2.0         1.0       6.0                   0.0           0.0   \n",
       "3  143873       1.0         1.0       8.0                   8.0           0.0   \n",
       "4  143874       2.0         1.0      20.0                  14.0           0.0   \n",
       "\n",
       "   ANZ_KINDER  ANZ_PERSONEN  ANZ_TITEL  ARBEIT  ...  D19_VOLLSORTIMENT  \\\n",
       "0         0.0           2.0        0.0     1.0  ...                  0   \n",
       "1         0.0           3.0        0.0     3.0  ...                  0   \n",
       "2         0.0           1.0        0.0     3.0  ...                  0   \n",
       "3         0.0           0.0        0.0     1.0  ...                  0   \n",
       "4         0.0           4.0        0.0     3.0  ...                  0   \n",
       "\n",
       "   D19_WEIN_FEINKOST  direction_O  direction_W  year  COSMETIC  \\\n",
       "0                  0            0            1  1992         0   \n",
       "1                  0            0            1  1992         0   \n",
       "2                  0            0            1  1992         0   \n",
       "3                  0            0            1  1992         1   \n",
       "4                  0            0            1  1992         0   \n",
       "\n",
       "   COSMETIC_AND_FOOD  FOOD  MULTI_BUYER  SINGLE_BUYER  \n",
       "0                  1     0            1             0  \n",
       "1                  0     1            0             1  \n",
       "2                  1     0            1             0  \n",
       "3                  0     0            1             0  \n",
       "4                  0     1            1             0  \n",
       "\n",
       "[5 rows x 369 columns]"
      ]
     },
     "execution_count": 94,
     "metadata": {},
     "output_type": "execute_result"
    }
   ],
   "source": [
    "df3.head()"
   ]
  },
  {
   "cell_type": "markdown",
   "id": "f43be161",
   "metadata": {},
   "source": [
    "### Compare the Age in Azdias and Customer dataset"
   ]
  },
  {
   "cell_type": "code",
   "execution_count": 8,
   "id": "0f090754",
   "metadata": {},
   "outputs": [
    {
     "data": {
      "text/plain": [
       "Text(0.5, 1.0, 'AGER_TYP')"
      ]
     },
     "execution_count": 8,
     "metadata": {},
     "output_type": "execute_result"
    },
    {
     "data": {
      "image/png": "[encoded data removed]",
      "text/plain": [
       "<Figure size 432x288 with 1 Axes>"
      ]
     },
     "metadata": {
      "needs_background": "light"
     },
     "output_type": "display_data"
    },
    {
     "data": {
      "image/png": "[encoded data removed]",
      "text/plain": [
       "<Figure size 432x288 with 1 Axes>"
      ]
     },
     "metadata": {
      "needs_background": "light"
     },
     "output_type": "display_data"
    }
   ],
   "source": [
    "fig,ax=plt.subplots()\n",
    "v1=dff['AGER_TYP'].value_counts().sort_index()/r1*100\n",
    "v2=dff1['AGER_TYP'].value_counts().sort_index()/r2*100\n",
    "pp1=pd.DataFrame({'azdias':v1, 'cust':v2})\n",
    "ax=pp1.plot.bar(rot=0)\n",
    "x=[0,1,2]\n",
    "label=['passive elderly',\n",
    "'cultural elderly',\n",
    "'experience-driven elderly']\n",
    "plt.xticks(x,label,rotation=90)\n",
    "plt.ylabel(\"Percentage\")\n",
    "plt.title(\"AGER_TYP\")"
   ]
  },
  {
   "cell_type": "markdown",
   "id": "28753fd7",
   "metadata": {},
   "source": [
    "### The Azdias data has more cultural elderly percentage than customer data. Passive elderly people are more in customer data than azdias data. The least percentage of people are in experience-driven elderly in both the data sets. "
   ]
  },
  {
   "cell_type": "markdown",
   "id": "92eab180",
   "metadata": {},
   "source": [
    "### Compare the Last Transaction Activity"
   ]
  },
  {
   "cell_type": "code",
   "execution_count": 9,
   "id": "e2b1eded",
   "metadata": {},
   "outputs": [
    {
     "data": {
      "text/plain": [
       "Text(0.5, 1.0, 'LAST TRANSACTION ACTIVITY')"
      ]
     },
     "execution_count": 9,
     "metadata": {},
     "output_type": "execute_result"
    },
    {
     "data": {
      "image/png": "[encoded data removed]",
      "text/plain": [
       "<Figure size 432x288 with 1 Axes>"
      ]
     },
     "metadata": {
      "needs_background": "light"
     },
     "output_type": "display_data"
    }
   ],
   "source": [
    "v1=dff['D19_TELKO_DATUM'].value_counts().sort_index()/r1*100\n",
    "v2=dff1['D19_TELKO_DATUM'].value_counts().sort_index()/r2*100\n",
    "pp1=pd.DataFrame({'azdias':v1, 'cust':v2})\n",
    "\n",
    "ax=pp1.plot.bar(rot=0)\n",
    "x=[0,1,2,3,4,5,6,7,8,9]\n",
    "label=['highest activity within the last 12 months',\n",
    "'very high activity within the last 12 months',\n",
    "'high activity within the last 12 months',\n",
    "'increased activity within the last 12 months',\n",
    "'slightly increased activity within the last 12 months',\n",
    "'activity elder than 1 year',\n",
    "'activity elder than 1,5 years',\n",
    "'activity elder than 2 years',\n",
    "'activity elder than 3 years',\n",
    "'no transactions known']\n",
    "plt.xticks(x,label,rotation=90)\n",
    "plt.ylabel(\"Percentage\")\n",
    "plt.title(\"LAST TRANSACTION ACTIVITY\")"
   ]
  },
  {
   "cell_type": "markdown",
   "id": "5ea6ea42",
   "metadata": {},
   "source": [
    "### Compare the Vacation habits of both the dataset"
   ]
  },
  {
   "cell_type": "code",
   "execution_count": 10,
   "id": "dc220b1e",
   "metadata": {},
   "outputs": [
    {
     "data": {
      "text/plain": [
       "Text(0.5, 1.0, 'Vacation Habits')"
      ]
     },
     "execution_count": 10,
     "metadata": {},
     "output_type": "execute_result"
    },
    {
     "data": {
      "image/png": "[encoded data removed]",
      "text/plain": [
       "<Figure size 432x288 with 1 Axes>"
      ]
     },
     "metadata": {
      "needs_background": "light"
     },
     "output_type": "display_data"
    }
   ],
   "source": [
    "### The majority vaccation habits of the population and the azdias group is Nature Fans\n",
    "\n",
    "v1=dff['GFK_URLAUBERTYP'].value_counts().sort_index()/r1*100\n",
    "v2=dff1['GFK_URLAUBERTYP'].value_counts().sort_index()/r2*100\n",
    "\n",
    "pp1=pd.DataFrame({'azdias':v1, 'cust':v2})\n",
    "\n",
    "ax=pp1.plot.bar(rot=0)\n",
    "x=[0,1,2,3,4,5,6,7,8,9,10,11]\n",
    "label=['Event travelers','Family-oriented vacationists','Winter sportspeople',\n",
    "'Culture lovers',\n",
    "'Nature fans',\n",
    "'Hiker',\n",
    "'Golden ager',\n",
    "'Homeland-connected vacationists',\n",
    "'Package tour travelers',\n",
    "'Connoisseurs',\n",
    "'Active families',\n",
    "'without vacation']\n",
    "plt.xticks(x,label,rotation=90)\n",
    "plt.ylabel(\"Percentage\")\n",
    "plt.title(\"Vacation Habits\")"
   ]
  },
  {
   "cell_type": "markdown",
   "id": "799d4cd7",
   "metadata": {},
   "source": [
    "### The vacation habits of customer data has the highest perentage for Nature fans whereas azdias people prefer no vacation the most. "
   ]
  },
  {
   "cell_type": "markdown",
   "id": "edb19f5d",
   "metadata": {},
   "source": [
    "### Compare the Industrial areas"
   ]
  },
  {
   "cell_type": "code",
   "execution_count": 11,
   "id": "a24ba4bb",
   "metadata": {},
   "outputs": [
    {
     "data": {
      "text/plain": [
       "Text(0.5, 1.0, 'INDUSTRIAL AREAS')"
      ]
     },
     "execution_count": 11,
     "metadata": {},
     "output_type": "execute_result"
    },
    {
     "data": {
      "image/png": "[encoded data removed]",
      "text/plain": [
       "<Figure size 432x288 with 1 Axes>"
      ]
     },
     "metadata": {
      "needs_background": "light"
     },
     "output_type": "display_data"
    }
   ],
   "source": [
    "### The industrial area of the azdias and the population is mixed cell with low business share\n",
    "\n",
    "v1=dff['GEBAEUDETYP_RASTER'].value_counts().sort_index()/r1*100\n",
    "v2=dff1['GEBAEUDETYP_RASTER'].value_counts().sort_index()/r2*100\n",
    "pp1=pd.DataFrame({'azdias':v1, 'cust':v2})\n",
    "\n",
    "ax=pp1.plot.bar(rot=0)\n",
    "x=[0,1,2,3,4]\n",
    "label=['business cell','mixed cell with high business share','mixed cell with middle business share','mixed cell with low business share','residential cell']\n",
    "plt.xticks(x,label,rotation=90)\n",
    "plt.ylabel(\"Percentage\")\n",
    "plt.title(\"INDUSTRIAL AREAS\")"
   ]
  },
  {
   "cell_type": "markdown",
   "id": "65029831",
   "metadata": {},
   "source": [
    "### The azdias and customer data have higher percentage of mixed cell with low business share as the industrial area and business cell as the least. "
   ]
  },
  {
   "cell_type": "markdown",
   "id": "0a438821",
   "metadata": {},
   "source": [
    "### Compare the Financial type "
   ]
  },
  {
   "cell_type": "code",
   "execution_count": 12,
   "id": "98d656d0",
   "metadata": {},
   "outputs": [
    {
     "data": {
      "text/plain": [
       "Text(0.5, 1.0, 'FINANCIAL TYPE')"
      ]
     },
     "execution_count": 12,
     "metadata": {},
     "output_type": "execute_result"
    },
    {
     "data": {
      "image/png": "[encoded data removed]",
      "text/plain": [
       "<Figure size 432x288 with 1 Axes>"
      ]
     },
     "metadata": {
      "needs_background": "light"
     },
     "output_type": "display_data"
    }
   ],
   "source": [
    "### The Financial type of azdias is unremarkable and that of the population is money safer and investor.\n",
    "\n",
    "v1=dff['FINANZTYP'].value_counts().sort_index()/r1*100\n",
    "v2=dff1['FINANZTYP'].value_counts().sort_index()/r2*100\n",
    "pp1=pd.DataFrame({'azdias':v1, 'cust':v2})\n",
    "\n",
    "ax=pp1.plot.bar(rot=0)\n",
    "x=[0,1,2,3,4,5]\n",
    "label=['low finacial interest','money saver','main focus is the own house','be prepared','Investor','unremarkable']\n",
    "plt.xticks(x,label,rotation=90)\n",
    "plt.ylabel(\"Percentage\")\n",
    "plt.title(\"FINANCIAL TYPE\")"
   ]
  },
  {
   "cell_type": "markdown",
   "id": "1dc1d46b",
   "metadata": {},
   "source": [
    "### The financial type of customer data is 'to be prepared' as the highest percentage whereas for customer data, the financial type is 'unremarkable'. The azdias data has higher percentage of 'low financial interest' compared to customer data which has the lowest percentage for 'low financial interest'."
   ]
  },
  {
   "cell_type": "markdown",
   "id": "ba0860bf",
   "metadata": {},
   "source": [
    "### Compare the Car owners age"
   ]
  },
  {
   "cell_type": "code",
   "execution_count": 13,
   "id": "a46c9933",
   "metadata": {},
   "outputs": [
    {
     "data": {
      "text/plain": [
       "Text(0.5, 1.0, 'CAR OWNERS AGE')"
      ]
     },
     "execution_count": 13,
     "metadata": {},
     "output_type": "execute_result"
    },
    {
     "data": {
      "image/png": "[encoded data removed]",
      "text/plain": [
       "<Figure size 432x288 with 1 Axes>"
      ]
     },
     "metadata": {
      "needs_background": "light"
     },
     "output_type": "display_data"
    }
   ],
   "source": [
    "### The majority of the car owners age of azdias group is 40-50 years  and of the population is elder than 60 years.\n",
    "\n",
    "v1=dff['KBA05_MAXAH'].value_counts().sort_index()/r1*100\n",
    "v2=dff1['KBA05_MAXAH'].value_counts().sort_index()/r2*100\n",
    "pp1=pd.DataFrame({'azdias':v1, 'cust':v2})\n",
    "\n",
    "ax=pp1.plot.bar(rot=0)\n",
    "x=[0,1,2,3,4]\n",
    "label=['below 30 years','30 - 40 years','40 - 50 years','50 - 60 years','elder than 60 years']\n",
    "plt.xticks(x,label,rotation=80)\n",
    "plt.ylabel(\"Percentage\")\n",
    "plt.title(\"CAR OWNERS AGE\")"
   ]
  },
  {
   "cell_type": "markdown",
   "id": "b996564a",
   "metadata": {},
   "source": [
    "### The customer data has higher percentage of elderly people more than 60 years as car owners whereas azdias data has higher percentage of people in the age 40-50 years as car owners. "
   ]
  },
  {
   "cell_type": "markdown",
   "id": "496c9143",
   "metadata": {},
   "source": [
    "### Compare the Upper Class Cars"
   ]
  },
  {
   "cell_type": "code",
   "execution_count": 14,
   "id": "c5852594",
   "metadata": {},
   "outputs": [
    {
     "data": {
      "text/plain": [
       "Text(0.5, 1.0, 'UPPER CLASS CARS')"
      ]
     },
     "execution_count": 14,
     "metadata": {},
     "output_type": "execute_result"
    },
    {
     "data": {
      "image/png": "[encoded data removed]",
      "text/plain": [
       "<Figure size 432x288 with 1 Axes>"
      ]
     },
     "metadata": {
      "needs_background": "light"
     },
     "output_type": "display_data"
    }
   ],
   "source": [
    "# Comparison of share of Upper Class cars \n",
    "\n",
    "v1=dff['KBA05_MOD1'].value_counts().sort_index()/r1*100\n",
    "v2=dff1['KBA05_MOD1'].value_counts().sort_index()/r2*100\n",
    "pp1=pd.DataFrame({'azdias':v1, 'cust':v2})\n",
    "ax=pp1.plot.bar(rot=0)\n",
    "x=[0,1,2,3]\n",
    "label=['low','average','high','very high']\n",
    "plt.xticks(x,label)\n",
    "plt.ylabel(\"Percentage\")\n",
    "plt.title(\"UPPER CLASS CARS\")"
   ]
  },
  {
   "cell_type": "markdown",
   "id": "ee918743",
   "metadata": {},
   "source": [
    "### The azdias and the customer data has higher percentage of average upper class cars, followed by low upper class cars and lowest percentage of very high upper class cars."
   ]
  },
  {
   "cell_type": "markdown",
   "id": "65aec76d",
   "metadata": {},
   "source": [
    "### Compare the Purchasing power "
   ]
  },
  {
   "cell_type": "code",
   "execution_count": 15,
   "id": "d0720c40",
   "metadata": {},
   "outputs": [
    {
     "data": {
      "text/plain": [
       "Text(0.5, 1.0, 'PURCHASING POWER')"
      ]
     },
     "execution_count": 15,
     "metadata": {},
     "output_type": "execute_result"
    },
    {
     "data": {
      "image/png": "[encoded data removed]",
      "text/plain": [
       "<Figure size 432x288 with 1 Axes>"
      ]
     },
     "metadata": {
      "needs_background": "light"
     },
     "output_type": "display_data"
    }
   ],
   "source": [
    "### The purchasing power of majority of azdias and the population is average.\n",
    "\n",
    "v1=dff['KKK'].value_counts().sort_index()/r1*100\n",
    "v2=dff1['KKK'].value_counts().sort_index()/r2*100\n",
    "pp1=pd.DataFrame({'azdias':v1, 'cust':v2})\n",
    "label=['very high','high','average','low']\n",
    "ax=pp1.plot.bar(rot=0)\n",
    "x=[0,1,2,3]\n",
    "plt.xticks(x,label)\n",
    "plt.ylabel(\"Percentage\")\n",
    "plt.title(\"PURCHASING POWER\")"
   ]
  },
  {
   "cell_type": "markdown",
   "id": "a1b0a076",
   "metadata": {},
   "source": [
    "### The highest purchasing power of both azdias and customer data is 'average'. The azdias data has lowest percentage of 'very high' purchasing power and the customer data has lowest percentage of 'low' purchasing power. "
   ]
  },
  {
   "cell_type": "markdown",
   "id": "a4bbc1c0",
   "metadata": {},
   "source": [
    "# Transform the Dataset"
   ]
  },
  {
   "cell_type": "markdown",
   "id": "7f51530d",
   "metadata": {},
   "source": [
    "### Transform the Azdias dataset by using MinMax Normalization  \n",
    "###  and reduce the dimension using PCA"
   ]
  },
  {
   "cell_type": "code",
   "execution_count": 17,
   "id": "5b00d7b0",
   "metadata": {},
   "outputs": [
    {
     "name": "stdout",
     "output_type": "stream",
     "text": [
      "The data is normalized using Min Max normalization\n"
     ]
    },
    {
     "data": {
      "image/png": "[encoded data removed]",
      "text/plain": [
       "<Figure size 432x288 with 1 Axes>"
      ]
     },
     "metadata": {
      "needs_background": "light"
     },
     "output_type": "display_data"
    },
    {
     "name": "stdout",
     "output_type": "stream",
     "text": [
      "10 components explain 0.3583114351233094 of variance.\n",
      "20 components explain 0.45616190770893755 of variance.\n",
      "30 components explain 0.5224152626774895 of variance.\n",
      "40 components explain 0.573984731004912 of variance.\n",
      "50 components explain 0.6170517280245157 of variance.\n",
      "60 components explain 0.6553590523441606 of variance.\n",
      "70 components explain 0.6897458372458201 of variance.\n",
      "80 components explain 0.7204875612259809 of variance.\n",
      "90 components explain 0.747951674533444 of variance.\n",
      "100 components explain 0.773146495890075 of variance.\n",
      "110 components explain 0.7962306500131858 of variance.\n",
      "120 components explain 0.8171156559985242 of variance.\n",
      "130 components explain 0.8362245148151428 of variance.\n",
      "140 components explain 0.8538856187300559 of variance.\n",
      "150 components explain 0.8701564273248419 of variance.\n",
      "160 components explain 0.8851020300352713 of variance.\n",
      "170 components explain 0.8986717876093052 of variance.\n",
      "180 components explain 0.9108655820826664 of variance.\n",
      "190 components explain 0.9217918915290813 of variance.\n"
     ]
    }
   ],
   "source": [
    "df2=transformation(dff)"
   ]
  },
  {
   "cell_type": "markdown",
   "id": "46cdb998",
   "metadata": {},
   "source": [
    "### The number of components require to explain 87% of variance is 150 and hence PCA with 150 components are used to fit the dataset and a reduced representation of the data is obtained. "
   ]
  },
  {
   "cell_type": "code",
   "execution_count": 19,
   "id": "d0884dfa",
   "metadata": {},
   "outputs": [
    {
     "data": {
      "text/html": [
       "<div>\n",
       "<style scoped>\n",
       "    .dataframe tbody tr th:only-of-type {\n",
       "        vertical-align: middle;\n",
       "    }\n",
       "\n",
       "    .dataframe tbody tr th {\n",
       "        vertical-align: top;\n",
       "    }\n",
       "\n",
       "    .dataframe thead th {\n",
       "        text-align: right;\n",
       "    }\n",
       "</style>\n",
       "<table border=\"1\" class=\"dataframe\">\n",
       "  <thead>\n",
       "    <tr style=\"text-align: right;\">\n",
       "      <th></th>\n",
       "      <th>LNR</th>\n",
       "      <th>D19_BILDUNG</th>\n",
       "      <th>ANREDE_KZ</th>\n",
       "      <th>VHA</th>\n",
       "      <th>D19_VOLLSORTIMENT</th>\n",
       "      <th>RT_SCHNAEPPCHEN</th>\n",
       "      <th>KBA13_HERST_FORD_OPEL</th>\n",
       "      <th>D19_REISEN</th>\n",
       "      <th>KBA05_ALTER3</th>\n",
       "      <th>D19_BANKEN_GROSS</th>\n",
       "      <th>...</th>\n",
       "      <th>class_7</th>\n",
       "      <th>KBA13_FORD</th>\n",
       "      <th>D19_VERSICHERUNGEN</th>\n",
       "      <th>KBA05_MOD8</th>\n",
       "      <th>SEMIO_SOZ</th>\n",
       "      <th>CJT_GESAMTTYP</th>\n",
       "      <th>GEBURTSJAHR</th>\n",
       "      <th>KBA13_KW_90</th>\n",
       "      <th>direction_O</th>\n",
       "      <th>KBA13_BJ_2008</th>\n",
       "    </tr>\n",
       "  </thead>\n",
       "  <tbody>\n",
       "    <tr>\n",
       "      <th>0</th>\n",
       "      <td>0.806268</td>\n",
       "      <td>0.000000</td>\n",
       "      <td>0.0</td>\n",
       "      <td>0.0</td>\n",
       "      <td>0.0</td>\n",
       "      <td>0.75</td>\n",
       "      <td>0.50</td>\n",
       "      <td>0.000000</td>\n",
       "      <td>0.50</td>\n",
       "      <td>0.000000</td>\n",
       "      <td>...</td>\n",
       "      <td>0.0</td>\n",
       "      <td>0.50</td>\n",
       "      <td>0.000000</td>\n",
       "      <td>0.0</td>\n",
       "      <td>0.166667</td>\n",
       "      <td>0.2</td>\n",
       "      <td>0.000000</td>\n",
       "      <td>0.50</td>\n",
       "      <td>0.0</td>\n",
       "      <td>0.50</td>\n",
       "    </tr>\n",
       "    <tr>\n",
       "      <th>1</th>\n",
       "      <td>0.806273</td>\n",
       "      <td>0.000000</td>\n",
       "      <td>1.0</td>\n",
       "      <td>0.0</td>\n",
       "      <td>0.0</td>\n",
       "      <td>0.50</td>\n",
       "      <td>0.25</td>\n",
       "      <td>0.000000</td>\n",
       "      <td>0.00</td>\n",
       "      <td>0.000000</td>\n",
       "      <td>...</td>\n",
       "      <td>0.0</td>\n",
       "      <td>0.25</td>\n",
       "      <td>0.000000</td>\n",
       "      <td>0.0</td>\n",
       "      <td>0.666667</td>\n",
       "      <td>0.8</td>\n",
       "      <td>0.989588</td>\n",
       "      <td>0.50</td>\n",
       "      <td>0.0</td>\n",
       "      <td>0.50</td>\n",
       "    </tr>\n",
       "    <tr>\n",
       "      <th>2</th>\n",
       "      <td>0.806279</td>\n",
       "      <td>0.857143</td>\n",
       "      <td>1.0</td>\n",
       "      <td>0.0</td>\n",
       "      <td>1.0</td>\n",
       "      <td>0.75</td>\n",
       "      <td>0.50</td>\n",
       "      <td>0.000000</td>\n",
       "      <td>0.50</td>\n",
       "      <td>0.000000</td>\n",
       "      <td>...</td>\n",
       "      <td>0.0</td>\n",
       "      <td>0.75</td>\n",
       "      <td>0.000000</td>\n",
       "      <td>0.0</td>\n",
       "      <td>0.500000</td>\n",
       "      <td>0.4</td>\n",
       "      <td>0.981160</td>\n",
       "      <td>0.25</td>\n",
       "      <td>0.0</td>\n",
       "      <td>0.50</td>\n",
       "    </tr>\n",
       "    <tr>\n",
       "      <th>3</th>\n",
       "      <td>0.806280</td>\n",
       "      <td>0.000000</td>\n",
       "      <td>1.0</td>\n",
       "      <td>0.2</td>\n",
       "      <td>0.0</td>\n",
       "      <td>0.25</td>\n",
       "      <td>0.25</td>\n",
       "      <td>0.857143</td>\n",
       "      <td>0.50</td>\n",
       "      <td>0.000000</td>\n",
       "      <td>...</td>\n",
       "      <td>0.0</td>\n",
       "      <td>0.50</td>\n",
       "      <td>0.000000</td>\n",
       "      <td>0.0</td>\n",
       "      <td>0.666667</td>\n",
       "      <td>0.2</td>\n",
       "      <td>0.970253</td>\n",
       "      <td>0.50</td>\n",
       "      <td>0.0</td>\n",
       "      <td>0.75</td>\n",
       "    </tr>\n",
       "    <tr>\n",
       "      <th>4</th>\n",
       "      <td>0.806297</td>\n",
       "      <td>0.857143</td>\n",
       "      <td>0.0</td>\n",
       "      <td>0.0</td>\n",
       "      <td>0.0</td>\n",
       "      <td>1.00</td>\n",
       "      <td>0.50</td>\n",
       "      <td>0.000000</td>\n",
       "      <td>0.75</td>\n",
       "      <td>0.333333</td>\n",
       "      <td>...</td>\n",
       "      <td>0.0</td>\n",
       "      <td>0.75</td>\n",
       "      <td>0.428571</td>\n",
       "      <td>0.5</td>\n",
       "      <td>0.833333</td>\n",
       "      <td>0.8</td>\n",
       "      <td>0.973228</td>\n",
       "      <td>0.50</td>\n",
       "      <td>0.0</td>\n",
       "      <td>0.50</td>\n",
       "    </tr>\n",
       "  </tbody>\n",
       "</table>\n",
       "<p>5 rows × 97 columns</p>\n",
       "</div>"
      ],
      "text/plain": [
       "        LNR  D19_BILDUNG  ANREDE_KZ  VHA  D19_VOLLSORTIMENT  RT_SCHNAEPPCHEN  \\\n",
       "0  0.806268     0.000000        0.0  0.0                0.0             0.75   \n",
       "1  0.806273     0.000000        1.0  0.0                0.0             0.50   \n",
       "2  0.806279     0.857143        1.0  0.0                1.0             0.75   \n",
       "3  0.806280     0.000000        1.0  0.2                0.0             0.25   \n",
       "4  0.806297     0.857143        0.0  0.0                0.0             1.00   \n",
       "\n",
       "   KBA13_HERST_FORD_OPEL  D19_REISEN  KBA05_ALTER3  D19_BANKEN_GROSS  ...  \\\n",
       "0                   0.50    0.000000          0.50          0.000000  ...   \n",
       "1                   0.25    0.000000          0.00          0.000000  ...   \n",
       "2                   0.50    0.000000          0.50          0.000000  ...   \n",
       "3                   0.25    0.857143          0.50          0.000000  ...   \n",
       "4                   0.50    0.000000          0.75          0.333333  ...   \n",
       "\n",
       "   class_7  KBA13_FORD  D19_VERSICHERUNGEN  KBA05_MOD8  SEMIO_SOZ  \\\n",
       "0      0.0        0.50            0.000000         0.0   0.166667   \n",
       "1      0.0        0.25            0.000000         0.0   0.666667   \n",
       "2      0.0        0.75            0.000000         0.0   0.500000   \n",
       "3      0.0        0.50            0.000000         0.0   0.666667   \n",
       "4      0.0        0.75            0.428571         0.5   0.833333   \n",
       "\n",
       "   CJT_GESAMTTYP  GEBURTSJAHR  KBA13_KW_90  direction_O  KBA13_BJ_2008  \n",
       "0            0.2     0.000000         0.50          0.0           0.50  \n",
       "1            0.8     0.989588         0.50          0.0           0.50  \n",
       "2            0.4     0.981160         0.25          0.0           0.50  \n",
       "3            0.2     0.970253         0.50          0.0           0.75  \n",
       "4            0.8     0.973228         0.50          0.0           0.50  \n",
       "\n",
       "[5 rows x 97 columns]"
      ]
     },
     "execution_count": 19,
     "metadata": {},
     "output_type": "execute_result"
    }
   ],
   "source": [
    "df2.head()"
   ]
  },
  {
   "cell_type": "code",
   "execution_count": 20,
   "id": "01c9bd2a",
   "metadata": {},
   "outputs": [
    {
     "name": "stdout",
     "output_type": "stream",
     "text": [
      "<class 'pandas.core.frame.DataFrame'>\n",
      "RangeIndex: 891221 entries, 0 to 891220\n",
      "Data columns (total 97 columns):\n",
      " #   Column                 Non-Null Count   Dtype  \n",
      "---  ------                 --------------   -----  \n",
      " 0   LNR                    891221 non-null  float64\n",
      " 1   D19_BILDUNG            891221 non-null  float64\n",
      " 2   ANREDE_KZ              891221 non-null  float64\n",
      " 3   VHA                    891221 non-null  float64\n",
      " 4   D19_VOLLSORTIMENT      891221 non-null  float64\n",
      " 5   RT_SCHNAEPPCHEN        891221 non-null  float64\n",
      " 6   KBA13_HERST_FORD_OPEL  891221 non-null  float64\n",
      " 7   D19_REISEN             891221 non-null  float64\n",
      " 8   KBA05_ALTER3           891221 non-null  float64\n",
      " 9   D19_BANKEN_GROSS       891221 non-null  float64\n",
      " 10  FINANZ_HAUSBAUER       891221 non-null  float64\n",
      " 11  D19_KINDERARTIKEL      891221 non-null  float64\n",
      " 12  UMFELD_JUNG            891221 non-null  float64\n",
      " 13  D19_SONSTIGE           891221 non-null  float64\n",
      " 14  D19_SOZIALES           891221 non-null  float64\n",
      " 15  AKT_DAT_KL             891221 non-null  float64\n",
      " 16  UNGLEICHENN_FLAG       891221 non-null  float64\n",
      " 17  KBA05_ANTG3            891221 non-null  float64\n",
      " 18  ZABEOTYP               891221 non-null  float64\n",
      " 19  KBA05_MAXBJ            891221 non-null  float64\n",
      " 20  D19_SCHUHE.1           891221 non-null  float64\n",
      " 21  VERS_TYP               891221 non-null  float64\n",
      " 22  KBA13_KMH_140          891221 non-null  float64\n",
      " 23  FINANZ_SPARER          891221 non-null  float64\n",
      " 24  D19_DROGERIEARTIKEL    891221 non-null  float64\n",
      " 25  GREEN_AVANTGARDE       891221 non-null  float64\n",
      " 26  KBA05_SEG1             891221 non-null  float64\n",
      " 27  GEBAEUDETYP            891221 non-null  float64\n",
      " 28  KBA05_ALTER1           891221 non-null  float64\n",
      " 29  KBA13_KRSZUL_NEU       891221 non-null  float64\n",
      " 30  GFK_URLAUBERTYP        891221 non-null  float64\n",
      " 31  KBA13_KMH_0_140        891221 non-null  float64\n",
      " 32  class_6                891221 non-null  float64\n",
      " 33  KBA05_FRAU             891221 non-null  float64\n",
      " 34  D19_TELKO_MOBILE       891221 non-null  float64\n",
      " 35  KBA05_MAXSEG           891221 non-null  float64\n",
      " 36  KBA13_NISSAN           891221 non-null  float64\n",
      " 37  SHOPPER_TYP            891221 non-null  float64\n",
      " 38  NATIONALITAET_KZ       891221 non-null  float64\n",
      " 39  KBA13_KW_120           891221 non-null  float64\n",
      " 40  KBA13_SEG_OBERKLASSE   891221 non-null  float64\n",
      " 41  KBA13_MAZDA            891221 non-null  float64\n",
      " 42  KBA13_PEUGEOT          891221 non-null  float64\n",
      " 43  KBA05_ANHANG           891221 non-null  float64\n",
      " 44  D19_BANKEN_REST        891221 non-null  float64\n",
      " 45  KBA13_FIAT             891221 non-null  float64\n",
      " 46  D19_UNBEKANNT          891221 non-null  float64\n",
      " 47  D19_BEKLEIDUNG_REST    891221 non-null  float64\n",
      " 48  D19_HANDWERK           891221 non-null  float64\n",
      " 49  WOHNDAUER_2008         891221 non-null  float64\n",
      " 50  class_5                891221 non-null  float64\n",
      " 51  KKK                    891221 non-null  float64\n",
      " 52  KBA13_KMH_251          891221 non-null  float64\n",
      " 53  HH_DELTA_FLAG          891221 non-null  float64\n",
      " 54  D19_BUCH_CD            891221 non-null  float64\n",
      " 55  D19_BANKEN_DIREKT      891221 non-null  float64\n",
      " 56  UMFELD_ALT             891221 non-null  float64\n",
      " 57  KBA13_CCM_1800         891221 non-null  float64\n",
      " 58  KBA13_CCM_1600         891221 non-null  float64\n",
      " 59  KONSUMZELLE            891221 non-null  float64\n",
      " 60  class_2                891221 non-null  float64\n",
      " 61  HEALTH_TYP             891221 non-null  float64\n",
      " 62  KBA13_CCM_3001         891221 non-null  float64\n",
      " 63  REGIOTYP               891221 non-null  float64\n",
      " 64  D19_HAUS_DEKO          891221 non-null  float64\n",
      " 65  KBA13_KRSSEG_OBER      891221 non-null  float64\n",
      " 66  D19_LOTTO              891221 non-null  float64\n",
      " 67  D19_FREIZEIT           891221 non-null  float64\n",
      " 68  D19_KOSMETIK           891221 non-null  float64\n",
      " 69  FINANZTYP              891221 non-null  float64\n",
      " 70  class_4                891221 non-null  float64\n",
      " 71  D19_TECHNIK            891221 non-null  float64\n",
      " 72  KBA05_ZUL3             891221 non-null  float64\n",
      " 73  D19_VERSAND_REST       891221 non-null  float64\n",
      " 74  EXTSEL992              891221 non-null  float64\n",
      " 75  KBA05_KRSKLEIN         891221 non-null  float64\n",
      " 76  KBA05_SEG7             891221 non-null  float64\n",
      " 77  KBA13_BJ_2004          891221 non-null  float64\n",
      " 78  KBA13_CCM_1500         891221 non-null  float64\n",
      " 79  D19_SONSTIGE.1         891221 non-null  float64\n",
      " 80  class_8                891221 non-null  float64\n",
      " 81  KBA13_KMH_110          891221 non-null  float64\n",
      " 82  KBA13_MOTOR            891221 non-null  float64\n",
      " 83  W_KEIT_KIND_HH         891221 non-null  float64\n",
      " 84  KBA05_VORB1            891221 non-null  float64\n",
      " 85  D19_TELKO_REST         891221 non-null  float64\n",
      " 86  KBA05_MOTRAD           891221 non-null  float64\n",
      " 87  class_7                891221 non-null  float64\n",
      " 88  KBA13_FORD             891221 non-null  float64\n",
      " 89  D19_VERSICHERUNGEN     891221 non-null  float64\n",
      " 90  KBA05_MOD8             891221 non-null  float64\n",
      " 91  SEMIO_SOZ              891221 non-null  float64\n",
      " 92  CJT_GESAMTTYP          891221 non-null  float64\n",
      " 93  GEBURTSJAHR            891221 non-null  float64\n",
      " 94  KBA13_KW_90            891221 non-null  float64\n",
      " 95  direction_O            891221 non-null  float64\n",
      " 96  KBA13_BJ_2008          891221 non-null  float64\n",
      "dtypes: float64(97)\n",
      "memory usage: 659.5 MB\n"
     ]
    }
   ],
   "source": [
    "df2.info()"
   ]
  },
  {
   "cell_type": "markdown",
   "id": "a76953e0",
   "metadata": {},
   "source": [
    "### Transform the Customer dataset by using MinMax Normalization  \n",
    "###  and reduce the dimension using PCA"
   ]
  },
  {
   "cell_type": "code",
   "execution_count": 21,
   "id": "4260ae93",
   "metadata": {},
   "outputs": [
    {
     "name": "stdout",
     "output_type": "stream",
     "text": [
      "The data is normalized using Min Max normalization\n"
     ]
    },
    {
     "data": {
      "image/png": "[encoded data removed]",
      "text/plain": [
       "<Figure size 432x288 with 1 Axes>"
      ]
     },
     "metadata": {
      "needs_background": "light"
     },
     "output_type": "display_data"
    },
    {
     "name": "stdout",
     "output_type": "stream",
     "text": [
      "10 components explain 0.358090336624621 of variance.\n",
      "20 components explain 0.4524455081455376 of variance.\n",
      "30 components explain 0.5156933178915248 of variance.\n",
      "40 components explain 0.5670861218549259 of variance.\n",
      "50 components explain 0.6123520535758508 of variance.\n",
      "60 components explain 0.6525186159626581 of variance.\n",
      "70 components explain 0.6878317889866895 of variance.\n",
      "80 components explain 0.7194929344096752 of variance.\n",
      "90 components explain 0.7476663622984763 of variance.\n",
      "100 components explain 0.7733573314974306 of variance.\n",
      "110 components explain 0.7967290421206499 of variance.\n",
      "120 components explain 0.8183119497519593 of variance.\n",
      "130 components explain 0.8381802558082642 of variance.\n",
      "140 components explain 0.856428758861532 of variance.\n",
      "150 components explain 0.8731644362802531 of variance.\n",
      "160 components explain 0.888378155278001 of variance.\n",
      "170 components explain 0.9021053835175671 of variance.\n",
      "180 components explain 0.9142128567095044 of variance.\n",
      "190 components explain 0.925070489546855 of variance.\n"
     ]
    }
   ],
   "source": [
    "df3=transformation(dff1)"
   ]
  },
  {
   "cell_type": "markdown",
   "id": "a5e9ba82",
   "metadata": {},
   "source": [
    "### The number of components require to explain 87% of variance is 150 and hence PCA with 150 components are used to fit the dataset and a reduced representation of the data is obtained. "
   ]
  },
  {
   "cell_type": "code",
   "execution_count": 22,
   "id": "6dc0c3a9",
   "metadata": {},
   "outputs": [
    {
     "name": "stdout",
     "output_type": "stream",
     "text": [
      "<class 'pandas.core.frame.DataFrame'>\n",
      "RangeIndex: 191652 entries, 0 to 191651\n",
      "Data columns (total 98 columns):\n",
      " #   Column                  Non-Null Count   Dtype  \n",
      "---  ------                  --------------   -----  \n",
      " 0   LNR                     191652 non-null  float64\n",
      " 1   D19_BILDUNG             191652 non-null  float64\n",
      " 2   ANREDE_KZ               191652 non-null  float64\n",
      " 3   KBA05_HERST5            191652 non-null  float64\n",
      " 4   AGER_TYP                191652 non-null  float64\n",
      " 5   VHA                     191652 non-null  float64\n",
      " 6   D19_VOLLSORTIMENT       191652 non-null  float64\n",
      " 7   KK_KUNDENTYP            191652 non-null  float64\n",
      " 8   KBA13_BJ_2006           191652 non-null  float64\n",
      " 9   D19_REISEN              191652 non-null  float64\n",
      " 10  HH_EINKOMMEN_SCORE      191652 non-null  float64\n",
      " 11  D19_BANKEN_GROSS        191652 non-null  float64\n",
      " 12  D19_RATGEBER            191652 non-null  float64\n",
      " 13  D19_KINDERARTIKEL       191652 non-null  float64\n",
      " 14  UMFELD_JUNG             191652 non-null  float64\n",
      " 15  D19_SONSTIGE            191652 non-null  float64\n",
      " 16  D19_SOZIALES            191652 non-null  float64\n",
      " 17  AKT_DAT_KL              191652 non-null  float64\n",
      " 18  D19_BUCH_CD.1           191652 non-null  float64\n",
      " 19  D19_VOLLSORTIMENT.1     191652 non-null  float64\n",
      " 20  UNGLEICHENN_FLAG        191652 non-null  float64\n",
      " 21  KBA05_MAXBJ             191652 non-null  float64\n",
      " 22  VERS_TYP                191652 non-null  float64\n",
      " 23  KBA13_KMH_140           191652 non-null  float64\n",
      " 24  D19_WEIN_FEINKOST       191652 non-null  float64\n",
      " 25  KBA13_TOYOTA            191652 non-null  float64\n",
      " 26  D19_DROGERIEARTIKEL     191652 non-null  float64\n",
      " 27  GREEN_AVANTGARDE        191652 non-null  float64\n",
      " 28  KBA05_SEG1              191652 non-null  float64\n",
      " 29  GEBAEUDETYP             191652 non-null  float64\n",
      " 30  KBA05_ALTER1            191652 non-null  float64\n",
      " 31  KBA13_KRSZUL_NEU        191652 non-null  float64\n",
      " 32  GFK_URLAUBERTYP         191652 non-null  float64\n",
      " 33  D19_ENERGIE             191652 non-null  float64\n",
      " 34  KBA13_KMH_0_140         191652 non-null  float64\n",
      " 35  KBA13_CCM_1200          191652 non-null  float64\n",
      " 36  class_6                 191652 non-null  float64\n",
      " 37  KBA05_FRAU              191652 non-null  float64\n",
      " 38  KBA13_NISSAN            191652 non-null  float64\n",
      " 39  SEMIO_MAT               191652 non-null  float64\n",
      " 40  SHOPPER_TYP             191652 non-null  float64\n",
      " 41  KBA05_ANHANG            191652 non-null  float64\n",
      " 42  COSMETIC_AND_FOOD       191652 non-null  float64\n",
      " 43  D19_BANKEN_REST         191652 non-null  float64\n",
      " 44  D19_UNBEKANNT           191652 non-null  float64\n",
      " 45  D19_HANDWERK            191652 non-null  float64\n",
      " 46  D19_BEKLEIDUNG_REST     191652 non-null  float64\n",
      " 47  RETOURTYP_BK_S          191652 non-null  float64\n",
      " 48  D19_LEBENSMITTEL        191652 non-null  float64\n",
      " 49  class_5                 191652 non-null  float64\n",
      " 50  KKK                     191652 non-null  float64\n",
      " 51  KBA13_KMH_251           191652 non-null  float64\n",
      " 52  HH_DELTA_FLAG           191652 non-null  float64\n",
      " 53  D19_BUCH_CD             191652 non-null  float64\n",
      " 54  D19_BANKEN_DIREKT       191652 non-null  float64\n",
      " 55  UMFELD_ALT              191652 non-null  float64\n",
      " 56  KBA13_CCM_1800          191652 non-null  float64\n",
      " 57  KBA13_CCM_1600          191652 non-null  float64\n",
      " 58  KONSUMZELLE             191652 non-null  float64\n",
      " 59  class_2                 191652 non-null  float64\n",
      " 60  HEALTH_TYP              191652 non-null  float64\n",
      " 61  KBA13_HERST_AUDI_VW     191652 non-null  float64\n",
      " 62  KBA13_CCM_3001          191652 non-null  float64\n",
      " 63  D19_HAUS_DEKO           191652 non-null  float64\n",
      " 64  D19_LOTTO               191652 non-null  float64\n",
      " 65  D19_FREIZEIT            191652 non-null  float64\n",
      " 66  COSMETIC                191652 non-null  float64\n",
      " 67  D19_NAHRUNGSERGAENZUNG  191652 non-null  float64\n",
      " 68  KBA13_SITZE_6           191652 non-null  float64\n",
      " 69  D19_KOSMETIK            191652 non-null  float64\n",
      " 70  class_4                 191652 non-null  float64\n",
      " 71  class_1                 191652 non-null  float64\n",
      " 72  D19_TECHNIK             191652 non-null  float64\n",
      " 73  D19_VERSAND_REST        191652 non-null  float64\n",
      " 74  D19_SCHUHE              191652 non-null  float64\n",
      " 75  KBA05_KRSKLEIN          191652 non-null  float64\n",
      " 76  KBA05_SEG7              191652 non-null  float64\n",
      " 77  D19_SONSTIGE.1          191652 non-null  float64\n",
      " 78  KBA13_CCM_1500          191652 non-null  float64\n",
      " 79  D19_KONSUMTYP_MAX       191652 non-null  float64\n",
      " 80  class_8                 191652 non-null  float64\n",
      " 81  KBA13_KMH_110           191652 non-null  float64\n",
      " 82  KBA13_MOTOR             191652 non-null  float64\n",
      " 83  ONLINE_PURCHASE         191652 non-null  float64\n",
      " 84  D19_TELKO_REST          191652 non-null  float64\n",
      " 85  KBA05_MOTRAD            191652 non-null  float64\n",
      " 86  EWDICHTE                191652 non-null  float64\n",
      " 87  class_7                 191652 non-null  float64\n",
      " 88  KBA13_FORD              191652 non-null  float64\n",
      " 89  KBA13_ALTERHALTER_45    191652 non-null  float64\n",
      " 90  D19_VERSICHERUNGEN      191652 non-null  float64\n",
      " 91  KBA05_MOD8              191652 non-null  float64\n",
      " 92  SEMIO_SOZ               191652 non-null  float64\n",
      " 93  CJT_GESAMTTYP           191652 non-null  float64\n",
      " 94  GEBURTSJAHR             191652 non-null  float64\n",
      " 95  KBA13_KW_90             191652 non-null  float64\n",
      " 96  D19_BEKLEIDUNG_GEH      191652 non-null  float64\n",
      " 97  KBA13_BJ_2008           191652 non-null  float64\n",
      "dtypes: float64(98)\n",
      "memory usage: 143.3 MB\n"
     ]
    }
   ],
   "source": [
    "df3.info()"
   ]
  },
  {
   "cell_type": "code",
   "execution_count": 47,
   "id": "d542a0be",
   "metadata": {},
   "outputs": [
    {
     "data": {
      "text/plain": [
       "['class_5',\n",
       " 'D19_BILDUNG',\n",
       " 'KKK',\n",
       " 'KBA05_MAXBJ',\n",
       " 'KBA13_KMH_251',\n",
       " 'D19_VERSAND_REST',\n",
       " 'VERS_TYP',\n",
       " 'HH_DELTA_FLAG',\n",
       " 'ANREDE_KZ',\n",
       " 'KBA13_KMH_140',\n",
       " 'VHA',\n",
       " 'D19_BUCH_CD',\n",
       " 'KBA05_KRSKLEIN',\n",
       " 'D19_BANKEN_DIREKT',\n",
       " 'UMFELD_ALT',\n",
       " 'KBA13_CCM_1800',\n",
       " 'KBA05_SEG7',\n",
       " 'D19_SONSTIGE.1',\n",
       " 'KBA13_CCM_1500',\n",
       " 'D19_VOLLSORTIMENT',\n",
       " 'KBA13_CCM_1600',\n",
       " 'class_8',\n",
       " 'KBA13_KMH_110',\n",
       " 'KONSUMZELLE',\n",
       " 'KBA13_MOTOR',\n",
       " 'class_2',\n",
       " 'D19_DROGERIEARTIKEL',\n",
       " 'D19_TECHNIK',\n",
       " 'HEALTH_TYP',\n",
       " 'GREEN_AVANTGARDE',\n",
       " 'KBA05_SEG1',\n",
       " 'GEBAEUDETYP',\n",
       " 'KBA05_ALTER1',\n",
       " 'D19_TELKO_REST',\n",
       " 'D19_REISEN',\n",
       " 'KBA13_KRSZUL_NEU',\n",
       " 'KBA13_CCM_3001',\n",
       " 'KBA05_MOTRAD',\n",
       " 'GFK_URLAUBERTYP',\n",
       " 'class_7',\n",
       " 'D19_BANKEN_GROSS',\n",
       " 'KBA13_KMH_0_140',\n",
       " 'D19_HAUS_DEKO',\n",
       " 'class_6',\n",
       " 'D19_KINDERARTIKEL',\n",
       " 'UMFELD_JUNG',\n",
       " 'KBA05_FRAU',\n",
       " 'KBA13_FORD',\n",
       " 'D19_LOTTO',\n",
       " 'KBA13_NISSAN',\n",
       " 'D19_SONSTIGE',\n",
       " 'D19_VERSICHERUNGEN',\n",
       " 'KBA05_MOD8',\n",
       " 'SHOPPER_TYP',\n",
       " 'SEMIO_SOZ',\n",
       " 'D19_SOZIALES',\n",
       " 'D19_FREIZEIT',\n",
       " 'cluster',\n",
       " 'KBA05_ANHANG',\n",
       " 'D19_BANKEN_REST',\n",
       " 'D19_UNBEKANNT',\n",
       " 'AKT_DAT_KL',\n",
       " 'D19_KOSMETIK',\n",
       " 'CJT_GESAMTTYP',\n",
       " 'D19_BEKLEIDUNG_REST',\n",
       " 'D19_HANDWERK',\n",
       " 'class_4',\n",
       " 'LNR',\n",
       " 'GEBURTSJAHR',\n",
       " 'KBA13_KW_90',\n",
       " 'UNGLEICHENN_FLAG',\n",
       " 'KBA13_BJ_2008']"
      ]
     },
     "execution_count": 47,
     "metadata": {},
     "output_type": "execute_result"
    }
   ],
   "source": [
    "inter=list(set(df2.columns.to_list()).intersection(set(df3.columns.to_list())))\n",
    "inter"
   ]
  },
  {
   "cell_type": "markdown",
   "id": "af62fe95",
   "metadata": {},
   "source": [
    "## Cluster the Data using KMeans Clustering"
   ]
  },
  {
   "cell_type": "markdown",
   "id": "ab00c9d5",
   "metadata": {},
   "source": [
    "### The next step would be to cluster the datapoints to find the segmentation of the population. Before applying the cluster method, the number of clusters is tobe determined. The Elbow method is a very popular technique and the idea is to run k-means clustering for a range of clusters k (let’s say from 1 to 10) and for each value, we are calculating the sum of squared distances from each point to its assigned center(distortions). When the distortions are plotted and the plot looks like an arm then the “elbow”(the point of inflection on the curve) is the best value of k."
   ]
  },
  {
   "cell_type": "markdown",
   "id": "b90d3277",
   "metadata": {},
   "source": [
    "### Cluster the Azdias Dataset"
   ]
  },
  {
   "cell_type": "code",
   "execution_count": 23,
   "id": "1cb517c5",
   "metadata": {},
   "outputs": [
    {
     "data": {
      "image/png": "[encoded data removed]",
      "text/plain": [
       "<Figure size 432x288 with 1 Axes>"
      ]
     },
     "metadata": {
      "needs_background": "light"
     },
     "output_type": "display_data"
    },
    {
     "name": "stdout",
     "output_type": "stream",
     "text": [
      "Enter the no, of clusters seeing the graph from Elbow method : 8\n",
      "The number of clusters passed as parameter to KMeans Clustering is  8\n"
     ]
    }
   ],
   "source": [
    "clust_az=segmentation(df2)"
   ]
  },
  {
   "cell_type": "markdown",
   "id": "1ad7635b",
   "metadata": {},
   "source": [
    "### The point of inflection on the curve is 8 and hence KMeans clustering method clusters the dataset into 8 clusters "
   ]
  },
  {
   "cell_type": "code",
   "execution_count": 122,
   "id": "41f9aade",
   "metadata": {},
   "outputs": [
    {
     "data": {
      "text/plain": [
       "Text(0.5, 1.0, 'Azdias')"
      ]
     },
     "execution_count": 122,
     "metadata": {},
     "output_type": "execute_result"
    },
    {
     "data": {
      "image/png": "[encoded data removed]",
      "text/plain": [
       "<Figure size 432x288 with 1 Axes>"
      ]
     },
     "metadata": {
      "needs_background": "light"
     },
     "output_type": "display_data"
    }
   ],
   "source": [
    "cc1=clust_az.groupby('cluster')['LNR'].count()\n",
    "cc1.plot(kind='bar')\n",
    "plt.ylabel('No. of persons')\n",
    "plt.title('Azdias')"
   ]
  },
  {
   "cell_type": "markdown",
   "id": "1972f859",
   "metadata": {},
   "source": [
    "### Cluster -7 has the highest number of people followed by cluster-4 and cluster-6. Cluster-0 has the least number of people."
   ]
  },
  {
   "cell_type": "markdown",
   "id": "7e6d9959",
   "metadata": {},
   "source": [
    "### Cluster the Customer Dataset"
   ]
  },
  {
   "cell_type": "code",
   "execution_count": 25,
   "id": "009b6a8f",
   "metadata": {},
   "outputs": [
    {
     "data": {
      "image/png": "[encoded data removed]",
      "text/plain": [
       "<Figure size 432x288 with 1 Axes>"
      ]
     },
     "metadata": {
      "needs_background": "light"
     },
     "output_type": "display_data"
    },
    {
     "name": "stdout",
     "output_type": "stream",
     "text": [
      "Enter the no, of clusters seeing the graph from Elbow method : 8\n",
      "The number of clusters passed as parameter to KMeans Clustering is  8\n"
     ]
    }
   ],
   "source": [
    "clust_ct=segmentation(df3)"
   ]
  },
  {
   "cell_type": "markdown",
   "id": "1bf37cf9",
   "metadata": {},
   "source": [
    "### The point of inflection on the curve is 8 and hence KMeans clustering method clusters the dataset into 8 clusters "
   ]
  },
  {
   "cell_type": "code",
   "execution_count": 123,
   "id": "e132ed58",
   "metadata": {},
   "outputs": [
    {
     "data": {
      "text/plain": [
       "Text(0.5, 1.0, 'Customer')"
      ]
     },
     "execution_count": 123,
     "metadata": {},
     "output_type": "execute_result"
    },
    {
     "data": {
      "image/png": "[encoded data removed]",
      "text/plain": [
       "<Figure size 432x288 with 1 Axes>"
      ]
     },
     "metadata": {
      "needs_background": "light"
     },
     "output_type": "display_data"
    }
   ],
   "source": [
    "cc=clust_ct.groupby('cluster')['LNR'].count()\n",
    "cc.plot(kind='bar')\n",
    "plt.ylabel('No. of persons')\n",
    "plt.title('Customer')"
   ]
  },
  {
   "cell_type": "markdown",
   "id": "ac777988",
   "metadata": {},
   "source": [
    "### Cluster-6 has the highest number of people followed by cluster-3 and cluster-5. Cluster-7 has the least number of people."
   ]
  },
  {
   "cell_type": "markdown",
   "id": "d264f372",
   "metadata": {},
   "source": [
    "## Compare the Clusters of Azdias and Customer Dataset"
   ]
  },
  {
   "cell_type": "code",
   "execution_count": 178,
   "id": "cab92fae",
   "metadata": {},
   "outputs": [],
   "source": [
    "int_col=['D19_TELKO_REST','KBA13_CCM_1800','HEALTH_TYP','GFK_URLAUBERTYP','KKK','HEALTH_TYP']\n",
    "cl_cols=['class_2','class_4','class_5','class_6','class_7','class_8']"
   ]
  },
  {
   "cell_type": "code",
   "execution_count": 179,
   "id": "1e1ce17b",
   "metadata": {},
   "outputs": [
    {
     "data": {
      "text/plain": [
       "['class_5',\n",
       " 'D19_BILDUNG',\n",
       " 'KKK',\n",
       " 'KBA05_MAXBJ',\n",
       " 'KBA13_KMH_251',\n",
       " 'D19_VERSAND_REST',\n",
       " 'VERS_TYP',\n",
       " 'HH_DELTA_FLAG',\n",
       " 'ANREDE_KZ',\n",
       " 'KBA13_KMH_140',\n",
       " 'VHA',\n",
       " 'D19_BUCH_CD',\n",
       " 'KBA05_KRSKLEIN',\n",
       " 'D19_BANKEN_DIREKT',\n",
       " 'UMFELD_ALT',\n",
       " 'KBA13_CCM_1800',\n",
       " 'KBA05_SEG7',\n",
       " 'D19_SONSTIGE.1',\n",
       " 'KBA13_CCM_1500',\n",
       " 'D19_VOLLSORTIMENT',\n",
       " 'KBA13_CCM_1600',\n",
       " 'class_8',\n",
       " 'KBA13_KMH_110',\n",
       " 'KONSUMZELLE',\n",
       " 'KBA13_MOTOR',\n",
       " 'class_2',\n",
       " 'D19_DROGERIEARTIKEL',\n",
       " 'D19_TECHNIK',\n",
       " 'HEALTH_TYP',\n",
       " 'GREEN_AVANTGARDE',\n",
       " 'KBA05_SEG1',\n",
       " 'GEBAEUDETYP',\n",
       " 'KBA05_ALTER1',\n",
       " 'D19_TELKO_REST',\n",
       " 'D19_REISEN',\n",
       " 'KBA13_KRSZUL_NEU',\n",
       " 'KBA13_CCM_3001',\n",
       " 'KBA05_MOTRAD',\n",
       " 'GFK_URLAUBERTYP',\n",
       " 'class_7',\n",
       " 'D19_BANKEN_GROSS',\n",
       " 'KBA13_KMH_0_140',\n",
       " 'D19_HAUS_DEKO',\n",
       " 'class_6',\n",
       " 'D19_KINDERARTIKEL',\n",
       " 'UMFELD_JUNG',\n",
       " 'KBA05_FRAU',\n",
       " 'KBA13_FORD',\n",
       " 'D19_LOTTO',\n",
       " 'KBA13_NISSAN',\n",
       " 'D19_SONSTIGE',\n",
       " 'D19_VERSICHERUNGEN',\n",
       " 'KBA05_MOD8',\n",
       " 'SHOPPER_TYP',\n",
       " 'SEMIO_SOZ',\n",
       " 'D19_SOZIALES',\n",
       " 'D19_FREIZEIT',\n",
       " 'cluster',\n",
       " 'KBA05_ANHANG',\n",
       " 'D19_BANKEN_REST',\n",
       " 'D19_UNBEKANNT',\n",
       " 'AKT_DAT_KL',\n",
       " 'D19_KOSMETIK',\n",
       " 'CJT_GESAMTTYP',\n",
       " 'D19_BEKLEIDUNG_REST',\n",
       " 'D19_HANDWERK',\n",
       " 'class_4',\n",
       " 'LNR',\n",
       " 'GEBURTSJAHR',\n",
       " 'KBA13_KW_90',\n",
       " 'UNGLEICHENN_FLAG',\n",
       " 'KBA13_BJ_2008']"
      ]
     },
     "execution_count": 179,
     "metadata": {},
     "output_type": "execute_result"
    }
   ],
   "source": [
    "cl=list(set(clust_az.columns) & set(clust_ct.columns))\n",
    "cl"
   ]
  },
  {
   "cell_type": "code",
   "execution_count": 29,
   "id": "1c67e2c6",
   "metadata": {},
   "outputs": [],
   "source": [
    "import warnings\n",
    "warnings.filterwarnings('ignore')"
   ]
  },
  {
   "cell_type": "code",
   "execution_count": 180,
   "id": "54516629",
   "metadata": {},
   "outputs": [],
   "source": [
    "#cols=['AGER_TYP','ANREDE_KZ','D19_TELKO_DATUM','GFK_URLAUBERTYP','FINANZTYP','KKK','KBA05_MAXAH','KBA05_MOD1','ONLINE_AFFINITAET']\n",
    "cl_cols1=['upper middleclass',\n",
    "'consumption-oriented middleclass', \n",
    "'active middleclass', \n",
    "'low-consumption middleclass',\n",
    "'lower middleclass',\n",
    "'working class',\n",
    "]"
   ]
  },
  {
   "cell_type": "code",
   "execution_count": 181,
   "id": "8d2bc581",
   "metadata": {},
   "outputs": [],
   "source": [
    "d11=clust_az[clust_az['cluster']==1]\n",
    "d21=clust_az[clust_az['cluster']==0]\n",
    "d31=clust_az[clust_az['cluster']==2]\n",
    "d11.drop('cluster',axis=1,inplace=True)\n",
    "d21.drop('cluster',axis=1,inplace=True)\n",
    "d31.drop('cluster',axis=1,inplace=True)"
   ]
  },
  {
   "cell_type": "code",
   "execution_count": 182,
   "id": "6816e673",
   "metadata": {},
   "outputs": [],
   "source": [
    "pl1=list(round(np.mean(d11[int_col]),2))\n",
    "p21=list(round(np.mean(d21[int_col]),2))\n",
    "p31=list(round(np.mean(d31[int_col]),2))\n"
   ]
  },
  {
   "cell_type": "code",
   "execution_count": 183,
   "id": "660df9a7",
   "metadata": {},
   "outputs": [],
   "source": [
    "d1=clust_ct[clust_ct['cluster']==5]\n",
    "d2=clust_ct[clust_ct['cluster']==6]\n",
    "d3=clust_ct[clust_ct['cluster']==3]\n",
    "d1.drop('cluster',axis=1,inplace=True)\n",
    "d2.drop('cluster',axis=1,inplace=True)\n",
    "d3.drop('cluster',axis=1,inplace=True)\n",
    "pl=list(round(np.mean(d1[int_col]),2))\n",
    "p2=list(round(np.mean(d2[int_col]),2))\n",
    "p3=list(round(np.mean(d3[int_col]),2))\n"
   ]
  },
  {
   "cell_type": "code",
   "execution_count": 186,
   "id": "ebcc2cef",
   "metadata": {},
   "outputs": [
    {
     "data": {
      "text/plain": [
       "Text(0.5, 1.0, 'Azdias')"
      ]
     },
     "execution_count": 186,
     "metadata": {},
     "output_type": "execute_result"
    },
    {
     "data": {
      "image/png": "[encoded data removed]",
      "text/plain": [
       "<Figure size 432x288 with 1 Axes>"
      ]
     },
     "metadata": {
      "needs_background": "light"
     },
     "output_type": "display_data"
    }
   ],
   "source": [
    "p1=pd.DataFrame({'cluster-1':pl1,'cluster-0':p21,'cluster-2':p31})\n",
    "p1.plot.bar(rot=0)\n",
    "#plt.bar(cols,pl,color='r',width=w)\n",
    "#plt.bar(cols,p2,color='g',width=w)\n",
    "plt.legend()\n",
    "x=[0,1,2,3,4,5]\n",
    "label=int_col\n",
    "plt.xticks(x,label,rotation=90)\n",
    "plt.title('Azdias')"
   ]
  },
  {
   "cell_type": "markdown",
   "id": "d46133a1",
   "metadata": {},
   "source": [
    "### "
   ]
  },
  {
   "cell_type": "markdown",
   "id": "610be120",
   "metadata": {},
   "source": [
    "### "
   ]
  },
  {
   "cell_type": "code",
   "execution_count": 187,
   "id": "a53f275d",
   "metadata": {},
   "outputs": [],
   "source": [
    "pl11=list(round(np.mean(d11[cl_cols]),2))\n",
    "pl21=list(round(np.mean(d21[cl_cols]),2))\n",
    "pl31=list(round(np.mean(d31[cl_cols]),2))"
   ]
  },
  {
   "cell_type": "code",
   "execution_count": 188,
   "id": "2d5af359",
   "metadata": {},
   "outputs": [
    {
     "data": {
      "text/plain": [
       "Text(0.5, 1.0, 'Customer')"
      ]
     },
     "execution_count": 188,
     "metadata": {},
     "output_type": "execute_result"
    },
    {
     "data": {
      "image/png": "[encoded data removed]",
      "text/plain": [
       "<Figure size 432x288 with 1 Axes>"
      ]
     },
     "metadata": {
      "needs_background": "light"
     },
     "output_type": "display_data"
    }
   ],
   "source": [
    "p1=pd.DataFrame({'cluster-5':pl11,'cluster-6':pl21,'cluster:3':pl31})\n",
    "#fig,ax=plt.subplots()\n",
    "\n",
    "\n",
    "p1.plot.bar(rot=0)\n",
    "\n",
    "#plt.legend()\n",
    "x=[0,1,2,3,4,5]\n",
    "label=cl_cols1\n",
    "plt.xticks(x,label,rotation=90)\n",
    "plt.title('Customer')"
   ]
  },
  {
   "cell_type": "markdown",
   "id": "860230a5",
   "metadata": {},
   "source": [
    "### "
   ]
  },
  {
   "cell_type": "code",
   "execution_count": 190,
   "id": "86263052",
   "metadata": {},
   "outputs": [
    {
     "data": {
      "image/png": "[encoded data removed]",
      "text/plain": [
       "<Figure size 432x288 with 1 Axes>"
      ]
     },
     "metadata": {
      "needs_background": "light"
     },
     "output_type": "display_data"
    }
   ],
   "source": [
    "pc=pd.DataFrame({'AZDIAS':p31,'POPULATION':p2})\n",
    "#fig,ax=plt.subplots()\n",
    "#w=0.2\n",
    "#ax=\n",
    "pc.plot.bar(rot=0)\n",
    "#plt.bar(cols,pl,color='r',width=w)\n",
    "#plt.bar(cols,p2,color='g',width=w)\n",
    "plt.legend()\n",
    "x=[0,1,2,3,4,5]\n",
    "label=int_col\n",
    "plt.xticks(x,label,rotation=90)\n",
    "plt.show()"
   ]
  },
  {
   "cell_type": "code",
   "execution_count": 191,
   "id": "8fa2a7d2",
   "metadata": {},
   "outputs": [
    {
     "data": {
      "image/png": "[encoded data removed]",
      "text/plain": [
       "<Figure size 432x288 with 1 Axes>"
      ]
     },
     "metadata": {
      "needs_background": "light"
     },
     "output_type": "display_data"
    }
   ],
   "source": [
    "p=pd.DataFrame({'AZDIAS':pl21,'POPULATION':pl2})\n",
    "p.plot.bar(rot=0)\n",
    "#plt.bar(cols,pl,color='r',width=w)\n",
    "#plt.bar(cols,p2,color='g',width=w)\n",
    "#plt.legend()\n",
    "x=[0,1,2,3,4,5]\n",
    "label=cl_cols1\n",
    "plt.xticks(x,label,rotation=90)\n",
    "plt.show()"
   ]
  },
  {
   "cell_type": "markdown",
   "id": "37e810fc",
   "metadata": {},
   "source": [
    "### General characteristics found in the cluster of Azdias data:\n",
    "### - The individuals in the cluster have high share of cars with 1600ccm\n",
    "### - The individuals are jaunty hedonists in heath_typ.\n",
    "### - The German people prefer no vacation \n",
    "### - The individuals have low purchasing power.\n",
    "### - The individuals belong to consumption oriented middle class."
   ]
  },
  {
   "cell_type": "code",
   "execution_count": null,
   "id": "887f705f",
   "metadata": {},
   "outputs": [],
   "source": []
  },
  {
   "cell_type": "markdown",
   "id": "e75ea7d9",
   "metadata": {},
   "source": [
    "## Supervised Modeling"
   ]
  },
  {
   "cell_type": "markdown",
   "id": "007c8ad3",
   "metadata": {},
   "source": [
    "### Now that you've found which parts of the population are more likely to be customers of the mail-order company, it's time to build a prediction model. Each of the rows in the \"MAILOUT\" data files represents an individual that was targeted for a mailout campaign. Ideally, we should be able to use the demographic information from each individual to decide whether or not it will be worth it to include that person in the campaign.\n",
    "\n",
    "### The \"MAILOUT\" data has been split into two approximately equal parts, each with almost 43 000 data rows. In this part, you can verify your model with the \"TRAIN\" partition, which includes a column, \"RESPONSE\", that states whether or not a person became a customer of the company following the campaign. In the next part, you'll need to create predictions on the \"TEST\" partition, where the \"RESPONSE\" column has been withheld."
   ]
  },
  {
   "cell_type": "code",
   "execution_count": 4,
   "id": "62196a3f",
   "metadata": {},
   "outputs": [
    {
     "name": "stderr",
     "output_type": "stream",
     "text": [
      "C:\\Users\\deepa\\AppData\\Local\\Temp\\ipykernel_15040\\4170259015.py:3: DtypeWarning: Columns (18,19) have mixed types. Specify dtype option on import or set low_memory=False.\n",
      "  df_t=pd.read_csv('Udacity_MAILOUT_052018_TRAIN.csv',sep=';')\n"
     ]
    },
    {
     "data": {
      "text/html": [
       "<div>\n",
       "<style scoped>\n",
       "    .dataframe tbody tr th:only-of-type {\n",
       "        vertical-align: middle;\n",
       "    }\n",
       "\n",
       "    .dataframe tbody tr th {\n",
       "        vertical-align: top;\n",
       "    }\n",
       "\n",
       "    .dataframe thead th {\n",
       "        text-align: right;\n",
       "    }\n",
       "</style>\n",
       "<table border=\"1\" class=\"dataframe\">\n",
       "  <thead>\n",
       "    <tr style=\"text-align: right;\">\n",
       "      <th></th>\n",
       "      <th>LNR</th>\n",
       "      <th>AGER_TYP</th>\n",
       "      <th>AKT_DAT_KL</th>\n",
       "      <th>ALTER_HH</th>\n",
       "      <th>ALTER_KIND1</th>\n",
       "      <th>ALTER_KIND2</th>\n",
       "      <th>ALTER_KIND3</th>\n",
       "      <th>ALTER_KIND4</th>\n",
       "      <th>ALTERSKATEGORIE_FEIN</th>\n",
       "      <th>ANZ_HAUSHALTE_AKTIV</th>\n",
       "      <th>...</th>\n",
       "      <th>VK_DHT4A</th>\n",
       "      <th>VK_DISTANZ</th>\n",
       "      <th>VK_ZG11</th>\n",
       "      <th>W_KEIT_KIND_HH</th>\n",
       "      <th>WOHNDAUER_2008</th>\n",
       "      <th>WOHNLAGE</th>\n",
       "      <th>ZABEOTYP</th>\n",
       "      <th>RESPONSE</th>\n",
       "      <th>ANREDE_KZ</th>\n",
       "      <th>ALTERSKATEGORIE_GROB</th>\n",
       "    </tr>\n",
       "  </thead>\n",
       "  <tbody>\n",
       "    <tr>\n",
       "      <th>0</th>\n",
       "      <td>1763</td>\n",
       "      <td>2</td>\n",
       "      <td>1.0</td>\n",
       "      <td>8.0</td>\n",
       "      <td>NaN</td>\n",
       "      <td>NaN</td>\n",
       "      <td>NaN</td>\n",
       "      <td>NaN</td>\n",
       "      <td>8.0</td>\n",
       "      <td>15.0</td>\n",
       "      <td>...</td>\n",
       "      <td>5.0</td>\n",
       "      <td>2.0</td>\n",
       "      <td>1.0</td>\n",
       "      <td>6.0</td>\n",
       "      <td>9.0</td>\n",
       "      <td>3.0</td>\n",
       "      <td>3</td>\n",
       "      <td>0</td>\n",
       "      <td>2</td>\n",
       "      <td>4</td>\n",
       "    </tr>\n",
       "    <tr>\n",
       "      <th>1</th>\n",
       "      <td>1771</td>\n",
       "      <td>1</td>\n",
       "      <td>4.0</td>\n",
       "      <td>13.0</td>\n",
       "      <td>NaN</td>\n",
       "      <td>NaN</td>\n",
       "      <td>NaN</td>\n",
       "      <td>NaN</td>\n",
       "      <td>13.0</td>\n",
       "      <td>1.0</td>\n",
       "      <td>...</td>\n",
       "      <td>1.0</td>\n",
       "      <td>2.0</td>\n",
       "      <td>1.0</td>\n",
       "      <td>4.0</td>\n",
       "      <td>9.0</td>\n",
       "      <td>7.0</td>\n",
       "      <td>1</td>\n",
       "      <td>0</td>\n",
       "      <td>2</td>\n",
       "      <td>3</td>\n",
       "    </tr>\n",
       "    <tr>\n",
       "      <th>2</th>\n",
       "      <td>1776</td>\n",
       "      <td>1</td>\n",
       "      <td>1.0</td>\n",
       "      <td>9.0</td>\n",
       "      <td>NaN</td>\n",
       "      <td>NaN</td>\n",
       "      <td>NaN</td>\n",
       "      <td>NaN</td>\n",
       "      <td>7.0</td>\n",
       "      <td>0.0</td>\n",
       "      <td>...</td>\n",
       "      <td>6.0</td>\n",
       "      <td>4.0</td>\n",
       "      <td>2.0</td>\n",
       "      <td>NaN</td>\n",
       "      <td>9.0</td>\n",
       "      <td>2.0</td>\n",
       "      <td>3</td>\n",
       "      <td>0</td>\n",
       "      <td>1</td>\n",
       "      <td>4</td>\n",
       "    </tr>\n",
       "    <tr>\n",
       "      <th>3</th>\n",
       "      <td>1460</td>\n",
       "      <td>2</td>\n",
       "      <td>1.0</td>\n",
       "      <td>6.0</td>\n",
       "      <td>NaN</td>\n",
       "      <td>NaN</td>\n",
       "      <td>NaN</td>\n",
       "      <td>NaN</td>\n",
       "      <td>6.0</td>\n",
       "      <td>4.0</td>\n",
       "      <td>...</td>\n",
       "      <td>8.0</td>\n",
       "      <td>11.0</td>\n",
       "      <td>11.0</td>\n",
       "      <td>6.0</td>\n",
       "      <td>9.0</td>\n",
       "      <td>1.0</td>\n",
       "      <td>3</td>\n",
       "      <td>0</td>\n",
       "      <td>2</td>\n",
       "      <td>4</td>\n",
       "    </tr>\n",
       "    <tr>\n",
       "      <th>4</th>\n",
       "      <td>1783</td>\n",
       "      <td>2</td>\n",
       "      <td>1.0</td>\n",
       "      <td>9.0</td>\n",
       "      <td>NaN</td>\n",
       "      <td>NaN</td>\n",
       "      <td>NaN</td>\n",
       "      <td>NaN</td>\n",
       "      <td>9.0</td>\n",
       "      <td>53.0</td>\n",
       "      <td>...</td>\n",
       "      <td>2.0</td>\n",
       "      <td>2.0</td>\n",
       "      <td>1.0</td>\n",
       "      <td>6.0</td>\n",
       "      <td>9.0</td>\n",
       "      <td>3.0</td>\n",
       "      <td>3</td>\n",
       "      <td>0</td>\n",
       "      <td>1</td>\n",
       "      <td>3</td>\n",
       "    </tr>\n",
       "    <tr>\n",
       "      <th>...</th>\n",
       "      <td>...</td>\n",
       "      <td>...</td>\n",
       "      <td>...</td>\n",
       "      <td>...</td>\n",
       "      <td>...</td>\n",
       "      <td>...</td>\n",
       "      <td>...</td>\n",
       "      <td>...</td>\n",
       "      <td>...</td>\n",
       "      <td>...</td>\n",
       "      <td>...</td>\n",
       "      <td>...</td>\n",
       "      <td>...</td>\n",
       "      <td>...</td>\n",
       "      <td>...</td>\n",
       "      <td>...</td>\n",
       "      <td>...</td>\n",
       "      <td>...</td>\n",
       "      <td>...</td>\n",
       "      <td>...</td>\n",
       "      <td>...</td>\n",
       "    </tr>\n",
       "    <tr>\n",
       "      <th>42957</th>\n",
       "      <td>66338</td>\n",
       "      <td>2</td>\n",
       "      <td>1.0</td>\n",
       "      <td>0.0</td>\n",
       "      <td>NaN</td>\n",
       "      <td>NaN</td>\n",
       "      <td>NaN</td>\n",
       "      <td>NaN</td>\n",
       "      <td>10.0</td>\n",
       "      <td>1.0</td>\n",
       "      <td>...</td>\n",
       "      <td>1.0</td>\n",
       "      <td>1.0</td>\n",
       "      <td>1.0</td>\n",
       "      <td>4.0</td>\n",
       "      <td>8.0</td>\n",
       "      <td>7.0</td>\n",
       "      <td>1</td>\n",
       "      <td>0</td>\n",
       "      <td>1</td>\n",
       "      <td>4</td>\n",
       "    </tr>\n",
       "    <tr>\n",
       "      <th>42958</th>\n",
       "      <td>67629</td>\n",
       "      <td>-1</td>\n",
       "      <td>1.0</td>\n",
       "      <td>0.0</td>\n",
       "      <td>NaN</td>\n",
       "      <td>NaN</td>\n",
       "      <td>NaN</td>\n",
       "      <td>NaN</td>\n",
       "      <td>14.0</td>\n",
       "      <td>1.0</td>\n",
       "      <td>...</td>\n",
       "      <td>1.0</td>\n",
       "      <td>1.0</td>\n",
       "      <td>1.0</td>\n",
       "      <td>5.0</td>\n",
       "      <td>9.0</td>\n",
       "      <td>7.0</td>\n",
       "      <td>1</td>\n",
       "      <td>0</td>\n",
       "      <td>1</td>\n",
       "      <td>3</td>\n",
       "    </tr>\n",
       "    <tr>\n",
       "      <th>42959</th>\n",
       "      <td>68273</td>\n",
       "      <td>1</td>\n",
       "      <td>1.0</td>\n",
       "      <td>16.0</td>\n",
       "      <td>NaN</td>\n",
       "      <td>NaN</td>\n",
       "      <td>NaN</td>\n",
       "      <td>NaN</td>\n",
       "      <td>10.0</td>\n",
       "      <td>2.0</td>\n",
       "      <td>...</td>\n",
       "      <td>1.0</td>\n",
       "      <td>2.0</td>\n",
       "      <td>1.0</td>\n",
       "      <td>2.0</td>\n",
       "      <td>9.0</td>\n",
       "      <td>7.0</td>\n",
       "      <td>1</td>\n",
       "      <td>0</td>\n",
       "      <td>1</td>\n",
       "      <td>4</td>\n",
       "    </tr>\n",
       "    <tr>\n",
       "      <th>42960</th>\n",
       "      <td>68581</td>\n",
       "      <td>2</td>\n",
       "      <td>1.0</td>\n",
       "      <td>18.0</td>\n",
       "      <td>NaN</td>\n",
       "      <td>NaN</td>\n",
       "      <td>NaN</td>\n",
       "      <td>NaN</td>\n",
       "      <td>13.0</td>\n",
       "      <td>3.0</td>\n",
       "      <td>...</td>\n",
       "      <td>2.0</td>\n",
       "      <td>3.0</td>\n",
       "      <td>4.0</td>\n",
       "      <td>2.0</td>\n",
       "      <td>9.0</td>\n",
       "      <td>2.0</td>\n",
       "      <td>3</td>\n",
       "      <td>0</td>\n",
       "      <td>2</td>\n",
       "      <td>4</td>\n",
       "    </tr>\n",
       "    <tr>\n",
       "      <th>42961</th>\n",
       "      <td>69224</td>\n",
       "      <td>2</td>\n",
       "      <td>1.0</td>\n",
       "      <td>13.0</td>\n",
       "      <td>NaN</td>\n",
       "      <td>NaN</td>\n",
       "      <td>NaN</td>\n",
       "      <td>NaN</td>\n",
       "      <td>9.0</td>\n",
       "      <td>3.0</td>\n",
       "      <td>...</td>\n",
       "      <td>7.0</td>\n",
       "      <td>7.0</td>\n",
       "      <td>4.0</td>\n",
       "      <td>6.0</td>\n",
       "      <td>9.0</td>\n",
       "      <td>7.0</td>\n",
       "      <td>3</td>\n",
       "      <td>0</td>\n",
       "      <td>2</td>\n",
       "      <td>4</td>\n",
       "    </tr>\n",
       "  </tbody>\n",
       "</table>\n",
       "<p>42962 rows × 367 columns</p>\n",
       "</div>"
      ],
      "text/plain": [
       "         LNR  AGER_TYP  AKT_DAT_KL  ALTER_HH  ALTER_KIND1  ALTER_KIND2  \\\n",
       "0       1763         2         1.0       8.0          NaN          NaN   \n",
       "1       1771         1         4.0      13.0          NaN          NaN   \n",
       "2       1776         1         1.0       9.0          NaN          NaN   \n",
       "3       1460         2         1.0       6.0          NaN          NaN   \n",
       "4       1783         2         1.0       9.0          NaN          NaN   \n",
       "...      ...       ...         ...       ...          ...          ...   \n",
       "42957  66338         2         1.0       0.0          NaN          NaN   \n",
       "42958  67629        -1         1.0       0.0          NaN          NaN   \n",
       "42959  68273         1         1.0      16.0          NaN          NaN   \n",
       "42960  68581         2         1.0      18.0          NaN          NaN   \n",
       "42961  69224         2         1.0      13.0          NaN          NaN   \n",
       "\n",
       "       ALTER_KIND3  ALTER_KIND4  ALTERSKATEGORIE_FEIN  ANZ_HAUSHALTE_AKTIV  \\\n",
       "0              NaN          NaN                   8.0                 15.0   \n",
       "1              NaN          NaN                  13.0                  1.0   \n",
       "2              NaN          NaN                   7.0                  0.0   \n",
       "3              NaN          NaN                   6.0                  4.0   \n",
       "4              NaN          NaN                   9.0                 53.0   \n",
       "...            ...          ...                   ...                  ...   \n",
       "42957          NaN          NaN                  10.0                  1.0   \n",
       "42958          NaN          NaN                  14.0                  1.0   \n",
       "42959          NaN          NaN                  10.0                  2.0   \n",
       "42960          NaN          NaN                  13.0                  3.0   \n",
       "42961          NaN          NaN                   9.0                  3.0   \n",
       "\n",
       "       ...  VK_DHT4A  VK_DISTANZ  VK_ZG11  W_KEIT_KIND_HH  WOHNDAUER_2008  \\\n",
       "0      ...       5.0         2.0      1.0             6.0             9.0   \n",
       "1      ...       1.0         2.0      1.0             4.0             9.0   \n",
       "2      ...       6.0         4.0      2.0             NaN             9.0   \n",
       "3      ...       8.0        11.0     11.0             6.0             9.0   \n",
       "4      ...       2.0         2.0      1.0             6.0             9.0   \n",
       "...    ...       ...         ...      ...             ...             ...   \n",
       "42957  ...       1.0         1.0      1.0             4.0             8.0   \n",
       "42958  ...       1.0         1.0      1.0             5.0             9.0   \n",
       "42959  ...       1.0         2.0      1.0             2.0             9.0   \n",
       "42960  ...       2.0         3.0      4.0             2.0             9.0   \n",
       "42961  ...       7.0         7.0      4.0             6.0             9.0   \n",
       "\n",
       "       WOHNLAGE  ZABEOTYP RESPONSE ANREDE_KZ ALTERSKATEGORIE_GROB  \n",
       "0           3.0         3        0         2                    4  \n",
       "1           7.0         1        0         2                    3  \n",
       "2           2.0         3        0         1                    4  \n",
       "3           1.0         3        0         2                    4  \n",
       "4           3.0         3        0         1                    3  \n",
       "...         ...       ...      ...       ...                  ...  \n",
       "42957       7.0         1        0         1                    4  \n",
       "42958       7.0         1        0         1                    3  \n",
       "42959       7.0         1        0         1                    4  \n",
       "42960       2.0         3        0         2                    4  \n",
       "42961       7.0         3        0         2                    4  \n",
       "\n",
       "[42962 rows x 367 columns]"
      ]
     },
     "execution_count": 4,
     "metadata": {},
     "output_type": "execute_result"
    }
   ],
   "source": [
    "## Load Training Data\n",
    "\n",
    "df_t=pd.read_csv('Udacity_MAILOUT_052018_TRAIN.csv',sep=';')\n",
    "df_t"
   ]
  },
  {
   "cell_type": "code",
   "execution_count": 5,
   "id": "eb6a5c3e",
   "metadata": {},
   "outputs": [
    {
     "data": {
      "text/plain": [
       "0    42430\n",
       "1      532\n",
       "Name: RESPONSE, dtype: int64"
      ]
     },
     "execution_count": 5,
     "metadata": {},
     "output_type": "execute_result"
    }
   ],
   "source": [
    "df_t.RESPONSE.value_counts()"
   ]
  },
  {
   "cell_type": "code",
   "execution_count": 6,
   "id": "a18453e6",
   "metadata": {},
   "outputs": [
    {
     "data": {
      "text/plain": [
       "Text(0.5, 0, 'RESPONSE')"
      ]
     },
     "execution_count": 6,
     "metadata": {},
     "output_type": "execute_result"
    },
    {
     "data": {
      "image/png": "[encoded data removed]",
      "text/plain": [
       "<Figure size 432x288 with 1 Axes>"
      ]
     },
     "metadata": {
      "needs_background": "light"
     },
     "output_type": "display_data"
    }
   ],
   "source": [
    "df_t.RESPONSE.value_counts().plot(kind='bar')\n",
    "plt.xlabel('RESPONSE')"
   ]
  },
  {
   "cell_type": "code",
   "execution_count": 7,
   "id": "62663d00",
   "metadata": {},
   "outputs": [],
   "source": [
    "y=df_t.RESPONSE\n",
    "df_t.drop('RESPONSE',axis=1,inplace=True)"
   ]
  },
  {
   "cell_type": "markdown",
   "id": "b1c6b77c",
   "metadata": {},
   "source": [
    "### Clean the mail_train dataset"
   ]
  },
  {
   "cell_type": "code",
   "execution_count": 10,
   "id": "3ab42388",
   "metadata": {},
   "outputs": [
    {
     "name": "stdout",
     "output_type": "stream",
     "text": [
      "Columns with 80% missing values are removed\n",
      "Unknown values are replaced by numpy nan values\n",
      "Simple Imputer with \"most_frequent\" as the strategy is used to fill missing values\n",
      "Highly correlated features are determined using pearsons correlation and removed\n",
      "The following categorical attributes are converted to dummy variables  ['CAMEO_DEU_2015', 'CAMEO_DEUG_2015', 'CAMEO_INTL_2015', 'D19_LETZTER_KAUF_BRANCHE', 'EINGEFUEGT_AM', 'OST_WEST_KZ']\n"
     ]
    },
    {
     "data": {
      "text/plain": [
       "(42962, 378)"
      ]
     },
     "execution_count": 10,
     "metadata": {},
     "output_type": "execute_result"
    }
   ],
   "source": [
    "df_clean=clean_data(df_t)\n",
    "\n",
    "df_clean.shape"
   ]
  },
  {
   "cell_type": "code",
   "execution_count": 11,
   "id": "762db3d9",
   "metadata": {},
   "outputs": [
    {
     "name": "stdout",
     "output_type": "stream",
     "text": [
      "<class 'pandas.core.frame.DataFrame'>\n",
      "RangeIndex: 42962 entries, 0 to 42961\n",
      "Columns: 378 entries, LNR to year\n",
      "dtypes: float64(244), int64(79), uint8(55)\n",
      "memory usage: 108.1 MB\n"
     ]
    }
   ],
   "source": [
    "df_clean.info()"
   ]
  },
  {
   "cell_type": "code",
   "execution_count": 12,
   "id": "6f959016",
   "metadata": {},
   "outputs": [
    {
     "data": {
      "text/html": [
       "<div>\n",
       "<style scoped>\n",
       "    .dataframe tbody tr th:only-of-type {\n",
       "        vertical-align: middle;\n",
       "    }\n",
       "\n",
       "    .dataframe tbody tr th {\n",
       "        vertical-align: top;\n",
       "    }\n",
       "\n",
       "    .dataframe thead th {\n",
       "        text-align: right;\n",
       "    }\n",
       "</style>\n",
       "<table border=\"1\" class=\"dataframe\">\n",
       "  <thead>\n",
       "    <tr style=\"text-align: right;\">\n",
       "      <th></th>\n",
       "      <th>LNR</th>\n",
       "      <th>AGER_TYP</th>\n",
       "      <th>AKT_DAT_KL</th>\n",
       "      <th>ALTER_HH</th>\n",
       "      <th>ALTERSKATEGORIE_FEIN</th>\n",
       "      <th>ANZ_HH_TITEL</th>\n",
       "      <th>ANZ_KINDER</th>\n",
       "      <th>ANZ_PERSONEN</th>\n",
       "      <th>ANZ_TITEL</th>\n",
       "      <th>ARBEIT</th>\n",
       "      <th>...</th>\n",
       "      <th>D19_TELKO_REST</th>\n",
       "      <th>D19_TIERARTIKEL</th>\n",
       "      <th>D19_UNBEKANNT</th>\n",
       "      <th>D19_VERSAND_REST</th>\n",
       "      <th>D19_VERSICHERUNGEN</th>\n",
       "      <th>D19_VOLLSORTIMENT</th>\n",
       "      <th>D19_WEIN_FEINKOST</th>\n",
       "      <th>direction_O</th>\n",
       "      <th>direction_W</th>\n",
       "      <th>year</th>\n",
       "    </tr>\n",
       "  </thead>\n",
       "  <tbody>\n",
       "    <tr>\n",
       "      <th>0</th>\n",
       "      <td>1763</td>\n",
       "      <td>2.0</td>\n",
       "      <td>1.0</td>\n",
       "      <td>8.0</td>\n",
       "      <td>8.0</td>\n",
       "      <td>0.0</td>\n",
       "      <td>0.0</td>\n",
       "      <td>1.0</td>\n",
       "      <td>0.0</td>\n",
       "      <td>3.0</td>\n",
       "      <td>...</td>\n",
       "      <td>0</td>\n",
       "      <td>0</td>\n",
       "      <td>1</td>\n",
       "      <td>0</td>\n",
       "      <td>0</td>\n",
       "      <td>0</td>\n",
       "      <td>0</td>\n",
       "      <td>0</td>\n",
       "      <td>1</td>\n",
       "      <td>1992</td>\n",
       "    </tr>\n",
       "    <tr>\n",
       "      <th>1</th>\n",
       "      <td>1771</td>\n",
       "      <td>1.0</td>\n",
       "      <td>4.0</td>\n",
       "      <td>13.0</td>\n",
       "      <td>13.0</td>\n",
       "      <td>0.0</td>\n",
       "      <td>0.0</td>\n",
       "      <td>2.0</td>\n",
       "      <td>0.0</td>\n",
       "      <td>2.0</td>\n",
       "      <td>...</td>\n",
       "      <td>0</td>\n",
       "      <td>0</td>\n",
       "      <td>0</td>\n",
       "      <td>0</td>\n",
       "      <td>0</td>\n",
       "      <td>0</td>\n",
       "      <td>0</td>\n",
       "      <td>0</td>\n",
       "      <td>1</td>\n",
       "      <td>1997</td>\n",
       "    </tr>\n",
       "    <tr>\n",
       "      <th>2</th>\n",
       "      <td>1776</td>\n",
       "      <td>1.0</td>\n",
       "      <td>1.0</td>\n",
       "      <td>10.0</td>\n",
       "      <td>7.0</td>\n",
       "      <td>0.0</td>\n",
       "      <td>0.0</td>\n",
       "      <td>0.0</td>\n",
       "      <td>0.0</td>\n",
       "      <td>4.0</td>\n",
       "      <td>...</td>\n",
       "      <td>0</td>\n",
       "      <td>0</td>\n",
       "      <td>0</td>\n",
       "      <td>0</td>\n",
       "      <td>0</td>\n",
       "      <td>0</td>\n",
       "      <td>0</td>\n",
       "      <td>1</td>\n",
       "      <td>0</td>\n",
       "      <td>1995</td>\n",
       "    </tr>\n",
       "    <tr>\n",
       "      <th>3</th>\n",
       "      <td>1460</td>\n",
       "      <td>2.0</td>\n",
       "      <td>1.0</td>\n",
       "      <td>6.0</td>\n",
       "      <td>6.0</td>\n",
       "      <td>0.0</td>\n",
       "      <td>0.0</td>\n",
       "      <td>2.0</td>\n",
       "      <td>0.0</td>\n",
       "      <td>4.0</td>\n",
       "      <td>...</td>\n",
       "      <td>0</td>\n",
       "      <td>0</td>\n",
       "      <td>1</td>\n",
       "      <td>0</td>\n",
       "      <td>0</td>\n",
       "      <td>0</td>\n",
       "      <td>0</td>\n",
       "      <td>0</td>\n",
       "      <td>1</td>\n",
       "      <td>1992</td>\n",
       "    </tr>\n",
       "    <tr>\n",
       "      <th>4</th>\n",
       "      <td>1783</td>\n",
       "      <td>2.0</td>\n",
       "      <td>1.0</td>\n",
       "      <td>10.0</td>\n",
       "      <td>9.0</td>\n",
       "      <td>0.0</td>\n",
       "      <td>0.0</td>\n",
       "      <td>1.0</td>\n",
       "      <td>0.0</td>\n",
       "      <td>3.0</td>\n",
       "      <td>...</td>\n",
       "      <td>0</td>\n",
       "      <td>0</td>\n",
       "      <td>0</td>\n",
       "      <td>0</td>\n",
       "      <td>0</td>\n",
       "      <td>0</td>\n",
       "      <td>0</td>\n",
       "      <td>0</td>\n",
       "      <td>1</td>\n",
       "      <td>1992</td>\n",
       "    </tr>\n",
       "  </tbody>\n",
       "</table>\n",
       "<p>5 rows × 378 columns</p>\n",
       "</div>"
      ],
      "text/plain": [
       "    LNR  AGER_TYP  AKT_DAT_KL  ALTER_HH  ALTERSKATEGORIE_FEIN  ANZ_HH_TITEL  \\\n",
       "0  1763       2.0         1.0       8.0                   8.0           0.0   \n",
       "1  1771       1.0         4.0      13.0                  13.0           0.0   \n",
       "2  1776       1.0         1.0      10.0                   7.0           0.0   \n",
       "3  1460       2.0         1.0       6.0                   6.0           0.0   \n",
       "4  1783       2.0         1.0      10.0                   9.0           0.0   \n",
       "\n",
       "   ANZ_KINDER  ANZ_PERSONEN  ANZ_TITEL  ARBEIT  ...  D19_TELKO_REST  \\\n",
       "0         0.0           1.0        0.0     3.0  ...               0   \n",
       "1         0.0           2.0        0.0     2.0  ...               0   \n",
       "2         0.0           0.0        0.0     4.0  ...               0   \n",
       "3         0.0           2.0        0.0     4.0  ...               0   \n",
       "4         0.0           1.0        0.0     3.0  ...               0   \n",
       "\n",
       "   D19_TIERARTIKEL  D19_UNBEKANNT  D19_VERSAND_REST  D19_VERSICHERUNGEN  \\\n",
       "0                0              1                 0                   0   \n",
       "1                0              0                 0                   0   \n",
       "2                0              0                 0                   0   \n",
       "3                0              1                 0                   0   \n",
       "4                0              0                 0                   0   \n",
       "\n",
       "   D19_VOLLSORTIMENT  D19_WEIN_FEINKOST  direction_O  direction_W  year  \n",
       "0                  0                  0            0            1  1992  \n",
       "1                  0                  0            0            1  1997  \n",
       "2                  0                  0            1            0  1995  \n",
       "3                  0                  0            0            1  1992  \n",
       "4                  0                  0            0            1  1992  \n",
       "\n",
       "[5 rows x 378 columns]"
      ]
     },
     "execution_count": 12,
     "metadata": {},
     "output_type": "execute_result"
    }
   ],
   "source": [
    "df_clean.head()"
   ]
  },
  {
   "cell_type": "code",
   "execution_count": 13,
   "id": "dcafbb1c",
   "metadata": {},
   "outputs": [
    {
     "data": {
      "text/plain": [
       "LNR                     0\n",
       "AGER_TYP                0\n",
       "AKT_DAT_KL              0\n",
       "ALTER_HH                0\n",
       "ALTERSKATEGORIE_FEIN    0\n",
       "                       ..\n",
       "D19_VOLLSORTIMENT       0\n",
       "D19_WEIN_FEINKOST       0\n",
       "direction_O             0\n",
       "direction_W             0\n",
       "year                    0\n",
       "Length: 378, dtype: int64"
      ]
     },
     "execution_count": 13,
     "metadata": {},
     "output_type": "execute_result"
    }
   ],
   "source": [
    "df_clean.isnull().sum()"
   ]
  },
  {
   "cell_type": "code",
   "execution_count": 14,
   "id": "3bf5bdb4",
   "metadata": {},
   "outputs": [],
   "source": [
    "X=df_clean\n",
    "X_train,X_test,y_train,y_test=train_test_split(X,y,test_size=0.2, random_state=42)"
   ]
  },
  {
   "cell_type": "markdown",
   "id": "62c5033f",
   "metadata": {},
   "source": [
    "### GradientBoostingClassifier"
   ]
  },
  {
   "cell_type": "code",
   "execution_count": 15,
   "id": "22e8b7e1",
   "metadata": {},
   "outputs": [
    {
     "data": {
      "text/plain": [
       "0.7370334592287979"
      ]
     },
     "execution_count": 15,
     "metadata": {},
     "output_type": "execute_result"
    }
   ],
   "source": [
    "### GradientBoostingClassifier\n",
    "\n",
    "clf=GradientBoostingClassifier()\n",
    "clf.get_params()\n",
    "#build_model(AdaBoostClassifier(n_estimators=40,learning_rate=0.25,'base_estimator__max_depth': [1, 3],'base_estimator__max_features': [20, None]))\n",
    "\n",
    "param_grid={'learning_rate':[0.1,0.3], 'max_depth':[4,5]}\n",
    "gr=GridSearchCV(clf,param_grid,scoring='roc_auc')\n",
    "\n",
    "gr.fit(X_train,y_train)\n",
    "\n",
    "gr.best_score_"
   ]
  },
  {
   "cell_type": "markdown",
   "id": "22adbdb7",
   "metadata": {},
   "source": [
    "### MLPClassifier"
   ]
  },
  {
   "cell_type": "code",
   "execution_count": 93,
   "id": "5f234efd",
   "metadata": {},
   "outputs": [
    {
     "data": {
      "text/plain": [
       "0.4965661842756302"
      ]
     },
     "execution_count": 93,
     "metadata": {},
     "output_type": "execute_result"
    }
   ],
   "source": [
    "clf=MLPClassifier()\n",
    "clf.get_params()\n",
    "\n",
    "param_grid={'learning_rate':['adaptive'], 'max_iter':[100],'early_stopping':[True],'validation_fraction':[0.4] }\n",
    "gr=GridSearchCV(clf,param_grid,scoring='roc_auc')\n",
    "\n",
    "gr.fit(X_train,y_train)\n",
    "\n",
    "gr.best_score_"
   ]
  },
  {
   "cell_type": "markdown",
   "id": "5c4d786f",
   "metadata": {},
   "source": [
    "## SVM"
   ]
  },
  {
   "cell_type": "code",
   "execution_count": 94,
   "id": "f321e023",
   "metadata": {},
   "outputs": [
    {
     "data": {
      "text/plain": [
       "0.48265755661392473"
      ]
     },
     "execution_count": 94,
     "metadata": {},
     "output_type": "execute_result"
    }
   ],
   "source": [
    "from sklearn import svm\n",
    "clf=svm.SVC()\n",
    "clf.get_params()\n",
    "\n",
    "grid_params={'kernel':['sigmoid'],'class_weight':['balanced']}\n",
    "gr=GridSearchCV(clf,grid_params,scoring='roc_auc')\n",
    "\n",
    "gr.fit(X_train,y_train)\n",
    "\n",
    "gr.best_score_"
   ]
  },
  {
   "cell_type": "markdown",
   "id": "e255f6a0",
   "metadata": {},
   "source": [
    "### DecisionTreeClassifier"
   ]
  },
  {
   "cell_type": "code",
   "execution_count": 95,
   "id": "8393a4b1",
   "metadata": {},
   "outputs": [
    {
     "data": {
      "text/plain": [
       "0.7508359926874553"
      ]
     },
     "execution_count": 95,
     "metadata": {},
     "output_type": "execute_result"
    }
   ],
   "source": [
    "clf=DecisionTreeClassifier()\n",
    "clf.get_params()\n",
    "\n",
    "param_grid={'criterion':['entropy'],'splitter':['random'],'max_depth':[5]}\n",
    "gr=GridSearchCV(clf,param_grid,scoring='roc_auc')\n",
    "\n",
    "gr.fit(X_train,y_train)\n",
    "\n",
    "gr.best_score_"
   ]
  },
  {
   "cell_type": "markdown",
   "id": "d0699a5a",
   "metadata": {},
   "source": [
    "### SGDClassifier"
   ]
  },
  {
   "cell_type": "code",
   "execution_count": 96,
   "id": "1514160b",
   "metadata": {},
   "outputs": [
    {
     "data": {
      "text/plain": [
       "0.5106061511041197"
      ]
     },
     "execution_count": 96,
     "metadata": {},
     "output_type": "execute_result"
    }
   ],
   "source": [
    "clf=SGDClassifier()\n",
    "clf.get_params()\n",
    "\n",
    "grid_params={'loss':['modified_huber'],'alpha':[0.005],'max_iter':[2000]}\n",
    "gr=GridSearchCV(clf,grid_params,scoring='roc_auc')\n",
    "\n",
    "gr.fit(X_train,y_train)\n",
    "\n",
    "gr.best_score_"
   ]
  },
  {
   "cell_type": "markdown",
   "id": "2e104beb",
   "metadata": {},
   "source": [
    "### KNeighborsClassifier"
   ]
  },
  {
   "cell_type": "code",
   "execution_count": 97,
   "id": "d7570a8b",
   "metadata": {},
   "outputs": [
    {
     "data": {
      "text/plain": [
       "0.5010257661876873"
      ]
     },
     "execution_count": 97,
     "metadata": {},
     "output_type": "execute_result"
    }
   ],
   "source": [
    "clf=KNeighborsClassifier()\n",
    "clf.get_params()\n",
    "\n",
    "grid_params={'weights':['distance'],'algorithm':['auto'],'p':[1]}\n",
    "gr=GridSearchCV(clf,grid_params,scoring='roc_auc')\n",
    "\n",
    "gr.fit(X_train,y_train)\n",
    "\n",
    "gr.best_score_"
   ]
  },
  {
   "cell_type": "markdown",
   "id": "8e129fa1",
   "metadata": {},
   "source": [
    "### AdaBoostClassifier"
   ]
  },
  {
   "cell_type": "code",
   "execution_count": 98,
   "id": "d3efd85f",
   "metadata": {},
   "outputs": [
    {
     "data": {
      "text/plain": [
       "0.7536739857782676"
      ]
     },
     "execution_count": 98,
     "metadata": {},
     "output_type": "execute_result"
    }
   ],
   "source": [
    "### AdaBoostClassifier\n",
    "\n",
    "clf=AdaBoostClassifier()\n",
    "clf.get_params()\n",
    "\n",
    "param_grid={'learning_rate':[0.1,0.3], 'n_estimators':[80]}\n",
    "gr=GridSearchCV(clf,param_grid,scoring='roc_auc')\n",
    "\n",
    "gr.fit(X_train,y_train)\n",
    "\n",
    "gr.best_score_"
   ]
  },
  {
   "cell_type": "code",
   "execution_count": 99,
   "id": "0b5b39f3",
   "metadata": {},
   "outputs": [],
   "source": [
    "# Vary the parameters\n",
    "param_grid={'learning_rate':[0.1,0.2], 'n_estimators':[50]}\n",
    "gr=GridSearchCV(clf,param_grid,scoring='roc_auc')\n",
    "\n",
    "gr.fit(X_train,y_train)\n",
    "\n",
    "ada_best=gr.best_estimator_"
   ]
  },
  {
   "cell_type": "code",
   "execution_count": 100,
   "id": "6b3b84d8",
   "metadata": {},
   "outputs": [
    {
     "data": {
      "text/plain": [
       "0.7661755154516611"
      ]
     },
     "execution_count": 100,
     "metadata": {},
     "output_type": "execute_result"
    }
   ],
   "source": [
    "gr.best_score_"
   ]
  },
  {
   "cell_type": "code",
   "execution_count": 34,
   "id": "1a1e521a",
   "metadata": {},
   "outputs": [
    {
     "data": {
      "text/html": [
       "<div>\n",
       "<style scoped>\n",
       "    .dataframe tbody tr th:only-of-type {\n",
       "        vertical-align: middle;\n",
       "    }\n",
       "\n",
       "    .dataframe tbody tr th {\n",
       "        vertical-align: top;\n",
       "    }\n",
       "\n",
       "    .dataframe thead th {\n",
       "        text-align: right;\n",
       "    }\n",
       "</style>\n",
       "<table border=\"1\" class=\"dataframe\">\n",
       "  <thead>\n",
       "    <tr style=\"text-align: right;\">\n",
       "      <th></th>\n",
       "      <th>GradientBoosting</th>\n",
       "      <th>MLPClassifier</th>\n",
       "      <th>SVM</th>\n",
       "      <th>DecisionTree</th>\n",
       "      <th>SGDClassifier</th>\n",
       "      <th>KNeighbors</th>\n",
       "      <th>Adaboost</th>\n",
       "    </tr>\n",
       "  </thead>\n",
       "  <tbody>\n",
       "    <tr>\n",
       "      <th>0</th>\n",
       "      <td>0.73921</td>\n",
       "      <td>0.4965</td>\n",
       "      <td>0.48265</td>\n",
       "      <td>0.7508</td>\n",
       "      <td>0.5106</td>\n",
       "      <td>0.501</td>\n",
       "      <td>0.7661</td>\n",
       "    </tr>\n",
       "  </tbody>\n",
       "</table>\n",
       "</div>"
      ],
      "text/plain": [
       "   GradientBoosting  MLPClassifier      SVM  DecisionTree  SGDClassifier  \\\n",
       "0           0.73921         0.4965  0.48265        0.7508         0.5106   \n",
       "\n",
       "   KNeighbors  Adaboost  \n",
       "0       0.501    0.7661  "
      ]
     },
     "execution_count": 34,
     "metadata": {},
     "output_type": "execute_result"
    }
   ],
   "source": [
    "p=pd.DataFrame({'GradientBoosting':[0.73921],'MLPClassifier':[0.4965],'SVM':[0.48265],'DecisionTree':[0.7508],'SGDClassifier':[0.5106],'KNeighbors':[0.5010],'Adaboost':[0.7661]})\n",
    "\n",
    "p"
   ]
  },
  {
   "cell_type": "code",
   "execution_count": 32,
   "id": "fcc30d0c",
   "metadata": {},
   "outputs": [
    {
     "data": {
      "text/plain": [
       "Text(0.5, 1.0, 'Performance of different models')"
      ]
     },
     "execution_count": 32,
     "metadata": {},
     "output_type": "execute_result"
    },
    {
     "data": {
      "image/png": "[encoded data removed]",
      "text/plain": [
       "<Figure size 432x288 with 1 Axes>"
      ]
     },
     "metadata": {
      "needs_background": "light"
     },
     "output_type": "display_data"
    }
   ],
   "source": [
    "p.transpose().plot.bar()\n",
    "plt.legend()\n",
    "plt.title('Performance of different models')"
   ]
  },
  {
   "cell_type": "code",
   "execution_count": 104,
   "id": "5bca9eee",
   "metadata": {},
   "outputs": [],
   "source": [
    "imp=ada_best.feature_importances_\n",
    "\n",
    "feature_importance_values= np.zeros((len(ada_best.feature_importances_)))\n",
    "    \n",
    "feature_importance_values += ada_best.feature_importances_\n",
    "\n",
    "imp=pd.DataFrame({'Feature':X.columns,'Importance':feature_importance_values})\n"
   ]
  },
  {
   "cell_type": "code",
   "execution_count": 105,
   "id": "4c6a16a4",
   "metadata": {},
   "outputs": [
    {
     "data": {
      "text/html": [
       "<div>\n",
       "<style scoped>\n",
       "    .dataframe tbody tr th:only-of-type {\n",
       "        vertical-align: middle;\n",
       "    }\n",
       "\n",
       "    .dataframe tbody tr th {\n",
       "        vertical-align: top;\n",
       "    }\n",
       "\n",
       "    .dataframe thead th {\n",
       "        text-align: right;\n",
       "    }\n",
       "</style>\n",
       "<table border=\"1\" class=\"dataframe\">\n",
       "  <thead>\n",
       "    <tr style=\"text-align: right;\">\n",
       "      <th></th>\n",
       "      <th>Feature</th>\n",
       "      <th>Importance</th>\n",
       "    </tr>\n",
       "  </thead>\n",
       "  <tbody>\n",
       "    <tr>\n",
       "      <th>54</th>\n",
       "      <td>D19_SOZIALES</td>\n",
       "      <td>0.68</td>\n",
       "    </tr>\n",
       "    <tr>\n",
       "      <th>44</th>\n",
       "      <td>D19_KONSUMTYP_MAX</td>\n",
       "      <td>0.12</td>\n",
       "    </tr>\n",
       "    <tr>\n",
       "      <th>283</th>\n",
       "      <td>PRAEGENDE_JUGENDJAHRE</td>\n",
       "      <td>0.06</td>\n",
       "    </tr>\n",
       "    <tr>\n",
       "      <th>11</th>\n",
       "      <td>CJT_GESAMTTYP</td>\n",
       "      <td>0.06</td>\n",
       "    </tr>\n",
       "    <tr>\n",
       "      <th>148</th>\n",
       "      <td>KBA05_SEG2</td>\n",
       "      <td>0.04</td>\n",
       "    </tr>\n",
       "    <tr>\n",
       "      <th>77</th>\n",
       "      <td>EINGEZOGENAM_HH_JAHR</td>\n",
       "      <td>0.02</td>\n",
       "    </tr>\n",
       "    <tr>\n",
       "      <th>13</th>\n",
       "      <td>CJT_TYP_1</td>\n",
       "      <td>0.02</td>\n",
       "    </tr>\n",
       "  </tbody>\n",
       "</table>\n",
       "</div>"
      ],
      "text/plain": [
       "                   Feature  Importance\n",
       "54            D19_SOZIALES        0.68\n",
       "44       D19_KONSUMTYP_MAX        0.12\n",
       "283  PRAEGENDE_JUGENDJAHRE        0.06\n",
       "11           CJT_GESAMTTYP        0.06\n",
       "148             KBA05_SEG2        0.04\n",
       "77    EINGEZOGENAM_HH_JAHR        0.02\n",
       "13               CJT_TYP_1        0.02"
      ]
     },
     "execution_count": 105,
     "metadata": {},
     "output_type": "execute_result"
    }
   ],
   "source": [
    "srt=imp.sort_values('Importance',ascending=False)[:7]\n",
    "srt"
   ]
  },
  {
   "cell_type": "code",
   "execution_count": 106,
   "id": "70ddf6f4",
   "metadata": {},
   "outputs": [
    {
     "data": {
      "text/plain": [
       "0.7661755154516611"
      ]
     },
     "execution_count": 106,
     "metadata": {},
     "output_type": "execute_result"
    },
    {
     "data": {
      "image/png": "[encoded data removed]",
      "text/plain": [
       "<Figure size 432x288 with 1 Axes>"
      ]
     },
     "metadata": {
      "needs_background": "light"
     },
     "output_type": "display_data"
    }
   ],
   "source": [
    "srt.plot(kind='bar')\n",
    "x=np.arange(0,7,1)\n",
    "plt.xticks(x,list(srt['Feature']))\n",
    "\n",
    "gr.best_score_"
   ]
  },
  {
   "cell_type": "code",
   "execution_count": 107,
   "id": "d49edf96",
   "metadata": {},
   "outputs": [
    {
     "data": {
      "text/plain": [
       "0.7627713907876956"
      ]
     },
     "execution_count": 107,
     "metadata": {},
     "output_type": "execute_result"
    }
   ],
   "source": [
    "param_grid={'learning_rate':[0.1,0.25], 'n_estimators':[60]}\n",
    "gr=GridSearchCV(clf,param_grid,scoring='roc_auc')\n",
    "gr.fit(X_train,y_train)\n",
    "\n",
    "gr.best_score_"
   ]
  },
  {
   "cell_type": "code",
   "execution_count": null,
   "id": "948984a3",
   "metadata": {},
   "outputs": [],
   "source": []
  },
  {
   "cell_type": "code",
   "execution_count": null,
   "id": "86baf997",
   "metadata": {},
   "outputs": [],
   "source": []
  },
  {
   "cell_type": "markdown",
   "id": "c784c958",
   "metadata": {},
   "source": [
    "## Load Test Data"
   ]
  },
  {
   "cell_type": "code",
   "execution_count": 108,
   "id": "ee4c726f",
   "metadata": {},
   "outputs": [
    {
     "data": {
      "text/html": [
       "<div>\n",
       "<style scoped>\n",
       "    .dataframe tbody tr th:only-of-type {\n",
       "        vertical-align: middle;\n",
       "    }\n",
       "\n",
       "    .dataframe tbody tr th {\n",
       "        vertical-align: top;\n",
       "    }\n",
       "\n",
       "    .dataframe thead th {\n",
       "        text-align: right;\n",
       "    }\n",
       "</style>\n",
       "<table border=\"1\" class=\"dataframe\">\n",
       "  <thead>\n",
       "    <tr style=\"text-align: right;\">\n",
       "      <th></th>\n",
       "      <th>LNR</th>\n",
       "      <th>AGER_TYP</th>\n",
       "      <th>AKT_DAT_KL</th>\n",
       "      <th>ALTER_HH</th>\n",
       "      <th>ALTER_KIND1</th>\n",
       "      <th>ALTER_KIND2</th>\n",
       "      <th>ALTER_KIND3</th>\n",
       "      <th>ALTER_KIND4</th>\n",
       "      <th>ALTERSKATEGORIE_FEIN</th>\n",
       "      <th>ANZ_HAUSHALTE_AKTIV</th>\n",
       "      <th>...</th>\n",
       "      <th>VHN</th>\n",
       "      <th>VK_DHT4A</th>\n",
       "      <th>VK_DISTANZ</th>\n",
       "      <th>VK_ZG11</th>\n",
       "      <th>W_KEIT_KIND_HH</th>\n",
       "      <th>WOHNDAUER_2008</th>\n",
       "      <th>WOHNLAGE</th>\n",
       "      <th>ZABEOTYP</th>\n",
       "      <th>ANREDE_KZ</th>\n",
       "      <th>ALTERSKATEGORIE_GROB</th>\n",
       "    </tr>\n",
       "  </thead>\n",
       "  <tbody>\n",
       "    <tr>\n",
       "      <th>0</th>\n",
       "      <td>1754</td>\n",
       "      <td>2</td>\n",
       "      <td>1.0</td>\n",
       "      <td>7.0</td>\n",
       "      <td>NaN</td>\n",
       "      <td>NaN</td>\n",
       "      <td>NaN</td>\n",
       "      <td>NaN</td>\n",
       "      <td>6.0</td>\n",
       "      <td>2.0</td>\n",
       "      <td>...</td>\n",
       "      <td>4.0</td>\n",
       "      <td>5.0</td>\n",
       "      <td>6.0</td>\n",
       "      <td>3.0</td>\n",
       "      <td>6.0</td>\n",
       "      <td>9.0</td>\n",
       "      <td>3.0</td>\n",
       "      <td>3</td>\n",
       "      <td>1</td>\n",
       "      <td>4</td>\n",
       "    </tr>\n",
       "    <tr>\n",
       "      <th>1</th>\n",
       "      <td>1770</td>\n",
       "      <td>-1</td>\n",
       "      <td>1.0</td>\n",
       "      <td>0.0</td>\n",
       "      <td>NaN</td>\n",
       "      <td>NaN</td>\n",
       "      <td>NaN</td>\n",
       "      <td>NaN</td>\n",
       "      <td>0.0</td>\n",
       "      <td>20.0</td>\n",
       "      <td>...</td>\n",
       "      <td>1.0</td>\n",
       "      <td>5.0</td>\n",
       "      <td>2.0</td>\n",
       "      <td>1.0</td>\n",
       "      <td>6.0</td>\n",
       "      <td>9.0</td>\n",
       "      <td>5.0</td>\n",
       "      <td>3</td>\n",
       "      <td>1</td>\n",
       "      <td>4</td>\n",
       "    </tr>\n",
       "    <tr>\n",
       "      <th>2</th>\n",
       "      <td>1465</td>\n",
       "      <td>2</td>\n",
       "      <td>9.0</td>\n",
       "      <td>16.0</td>\n",
       "      <td>NaN</td>\n",
       "      <td>NaN</td>\n",
       "      <td>NaN</td>\n",
       "      <td>NaN</td>\n",
       "      <td>11.0</td>\n",
       "      <td>2.0</td>\n",
       "      <td>...</td>\n",
       "      <td>3.0</td>\n",
       "      <td>9.0</td>\n",
       "      <td>6.0</td>\n",
       "      <td>3.0</td>\n",
       "      <td>2.0</td>\n",
       "      <td>9.0</td>\n",
       "      <td>4.0</td>\n",
       "      <td>3</td>\n",
       "      <td>2</td>\n",
       "      <td>4</td>\n",
       "    </tr>\n",
       "    <tr>\n",
       "      <th>3</th>\n",
       "      <td>1470</td>\n",
       "      <td>-1</td>\n",
       "      <td>7.0</td>\n",
       "      <td>0.0</td>\n",
       "      <td>NaN</td>\n",
       "      <td>NaN</td>\n",
       "      <td>NaN</td>\n",
       "      <td>NaN</td>\n",
       "      <td>0.0</td>\n",
       "      <td>1.0</td>\n",
       "      <td>...</td>\n",
       "      <td>2.0</td>\n",
       "      <td>6.0</td>\n",
       "      <td>6.0</td>\n",
       "      <td>3.0</td>\n",
       "      <td>NaN</td>\n",
       "      <td>9.0</td>\n",
       "      <td>2.0</td>\n",
       "      <td>3</td>\n",
       "      <td>2</td>\n",
       "      <td>4</td>\n",
       "    </tr>\n",
       "    <tr>\n",
       "      <th>4</th>\n",
       "      <td>1478</td>\n",
       "      <td>1</td>\n",
       "      <td>1.0</td>\n",
       "      <td>21.0</td>\n",
       "      <td>NaN</td>\n",
       "      <td>NaN</td>\n",
       "      <td>NaN</td>\n",
       "      <td>NaN</td>\n",
       "      <td>13.0</td>\n",
       "      <td>1.0</td>\n",
       "      <td>...</td>\n",
       "      <td>1.0</td>\n",
       "      <td>2.0</td>\n",
       "      <td>4.0</td>\n",
       "      <td>3.0</td>\n",
       "      <td>3.0</td>\n",
       "      <td>9.0</td>\n",
       "      <td>7.0</td>\n",
       "      <td>4</td>\n",
       "      <td>2</td>\n",
       "      <td>4</td>\n",
       "    </tr>\n",
       "  </tbody>\n",
       "</table>\n",
       "<p>5 rows × 366 columns</p>\n",
       "</div>"
      ],
      "text/plain": [
       "    LNR  AGER_TYP  AKT_DAT_KL  ALTER_HH  ALTER_KIND1  ALTER_KIND2  \\\n",
       "0  1754         2         1.0       7.0          NaN          NaN   \n",
       "1  1770        -1         1.0       0.0          NaN          NaN   \n",
       "2  1465         2         9.0      16.0          NaN          NaN   \n",
       "3  1470        -1         7.0       0.0          NaN          NaN   \n",
       "4  1478         1         1.0      21.0          NaN          NaN   \n",
       "\n",
       "   ALTER_KIND3  ALTER_KIND4  ALTERSKATEGORIE_FEIN  ANZ_HAUSHALTE_AKTIV  ...  \\\n",
       "0          NaN          NaN                   6.0                  2.0  ...   \n",
       "1          NaN          NaN                   0.0                 20.0  ...   \n",
       "2          NaN          NaN                  11.0                  2.0  ...   \n",
       "3          NaN          NaN                   0.0                  1.0  ...   \n",
       "4          NaN          NaN                  13.0                  1.0  ...   \n",
       "\n",
       "   VHN  VK_DHT4A  VK_DISTANZ  VK_ZG11  W_KEIT_KIND_HH  WOHNDAUER_2008  \\\n",
       "0  4.0       5.0         6.0      3.0             6.0             9.0   \n",
       "1  1.0       5.0         2.0      1.0             6.0             9.0   \n",
       "2  3.0       9.0         6.0      3.0             2.0             9.0   \n",
       "3  2.0       6.0         6.0      3.0             NaN             9.0   \n",
       "4  1.0       2.0         4.0      3.0             3.0             9.0   \n",
       "\n",
       "   WOHNLAGE ZABEOTYP ANREDE_KZ ALTERSKATEGORIE_GROB  \n",
       "0       3.0        3         1                    4  \n",
       "1       5.0        3         1                    4  \n",
       "2       4.0        3         2                    4  \n",
       "3       2.0        3         2                    4  \n",
       "4       7.0        4         2                    4  \n",
       "\n",
       "[5 rows x 366 columns]"
      ]
     },
     "execution_count": 108,
     "metadata": {},
     "output_type": "execute_result"
    }
   ],
   "source": [
    "df_test=pd.read_csv('Udacity_MAILOUT_052018_TEST.csv',sep=';',low_memory=False)\n",
    "df_test.head()"
   ]
  },
  {
   "cell_type": "markdown",
   "id": "1b1217d4",
   "metadata": {},
   "source": [
    "### Clean the Test Data"
   ]
  },
  {
   "cell_type": "code",
   "execution_count": 109,
   "id": "7c9ccfbc",
   "metadata": {},
   "outputs": [
    {
     "name": "stdout",
     "output_type": "stream",
     "text": [
      "Columns with 80% missing values are removed\n",
      "Unknown values are replaced by numpy nan values\n",
      "Simple Imputer with \"most_frequent\" as the strategy is used to fill missing values\n",
      "Highly correlated features are determined using pearsons correlation and removed\n",
      "The following categorical attributes are converted to dummy variables  ['CAMEO_DEU_2015', 'CAMEO_DEUG_2015', 'CAMEO_INTL_2015', 'D19_LETZTER_KAUF_BRANCHE', 'EINGEFUEGT_AM', 'OST_WEST_KZ']\n"
     ]
    }
   ],
   "source": [
    "df_test1=clean_data(df_test)"
   ]
  },
  {
   "cell_type": "code",
   "execution_count": null,
   "id": "4a0fe515",
   "metadata": {},
   "outputs": [],
   "source": [
    "df_azdias=pd.read_csv(\"Udacity_AZDIAS_052018.csv\",sep=\";\",low_memory=False)"
   ]
  },
  {
   "cell_type": "code",
   "execution_count": 110,
   "id": "f8b35d8f",
   "metadata": {},
   "outputs": [
    {
     "data": {
      "text/plain": [
       "['KBA13_ANTG1', 'PLZ8_ANTG1']"
      ]
     },
     "execution_count": 110,
     "metadata": {},
     "output_type": "execute_result"
    }
   ],
   "source": [
    "diff=list(set(df_test1.columns)-set(X.columns))\n",
    "diff"
   ]
  },
  {
   "cell_type": "code",
   "execution_count": 115,
   "id": "99d715bf",
   "metadata": {},
   "outputs": [],
   "source": [
    "diff1=list(set(X.columns)-set(df_test1.columns))\n",
    "X.drop(diff1,axis=1,inplace=True)"
   ]
  },
  {
   "cell_type": "code",
   "execution_count": 111,
   "id": "0769df08",
   "metadata": {},
   "outputs": [],
   "source": [
    "df_test1.drop(diff,axis=1,inplace=True)"
   ]
  },
  {
   "cell_type": "code",
   "execution_count": 116,
   "id": "e1b8d3de",
   "metadata": {},
   "outputs": [
    {
     "name": "stdout",
     "output_type": "stream",
     "text": [
      "(42962, 370)\n",
      "(42833, 370)\n"
     ]
    }
   ],
   "source": [
    "print(X.shape)\n",
    "\n",
    "print(df_test1.shape)"
   ]
  },
  {
   "cell_type": "code",
   "execution_count": 117,
   "id": "82280c8f",
   "metadata": {},
   "outputs": [],
   "source": [
    "ada_best.fit(X,y)\n",
    "\n",
    "pred=ada_best.predict(df_test1)"
   ]
  },
  {
   "cell_type": "code",
   "execution_count": 118,
   "id": "e2ccc9da",
   "metadata": {},
   "outputs": [
    {
     "data": {
      "text/plain": [
       "array([0.32416532, 0.32757171, 0.24380453, ..., 0.32577115, 0.30756824,\n",
       "       0.3208186 ])"
      ]
     },
     "execution_count": 118,
     "metadata": {},
     "output_type": "execute_result"
    }
   ],
   "source": [
    "pr=ada_best.predict_proba(df_test1)[:,1]\n",
    "pr"
   ]
  },
  {
   "cell_type": "code",
   "execution_count": 119,
   "id": "72963f81",
   "metadata": {},
   "outputs": [
    {
     "data": {
      "text/plain": [
       "array([0.32416532])"
      ]
     },
     "execution_count": 119,
     "metadata": {},
     "output_type": "execute_result"
    }
   ],
   "source": [
    "pr[:1]"
   ]
  },
  {
   "cell_type": "code",
   "execution_count": 121,
   "id": "02372da0",
   "metadata": {},
   "outputs": [
    {
     "data": {
      "text/html": [
       "<div>\n",
       "<style scoped>\n",
       "    .dataframe tbody tr th:only-of-type {\n",
       "        vertical-align: middle;\n",
       "    }\n",
       "\n",
       "    .dataframe tbody tr th {\n",
       "        vertical-align: top;\n",
       "    }\n",
       "\n",
       "    .dataframe thead th {\n",
       "        text-align: right;\n",
       "    }\n",
       "</style>\n",
       "<table border=\"1\" class=\"dataframe\">\n",
       "  <thead>\n",
       "    <tr style=\"text-align: right;\">\n",
       "      <th></th>\n",
       "      <th>Response</th>\n",
       "    </tr>\n",
       "    <tr>\n",
       "      <th>LNR</th>\n",
       "      <th></th>\n",
       "    </tr>\n",
       "  </thead>\n",
       "  <tbody>\n",
       "    <tr>\n",
       "      <th>1754</th>\n",
       "      <td>0.324165</td>\n",
       "    </tr>\n",
       "    <tr>\n",
       "      <th>1770</th>\n",
       "      <td>0.327572</td>\n",
       "    </tr>\n",
       "    <tr>\n",
       "      <th>1465</th>\n",
       "      <td>0.243805</td>\n",
       "    </tr>\n",
       "    <tr>\n",
       "      <th>1470</th>\n",
       "      <td>0.247456</td>\n",
       "    </tr>\n",
       "    <tr>\n",
       "      <th>1478</th>\n",
       "      <td>0.260339</td>\n",
       "    </tr>\n",
       "    <tr>\n",
       "      <th>1782</th>\n",
       "      <td>0.245317</td>\n",
       "    </tr>\n",
       "    <tr>\n",
       "      <th>1485</th>\n",
       "      <td>0.256783</td>\n",
       "    </tr>\n",
       "    <tr>\n",
       "      <th>1519</th>\n",
       "      <td>0.325771</td>\n",
       "    </tr>\n",
       "    <tr>\n",
       "      <th>1835</th>\n",
       "      <td>0.327572</td>\n",
       "    </tr>\n",
       "    <tr>\n",
       "      <th>1522</th>\n",
       "      <td>0.266292</td>\n",
       "    </tr>\n",
       "  </tbody>\n",
       "</table>\n",
       "</div>"
      ],
      "text/plain": [
       "      Response\n",
       "LNR           \n",
       "1754  0.324165\n",
       "1770  0.327572\n",
       "1465  0.243805\n",
       "1470  0.247456\n",
       "1478  0.260339\n",
       "1782  0.245317\n",
       "1485  0.256783\n",
       "1519  0.325771\n",
       "1835  0.327572\n",
       "1522  0.266292"
      ]
     },
     "execution_count": 121,
     "metadata": {},
     "output_type": "execute_result"
    }
   ],
   "source": [
    "ind=df_test1['LNR']\n",
    "df_pred=pd.DataFrame(index=ind)\n",
    "df_pred['Response']=pr\n",
    "df_pred.head(10)"
   ]
  },
  {
   "cell_type": "code",
   "execution_count": 120,
   "id": "6aa31e04",
   "metadata": {},
   "outputs": [
    {
     "data": {
      "text/html": [
       "<div>\n",
       "<style scoped>\n",
       "    .dataframe tbody tr th:only-of-type {\n",
       "        vertical-align: middle;\n",
       "    }\n",
       "\n",
       "    .dataframe tbody tr th {\n",
       "        vertical-align: top;\n",
       "    }\n",
       "\n",
       "    .dataframe thead th {\n",
       "        text-align: right;\n",
       "    }\n",
       "</style>\n",
       "<table border=\"1\" class=\"dataframe\">\n",
       "  <thead>\n",
       "    <tr style=\"text-align: right;\">\n",
       "      <th></th>\n",
       "      <th>Response</th>\n",
       "    </tr>\n",
       "  </thead>\n",
       "  <tbody>\n",
       "    <tr>\n",
       "      <th>count</th>\n",
       "      <td>42833.000000</td>\n",
       "    </tr>\n",
       "    <tr>\n",
       "      <th>mean</th>\n",
       "      <td>0.278459</td>\n",
       "    </tr>\n",
       "    <tr>\n",
       "      <th>std</th>\n",
       "      <td>0.033866</td>\n",
       "    </tr>\n",
       "    <tr>\n",
       "      <th>min</th>\n",
       "      <td>0.234973</td>\n",
       "    </tr>\n",
       "    <tr>\n",
       "      <th>25%</th>\n",
       "      <td>0.245797</td>\n",
       "    </tr>\n",
       "    <tr>\n",
       "      <th>50%</th>\n",
       "      <td>0.262929</td>\n",
       "    </tr>\n",
       "    <tr>\n",
       "      <th>75%</th>\n",
       "      <td>0.309129</td>\n",
       "    </tr>\n",
       "    <tr>\n",
       "      <th>max</th>\n",
       "      <td>0.336936</td>\n",
       "    </tr>\n",
       "  </tbody>\n",
       "</table>\n",
       "</div>"
      ],
      "text/plain": [
       "           Response\n",
       "count  42833.000000\n",
       "mean       0.278459\n",
       "std        0.033866\n",
       "min        0.234973\n",
       "25%        0.245797\n",
       "50%        0.262929\n",
       "75%        0.309129\n",
       "max        0.336936"
      ]
     },
     "execution_count": 120,
     "metadata": {},
     "output_type": "execute_result"
    }
   ],
   "source": [
    "df_pred.describe()"
   ]
  }
 ],
 "metadata": {
  "kernelspec": {
   "display_name": "Python 3 (ipykernel)",
   "language": "python",
   "name": "python3"
  },
  "language_info": {
   "codemirror_mode": {
    "name": "ipython",
    "version": 3
   },
   "file_extension": ".py",
   "mimetype": "text/x-python",
   "name": "python",
   "nbconvert_exporter": "python",
   "pygments_lexer": "ipython3",
   "version": "3.9.12"
  }
 },
 "nbformat": 4,
 "nbformat_minor": 5
}
